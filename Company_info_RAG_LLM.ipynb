{
 "cells": [
  {
   "cell_type": "code",
   "execution_count": 27,
   "metadata": {},
   "outputs": [],
   "source": [
    "from dotenv import load_dotenv\n",
    "import os\n",
    "import dspy\n",
    "load_dotenv()\n",
    "import ujson"
   ]
  },
  {
   "cell_type": "markdown",
   "metadata": {},
   "source": [
    "Här använder jag istället en lokal modell som inte har så mycket information:"
   ]
  },
  {
   "cell_type": "code",
   "execution_count": 28,
   "metadata": {},
   "outputs": [],
   "source": [
    "import dspy\n",
    "lm = dspy.LM('ollama_chat/llama3.2', api_base='http://localhost:11434', api_key='')\n",
    "dspy.configure(lm=lm)"
   ]
  },
  {
   "cell_type": "code",
   "execution_count": 29,
   "metadata": {},
   "outputs": [
    {
     "name": "stdout",
     "output_type": "stream",
     "text": [
      "Collected 7 documents\n",
      "First document preview: Additional Information\n",
      "Certifications: NordicTech Solutions is certified under ISO 27001 for information security, ensuring that customer data is handled with the highest security standards.\n",
      "Environmental Commitment: The company is committed to sustainability, operating all its cloud-based servers with 100% renewable energy, aligning with Sweden’s ambitious climate goals.\n",
      "Customers: Over 50 active customers in the Nordic region as of October 2025, including leading logistics companies, e-commerc\n"
     ]
    }
   ],
   "source": [
    "corpus = []\n",
    "\n",
    "folder_path = \"./company_map\"\n",
    "\n",
    "for filename in os.listdir(folder_path):\n",
    "    file_path = os.path.join(folder_path, filename)\n",
    "    try:\n",
    "        with open(file_path, 'r', encoding='utf-8') as f:\n",
    "            text = f.read().strip()  # Remove any leading/trailing whitespace\n",
    "            if text:  # Only add non-empty strings\n",
    "                corpus.append(str(text))  # Ensure it's a string\n",
    "    except Exception as e:\n",
    "        print(f\"Error reading file {filename}: {str(e)}\")\n",
    "\n",
    "print(f\"Collected {len(corpus)} documents\")\n",
    "print(\"First document preview:\", corpus[0][:500] if corpus else \"No documents collected\")\n"
   ]
  },
  {
   "cell_type": "code",
   "execution_count": 30,
   "metadata": {},
   "outputs": [],
   "source": [
    "topk_docs_to_retrieve = 1\n",
    "\n",
    "embedder = dspy.Embedder('openai/text-embedding-3-small', dimensions=512)\n",
    "search = dspy.retrievers.Embeddings(embedder=embedder, corpus=corpus, k=topk_docs_to_retrieve)"
   ]
  },
  {
   "cell_type": "code",
   "execution_count": 38,
   "metadata": {},
   "outputs": [],
   "source": [
    "class RAG(dspy.Signature):\n",
    "    context: str = dspy.InputField(desc=\"Context provided to help answer the question\")\n",
    "    question: str = dspy.InputField(desc=\"Questions asked by the user\")\n",
    "    response: str = dspy.OutputField(desc=\"Response to the question\")\n",
    "\n",
    "class Model(dspy.Module):\n",
    "    def __init__(self):\n",
    "        super().__init__()\n",
    "        self.respond = dspy.ChainOfThought(RAG)\n",
    "\n",
    "    def forward(self, question: str):\n",
    "        context = search(question).passages\n",
    "        return self.respond(context=context, question=question)"
   ]
  },
  {
   "cell_type": "code",
   "execution_count": 32,
   "metadata": {},
   "outputs": [],
   "source": [
    "rag = Model()"
   ]
  },
  {
   "cell_type": "code",
   "execution_count": null,
   "metadata": {},
   "outputs": [
    {
     "data": {
      "text/plain": [
       "Prediction(\n",
       "    reasoning='NordicTech Solutions har flera konkurrenter i branschen, som beskrivs i sin egen marknadsföring. Utöver de lokala aktörerna AIStart Sweden och FlowTech, finns det globala ledare som UiPath och Automation Anywhere.',\n",
       "    response='NordicTech Solutions har flera konkurrenter, bland annat AIStart Sweden, FlowTech, UiPath och Automation Anywhere.'\n",
       ")"
      ]
     },
     "execution_count": 33,
     "metadata": {},
     "output_type": "execute_result"
    }
   ],
   "source": [
    "rag(question=\"Does NordicTech Solutions have any competitors?\")"
   ]
  },
  {
   "cell_type": "code",
   "execution_count": 35,
   "metadata": {},
   "outputs": [
    {
     "name": "stdout",
     "output_type": "stream",
     "text": [
      "\n",
      "\n",
      "\n",
      "\n",
      "\u001b[34m[2025-05-20T12:39:28.639600]\u001b[0m\n",
      "\n",
      "\u001b[31mSystem message:\u001b[0m\n",
      "\n",
      "Your input fields are:\n",
      "1. `context` (str): Context provided to help answer the question\n",
      "2. `question` (str): Questions asked by the user\n",
      "Your output fields are:\n",
      "1. `reasoning` (str)\n",
      "2. `response` (str): Response to the question\n",
      "All interactions will be structured in the following way, with the appropriate values filled in.\n",
      "\n",
      "[[ ## context ## ]]\n",
      "{context}\n",
      "\n",
      "[[ ## question ## ]]\n",
      "{question}\n",
      "\n",
      "[[ ## reasoning ## ]]\n",
      "{reasoning}\n",
      "\n",
      "[[ ## response ## ]]\n",
      "{response}\n",
      "\n",
      "[[ ## completed ## ]]\n",
      "In adhering to this structure, your objective is: \n",
      "        Given the fields `context`, `question`, produce the fields `response`.\n",
      "\n",
      "\n",
      "\u001b[31mUser message:\u001b[0m\n",
      "\n",
      "[[ ## context ## ]]\n",
      "«««\n",
      "    Competitors\n",
      "    NordicTech Solutions operates in a competitive industry but has identified several competitive advantages:\n",
      "    Global Players:\n",
      "    UiPath: A global leader in robotic process automation (RPA), but their solutions are often costly and complex for smaller businesses.\n",
      "    Automation Anywhere: Focused on large-scale enterprises, making their products less suitable for SMEs.\n",
      "    Local Players:\n",
      "    AIStart Sweden: A smaller competitor focused on AI for startups but with limited scalability.\n",
      "    FlowTech: Offers similar solutions but lacks NordicTech’s emphasis on user-friendliness and local support.\n",
      "    Competitive Advantages:\n",
      "    User-Friendly Design: AI-Workflow is intuitive and requires minimal technical expertise to implement.\n",
      "    Affordability: Solutions are tailored for SMEs with constrained budgets.\n",
      "    Local Support: Customer support in Nordic languages and a deep understanding of regional business needs.\n",
      "»»»\n",
      "\n",
      "[[ ## question ## ]]\n",
      "Vad har NordicTech Solutions för konkurrenter?\n",
      "\n",
      "Respond with the corresponding output fields, starting with the field `[[ ## reasoning ## ]]`, then `[[ ## response ## ]]`, and then ending with the marker for `[[ ## completed ## ]]`.\n",
      "\n",
      "\n",
      "\u001b[31mResponse:\u001b[0m\n",
      "\n",
      "\u001b[32m[[ ## reasoning ## ]]\n",
      "NordicTech Solutions har flera konkurrenter i branschen, som beskrivs i sin egen marknadsföring. Utöver de lokala aktörerna AIStart Sweden och FlowTech, finns det globala ledare som UiPath och Automation Anywhere.\n",
      "\n",
      "[[ ## response ## ]]\n",
      "NordicTech Solutions har flera konkurrenter, bland annat AIStart Sweden, FlowTech, UiPath och Automation Anywhere.\n",
      "\n",
      "[[ ## completed ## ]]\u001b[0m\n",
      "\n",
      "\n",
      "\n",
      "\n",
      "\n"
     ]
    }
   ],
   "source": [
    "dspy.inspect_history(n=1)"
   ]
  },
  {
   "cell_type": "code",
   "execution_count": 36,
   "metadata": {},
   "outputs": [
    {
     "data": {
      "text/plain": [
       "Prediction(\n",
       "    reasoning='The context provided mentions specific launch dates (2026) and expansion plans (2027), as well as a long-term goal to become the leading AI platform for SMEs in Europe. This information suggests that NordicTech Solutions has indeed made future plans, which can be inferred from the given details.',\n",
       "    response='Yes, NordicTech Solutions has announced several future plans, including the launch of AI-Workflow 2.0 in 2026 and expansion into Germany and the United Kingdom in 2027. The company aims to become the leading AI platform for SMEs in Europe within five years.'\n",
       ")"
      ]
     },
     "execution_count": 36,
     "metadata": {},
     "output_type": "execute_result"
    }
   ],
   "source": [
    "rag(question=\"Does NordicTech Solutions have any future plans?\")"
   ]
  },
  {
   "cell_type": "code",
   "execution_count": 37,
   "metadata": {},
   "outputs": [
    {
     "name": "stdout",
     "output_type": "stream",
     "text": [
      "\n",
      "\n",
      "\n",
      "\n",
      "\u001b[34m[2025-05-20T12:41:53.650242]\u001b[0m\n",
      "\n",
      "\u001b[31mSystem message:\u001b[0m\n",
      "\n",
      "Your input fields are:\n",
      "1. `context` (str): Context provided to help answer the question\n",
      "2. `question` (str): Questions asked by the user\n",
      "Your output fields are:\n",
      "1. `reasoning` (str)\n",
      "2. `response` (str): Response to the question\n",
      "All interactions will be structured in the following way, with the appropriate values filled in.\n",
      "\n",
      "[[ ## context ## ]]\n",
      "{context}\n",
      "\n",
      "[[ ## question ## ]]\n",
      "{question}\n",
      "\n",
      "[[ ## reasoning ## ]]\n",
      "{reasoning}\n",
      "\n",
      "[[ ## response ## ]]\n",
      "{response}\n",
      "\n",
      "[[ ## completed ## ]]\n",
      "In adhering to this structure, your objective is: \n",
      "        Given the fields `context`, `question`, produce the fields `response`.\n",
      "\n",
      "\n",
      "\u001b[31mUser message:\u001b[0m\n",
      "\n",
      "[[ ## context ## ]]\n",
      "«««\n",
      "    Future Plans\n",
      "    NordicTech Solutions has ambitious goals for the coming years:\n",
      "    2026: Launch of AI-Workflow 2.0, which will include advanced features for predictive analytics, such as demand forecasting and automated resource allocation, further enhancing the platform’s value to customers.\n",
      "    2027: Expansion into Germany and the United Kingdom, two of Europe’s largest markets for tech solutions. The company plans to establish local offices and hire regional teams to support this expansion.\n",
      "    Long-Term Goal: To become the leading AI platform for SMEs in Europe, with a customer base of over 10,000 businesses and a market valuation exceeding SEK 1 billion within five years.\n",
      "»»»\n",
      "\n",
      "[[ ## question ## ]]\n",
      "Does NordicTech Solutions have any future plans?\n",
      "\n",
      "Respond with the corresponding output fields, starting with the field `[[ ## reasoning ## ]]`, then `[[ ## response ## ]]`, and then ending with the marker for `[[ ## completed ## ]]`.\n",
      "\n",
      "\n",
      "\u001b[31mResponse:\u001b[0m\n",
      "\n",
      "\u001b[32m[[ ## reasoning ## ]]\n",
      "The context provided mentions specific launch dates (2026) and expansion plans (2027), as well as a long-term goal to become the leading AI platform for SMEs in Europe. This information suggests that NordicTech Solutions has indeed made future plans, which can be inferred from the given details.\n",
      "\n",
      "[[ ## response ## ]]\n",
      "Yes, NordicTech Solutions has announced several future plans, including the launch of AI-Workflow 2.0 in 2026 and expansion into Germany and the United Kingdom in 2027. The company aims to become the leading AI platform for SMEs in Europe within five years.\n",
      "\n",
      "[[ ## completed ## ]]\u001b[0m\n",
      "\n",
      "\n",
      "\n",
      "\n",
      "\n"
     ]
    }
   ],
   "source": [
    "dspy.inspect_history(n=1)"
   ]
  },
  {
   "cell_type": "code",
   "execution_count": null,
   "metadata": {},
   "outputs": [],
   "source": []
  }
 ],
 "metadata": {
  "kernelspec": {
   "display_name": "venv",
   "language": "python",
   "name": "python3"
  },
  "language_info": {
   "codemirror_mode": {
    "name": "ipython",
    "version": 3
   },
   "file_extension": ".py",
   "mimetype": "text/x-python",
   "name": "python",
   "nbconvert_exporter": "python",
   "pygments_lexer": "ipython3",
   "version": "3.11.5"
  }
 },
 "nbformat": 4,
 "nbformat_minor": 2
}
