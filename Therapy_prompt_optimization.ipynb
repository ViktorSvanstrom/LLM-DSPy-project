{
 "cells": [
  {
   "cell_type": "code",
   "execution_count": 1,
   "metadata": {},
   "outputs": [
    {
     "name": "stderr",
     "output_type": "stream",
     "text": [
      "/Users/viktorsvan/Python_koder/ingenjor_A_och_maskininlarnings_kod/LLM-DSPy-project/venv/lib/python3.11/site-packages/tqdm/auto.py:21: TqdmWarning: IProgress not found. Please update jupyter and ipywidgets. See https://ipywidgets.readthedocs.io/en/stable/user_install.html\n",
      "  from .autonotebook import tqdm as notebook_tqdm\n"
     ]
    },
    {
     "data": {
      "text/plain": [
       "True"
      ]
     },
     "execution_count": 1,
     "metadata": {},
     "output_type": "execute_result"
    }
   ],
   "source": [
    "from dotenv import load_dotenv\n",
    "import os\n",
    "import dspy\n",
    "load_dotenv()"
   ]
  },
  {
   "cell_type": "code",
   "execution_count": 2,
   "metadata": {},
   "outputs": [
    {
     "data": {
      "text/plain": [
       "['The current year is 2023.']"
      ]
     },
     "execution_count": 2,
     "metadata": {},
     "output_type": "execute_result"
    }
   ],
   "source": [
    "lm = dspy.LM('openai/gpt-4o-mini', api_key=os.getenv('OPENAI_API_KEY'), temperature=1)\n",
    "dspy.configure(lm=lm)\n",
    "\n",
    "\n",
    "lm(\"What year is it?\") "
   ]
  },
  {
   "cell_type": "markdown",
   "metadata": {},
   "source": [
    "Signatures\n",
    "\n",
    "Strukturera vad LMM kommer göra:"
   ]
  },
  {
   "cell_type": "code",
   "execution_count": 3,
   "metadata": {},
   "outputs": [],
   "source": [
    "class Chat(dspy.Signature):\n",
    "    \"You are a helpful assistant.\"\n",
    "    \n",
    "    question: str = dspy.InputField(desc=\"Questions asked by the user\")\n",
    "    response: str = dspy.OutputField(desc=\"Response to the question\")"
   ]
  },
  {
   "cell_type": "markdown",
   "metadata": {},
   "source": [
    "Modules:\n",
    "\n",
    "Här programmerar vi olika prompting tekniker till våra signatures istället för att skriva dom:"
   ]
  },
  {
   "cell_type": "code",
   "execution_count": 4,
   "metadata": {},
   "outputs": [],
   "source": [
    "class Model(dspy.Module):\n",
    "    def __init__(self):\n",
    "        super().__init__()\n",
    "        self.respond = dspy.Predict(Chat)\n",
    "\n",
    "    def forward(self, question: str):\n",
    "        return self.respond(question=question)"
   ]
  },
  {
   "cell_type": "code",
   "execution_count": 5,
   "metadata": {},
   "outputs": [],
   "source": [
    "model = Model()\n",
    "response = model(question=\"Why is the earth round?\")"
   ]
  },
  {
   "cell_type": "code",
   "execution_count": 6,
   "metadata": {},
   "outputs": [
    {
     "name": "stdout",
     "output_type": "stream",
     "text": [
      "\n",
      "\n",
      "\n",
      "\n",
      "\u001b[34m[2025-05-19T16:30:21.472415]\u001b[0m\n",
      "\n",
      "\u001b[31mSystem message:\u001b[0m\n",
      "\n",
      "Your input fields are:\n",
      "1. `question` (str): Questions asked by the user\n",
      "Your output fields are:\n",
      "1. `response` (str): Response to the question\n",
      "All interactions will be structured in the following way, with the appropriate values filled in.\n",
      "\n",
      "[[ ## question ## ]]\n",
      "{question}\n",
      "\n",
      "[[ ## response ## ]]\n",
      "{response}\n",
      "\n",
      "[[ ## completed ## ]]\n",
      "In adhering to this structure, your objective is: \n",
      "        You are a helpful assistant.\n",
      "\n",
      "\n",
      "\u001b[31mUser message:\u001b[0m\n",
      "\n",
      "[[ ## question ## ]]\n",
      "Why is the earth round?\n",
      "\n",
      "Respond with the corresponding output fields, starting with the field `[[ ## response ## ]]`, and then ending with the marker for `[[ ## completed ## ]]`.\n",
      "\n",
      "\n",
      "\u001b[31mResponse:\u001b[0m\n",
      "\n",
      "\u001b[32m[[ ## response ## ]]\n",
      "The Earth is round primarily due to the force of gravity. As the planet formed, gravity pulled material towards its center, causing it to take on a shape that allows for the most efficient distribution of mass: a sphere. This shape minimizes potential energy and allows for a balanced gravitational pull from all directions. Additionally, the rotation of the Earth causes it to bulge slightly at the equator, giving it an oblate spheroid shape rather than a perfect sphere, but it is generally referred to as round.\n",
      "\n",
      "[[ ## completed ## ]]\u001b[0m\n",
      "\n",
      "\n",
      "\n",
      "\n",
      "\n"
     ]
    }
   ],
   "source": [
    "lm.inspect_history()"
   ]
  },
  {
   "cell_type": "code",
   "execution_count": 7,
   "metadata": {},
   "outputs": [],
   "source": [
    "class Model(dspy.Module):\n",
    "    def __init__(self):\n",
    "        super().__init__()\n",
    "        self.respond = dspy.ChainOfThought(Chat)\n",
    "\n",
    "    def forward(self, question: str):\n",
    "        return self.respond(question=question)"
   ]
  },
  {
   "cell_type": "code",
   "execution_count": 8,
   "metadata": {},
   "outputs": [],
   "source": [
    "class Model(dspy.Module):\n",
    "    def __init__(self):\n",
    "        super().__init__()\n",
    "        self.respond = dspy.ChainOfThought(Chat)\n",
    "\n",
    "    def forward(self, question: str):\n",
    "        return self.respond(question=question)"
   ]
  },
  {
   "cell_type": "code",
   "execution_count": 9,
   "metadata": {},
   "outputs": [],
   "source": [
    "model = Model()\n",
    "response = model(question=\"Why is the earth round?\")"
   ]
  },
  {
   "cell_type": "code",
   "execution_count": 10,
   "metadata": {},
   "outputs": [
    {
     "name": "stdout",
     "output_type": "stream",
     "text": [
      "\n",
      "\n",
      "\n",
      "\n",
      "\u001b[34m[2025-05-19T16:30:21.531147]\u001b[0m\n",
      "\n",
      "\u001b[31mSystem message:\u001b[0m\n",
      "\n",
      "Your input fields are:\n",
      "1. `question` (str): Questions asked by the user\n",
      "Your output fields are:\n",
      "1. `reasoning` (str)\n",
      "2. `response` (str): Response to the question\n",
      "All interactions will be structured in the following way, with the appropriate values filled in.\n",
      "\n",
      "[[ ## question ## ]]\n",
      "{question}\n",
      "\n",
      "[[ ## reasoning ## ]]\n",
      "{reasoning}\n",
      "\n",
      "[[ ## response ## ]]\n",
      "{response}\n",
      "\n",
      "[[ ## completed ## ]]\n",
      "In adhering to this structure, your objective is: \n",
      "        You are a helpful assistant.\n",
      "\n",
      "\n",
      "\u001b[31mUser message:\u001b[0m\n",
      "\n",
      "[[ ## question ## ]]\n",
      "Why is the earth round?\n",
      "\n",
      "Respond with the corresponding output fields, starting with the field `[[ ## reasoning ## ]]`, then `[[ ## response ## ]]`, and then ending with the marker for `[[ ## completed ## ]]`.\n",
      "\n",
      "\n",
      "\u001b[31mResponse:\u001b[0m\n",
      "\n",
      "\u001b[32m[[ ## reasoning ## ]]\n",
      "The Earth is round due to the gravitational forces acting upon it. When a planet forms, its mass draws matter toward its center, leading to a shape that minimizes potential energy. This shape is a sphere, as it allows for the most uniform distribution of gravitational force across the entire object. Additionally, the Earth's rotation causes an equatorial bulge, making it an oblate spheroid rather than a perfect sphere, but the overall roundness is a result of its formation and the forces at play.\n",
      "\n",
      "[[ ## response ## ]]\n",
      "The Earth is round because its gravity pulls matter into a shape that minimizes energy, resulting in a spherical form. This is typical for large celestial bodies, and while the Earth is not a perfect sphere due to its rotation, it still maintains a round shape overall.\n",
      "\n",
      "[[ ## completed ## ]]\u001b[0m\n",
      "\n",
      "\n",
      "\n",
      "\n",
      "\n"
     ]
    }
   ],
   "source": [
    "lm.inspect_history()"
   ]
  },
  {
   "cell_type": "markdown",
   "metadata": {},
   "source": [
    "Evaluators:\n",
    "\n",
    "För att mäta hur bra din modell presterar till din task behöver du specificera metrics, men först ha data som den kan evalueras mot - DSPy exapmles"
   ]
  },
  {
   "cell_type": "markdown",
   "metadata": {},
   "source": [
    "Dataset från Kaggle om terapi. \n",
    "\n",
    "Beskrivning: \"This dataset is a curated collection of questions and answers sourced from two prominent online counseling and therapy platforms.\""
   ]
  },
  {
   "cell_type": "code",
   "execution_count": 11,
   "metadata": {},
   "outputs": [],
   "source": [
    "import kagglehub\n",
    "\n",
    "path = kagglehub.dataset_download(\"melissamonfared/mental-health-counseling-conversations-k\")\n",
    "\n",
    "path += \"/combined_dataset.json\""
   ]
  },
  {
   "cell_type": "code",
   "execution_count": 12,
   "metadata": {},
   "outputs": [
    {
     "name": "stdout",
     "output_type": "stream",
     "text": [
      "(3512, 2)\n"
     ]
    }
   ],
   "source": [
    "import pandas as pd\n",
    "\n",
    "df = pd.read_json(path, lines=True)\n",
    "df = df.sample(frac=1, random_state=30).reset_index(drop=True)\n",
    "\n",
    "print(df.shape)"
   ]
  },
  {
   "cell_type": "code",
   "execution_count": 13,
   "metadata": {},
   "outputs": [
    {
     "name": "stdout",
     "output_type": "stream",
     "text": [
      "                                             Context  \\\n",
      "0  When my daughter is stressed about a silly thi...   \n",
      "1  I've been going through a rough time lately. I...   \n",
      "2  I'm in my early 20s, and I've been seeing my b...   \n",
      "\n",
      "                                            Response  \n",
      "0  I agree with your observation about your daugh...  \n",
      "1  Hi Brookfield, It can be unsettling when we fe...  \n",
      "2  Hello, and thank you for your question. I am v...  \n",
      "                                               Context  \\\n",
      "197  I'm always listening to my husband, but it fee...   \n",
      "198  I'm a female in my mid 20s. Lately I tend to o...   \n",
      "199  A lot of times, I avoid situations where I am ...   \n",
      "\n",
      "                                              Response  \n",
      "197  Have the two of you ever discussed how you fee...  \n",
      "198  Speaking with a licensed therapist will help y...  \n",
      "199  Why not accept and tolerate that you naturally...  \n"
     ]
    }
   ],
   "source": [
    "df = df[:200]\n",
    "\n",
    "print(df.head(3))\n",
    "print(df.tail(3))"
   ]
  },
  {
   "cell_type": "code",
   "execution_count": 14,
   "metadata": {},
   "outputs": [
    {
     "data": {
      "text/html": [
       "<div>\n",
       "<style scoped>\n",
       "    .dataframe tbody tr th:only-of-type {\n",
       "        vertical-align: middle;\n",
       "    }\n",
       "\n",
       "    .dataframe tbody tr th {\n",
       "        vertical-align: top;\n",
       "    }\n",
       "\n",
       "    .dataframe thead th {\n",
       "        text-align: right;\n",
       "    }\n",
       "</style>\n",
       "<table border=\"1\" class=\"dataframe\">\n",
       "  <thead>\n",
       "    <tr style=\"text-align: right;\">\n",
       "      <th></th>\n",
       "      <th>question</th>\n",
       "      <th>response</th>\n",
       "    </tr>\n",
       "  </thead>\n",
       "  <tbody>\n",
       "    <tr>\n",
       "      <th>0</th>\n",
       "      <td>When my daughter is stressed about a silly thi...</td>\n",
       "      <td>I agree with your observation about your daugh...</td>\n",
       "    </tr>\n",
       "    <tr>\n",
       "      <th>1</th>\n",
       "      <td>I've been going through a rough time lately. I...</td>\n",
       "      <td>Hi Brookfield, It can be unsettling when we fe...</td>\n",
       "    </tr>\n",
       "    <tr>\n",
       "      <th>2</th>\n",
       "      <td>I'm in my early 20s, and I've been seeing my b...</td>\n",
       "      <td>Hello, and thank you for your question. I am v...</td>\n",
       "    </tr>\n",
       "    <tr>\n",
       "      <th>3</th>\n",
       "      <td>After I told them, they yelled at me.</td>\n",
       "      <td>It sounds like your family responded out of fe...</td>\n",
       "    </tr>\n",
       "    <tr>\n",
       "      <th>4</th>\n",
       "      <td>I start counseling/therapy in a few days (I'm ...</td>\n",
       "      <td>Please feel free to cry during therapy if you ...</td>\n",
       "    </tr>\n",
       "    <tr>\n",
       "      <th>...</th>\n",
       "      <td>...</td>\n",
       "      <td>...</td>\n",
       "    </tr>\n",
       "    <tr>\n",
       "      <th>195</th>\n",
       "      <td>I start counseling/therapy in a few days (I'm ...</td>\n",
       "      <td>Please feel free to cry during therapy if you ...</td>\n",
       "    </tr>\n",
       "    <tr>\n",
       "      <th>196</th>\n",
       "      <td>My girlfriend and I have broken up and gotten ...</td>\n",
       "      <td>Love is not enough to keep a relationship toge...</td>\n",
       "    </tr>\n",
       "    <tr>\n",
       "      <th>197</th>\n",
       "      <td>I'm always listening to my husband, but it fee...</td>\n",
       "      <td>Have the two of you ever discussed how you fee...</td>\n",
       "    </tr>\n",
       "    <tr>\n",
       "      <th>198</th>\n",
       "      <td>I'm a female in my mid 20s. Lately I tend to o...</td>\n",
       "      <td>Speaking with a licensed therapist will help y...</td>\n",
       "    </tr>\n",
       "    <tr>\n",
       "      <th>199</th>\n",
       "      <td>A lot of times, I avoid situations where I am ...</td>\n",
       "      <td>Why not accept and tolerate that you naturally...</td>\n",
       "    </tr>\n",
       "  </tbody>\n",
       "</table>\n",
       "<p>200 rows × 2 columns</p>\n",
       "</div>"
      ],
      "text/plain": [
       "                                              question  \\\n",
       "0    When my daughter is stressed about a silly thi...   \n",
       "1    I've been going through a rough time lately. I...   \n",
       "2    I'm in my early 20s, and I've been seeing my b...   \n",
       "3                After I told them, they yelled at me.   \n",
       "4    I start counseling/therapy in a few days (I'm ...   \n",
       "..                                                 ...   \n",
       "195  I start counseling/therapy in a few days (I'm ...   \n",
       "196  My girlfriend and I have broken up and gotten ...   \n",
       "197  I'm always listening to my husband, but it fee...   \n",
       "198  I'm a female in my mid 20s. Lately I tend to o...   \n",
       "199  A lot of times, I avoid situations where I am ...   \n",
       "\n",
       "                                              response  \n",
       "0    I agree with your observation about your daugh...  \n",
       "1    Hi Brookfield, It can be unsettling when we fe...  \n",
       "2    Hello, and thank you for your question. I am v...  \n",
       "3    It sounds like your family responded out of fe...  \n",
       "4    Please feel free to cry during therapy if you ...  \n",
       "..                                                 ...  \n",
       "195  Please feel free to cry during therapy if you ...  \n",
       "196  Love is not enough to keep a relationship toge...  \n",
       "197  Have the two of you ever discussed how you fee...  \n",
       "198  Speaking with a licensed therapist will help y...  \n",
       "199  Why not accept and tolerate that you naturally...  \n",
       "\n",
       "[200 rows x 2 columns]"
      ]
     },
     "execution_count": 14,
     "metadata": {},
     "output_type": "execute_result"
    }
   ],
   "source": [
    "df.columns = ['question', 'response']\n",
    "df"
   ]
  },
  {
   "cell_type": "code",
   "execution_count": 15,
   "metadata": {},
   "outputs": [],
   "source": [
    "data = df.to_dict(orient='records')\n",
    "data = [dspy.Example(**d).with_inputs('question') for d in data]"
   ]
  },
  {
   "cell_type": "code",
   "execution_count": 16,
   "metadata": {},
   "outputs": [
    {
     "data": {
      "text/plain": [
       "Example({'question': \"When my daughter is stressed about a silly thing from school, she starts crying and freaking out. She is a bright student, always has a 4.0, but I am afraid she is stressing too much. I’m afraid it’s going to break her. I don't know if I should get her to a doctor or someone because this is not normal.\", 'response': \"I agree with your observation about your daughter feeling stressed. \\xa0Are you able to open this topic in conversation with her?Also, reflect on your own expectations as a parent. \\xa0It is possible that your daughter is trying to please you by getting consistently high grades.If your daughter prefers talking in confidence to a therapist, then this may help her regain a sense of balance in her life so that schoolwork feels less stressful.I wouldn't take her to a doctor because based on what you write, the problem is psychological and emotionally based. \\xa0While the stress may have physical symptoms, addressing the root cause of the problem has nothing to do directly with something being physically wrong with your daughter.Unless there is some other medical or physical problem that would explain your daughter's sense of stress, \\xa0I'd start first by bringing your areas of concern to your daughter, then possibly to a therapist.\"}) (input_keys={'question'})"
      ]
     },
     "execution_count": 16,
     "metadata": {},
     "output_type": "execute_result"
    }
   ],
   "source": [
    "example = data[0]\n",
    "example"
   ]
  },
  {
   "cell_type": "markdown",
   "metadata": {},
   "source": [
    "Till skillnad från vanlig ML träning: Så ska man dela upp datasetet med 20 procent till träning och 80 procent till validering. \n"
   ]
  },
  {
   "cell_type": "code",
   "execution_count": 17,
   "metadata": {},
   "outputs": [
    {
     "data": {
      "text/plain": [
       "(40, 160)"
      ]
     },
     "execution_count": 17,
     "metadata": {},
     "output_type": "execute_result"
    }
   ],
   "source": [
    "trainset = data[:40]   # 20% \n",
    "valset = data[40:200]  # 80% \n",
    "    \n",
    "len(trainset), len(valset)"
   ]
  },
  {
   "cell_type": "markdown",
   "metadata": {},
   "source": [
    "SemanticF1 är en evaluation metric som DSPy erbjuder och är som en \"LLM judge\" som kollar på hur mycket nyckelfaktorerna i det riktiga svaret stämmer överens med predictionen och hur mycket tar den upp som inte är med i riktiga svaret. Threshold avgör hur likt det måste vara.\n",
    "\n",
    "Underliggande kod:\n",
    "https://github.com/stanfordnlp/dspy/blob/main/dspy/evaluate/auto_evaluation.py#L21\n"
   ]
  },
  {
   "cell_type": "code",
   "execution_count": 18,
   "metadata": {},
   "outputs": [],
   "source": [
    "from dspy.evaluate import SemanticF1\n",
    "metric = SemanticF1(threshold=0.66)"
   ]
  },
  {
   "cell_type": "code",
   "execution_count": 19,
   "metadata": {},
   "outputs": [
    {
     "name": "stdout",
     "output_type": "stream",
     "text": [
      "Question: \t When my daughter is stressed about a silly thing from school, she starts crying and freaking out. She is a bright student, always has a 4.0, but I am afraid she is stressing too much. I’m afraid it’s going to break her. I don't know if I should get her to a doctor or someone because this is not normal.\n",
      "\n",
      "Gold Response: \t I agree with your observation about your daughter feeling stressed.  Are you able to open this topic in conversation with her?Also, reflect on your own expectations as a parent.  It is possible that your daughter is trying to please you by getting consistently high grades.If your daughter prefers talking in confidence to a therapist, then this may help her regain a sense of balance in her life so that schoolwork feels less stressful.I wouldn't take her to a doctor because based on what you write, the problem is psychological and emotionally based.  While the stress may have physical symptoms, addressing the root cause of the problem has nothing to do directly with something being physically wrong with your daughter.Unless there is some other medical or physical problem that would explain your daughter's sense of stress,  I'd start first by bringing your areas of concern to your daughter, then possibly to a therapist.\n",
      "\n",
      "Predicted Response: \t It's great that you're attentive to your daughter's feelings and behavior. Given her reactions to stress, it might be beneficial to consult a pediatrician or a child psychologist. They can help assess her situation and determine if she needs support in managing stress and anxiety, especially in relation to school pressures. Supporting her with coping strategies and open communication is also essential.\n",
      "\n",
      "Semantic F1 Score: 0.57\n"
     ]
    }
   ],
   "source": [
    "pred = model(example.inputs())\n",
    "\n",
    "\n",
    "score = metric(example, pred)\n",
    "\n",
    "print(f\"Question: \\t {example.question}\\n\")\n",
    "print(f\"Gold Response: \\t {example.response}\\n\")\n",
    "print(f\"Predicted Response: \\t {pred.response}\\n\")\n",
    "print(f\"Semantic F1 Score: {score:.2f}\")"
   ]
  },
  {
   "cell_type": "code",
   "execution_count": 20,
   "metadata": {},
   "outputs": [
    {
     "name": "stdout",
     "output_type": "stream",
     "text": [
      "Average Metric: 21.47 / 40 (53.7%): 100%|██████████| 40/40 [00:00<00:00, 631.64it/s]"
     ]
    },
    {
     "name": "stderr",
     "output_type": "stream",
     "text": [
      "2025/05/19 16:30:22 INFO dspy.evaluate.evaluate: Average Metric: 21.46711643824144 / 40 (53.7%)\n"
     ]
    },
    {
     "name": "stdout",
     "output_type": "stream",
     "text": [
      "\n"
     ]
    },
    {
     "data": {
      "text/html": [
       "<div>\n",
       "<style scoped>\n",
       "    .dataframe tbody tr th:only-of-type {\n",
       "        vertical-align: middle;\n",
       "    }\n",
       "\n",
       "    .dataframe tbody tr th {\n",
       "        vertical-align: top;\n",
       "    }\n",
       "\n",
       "    .dataframe thead th {\n",
       "        text-align: right;\n",
       "    }\n",
       "</style>\n",
       "<table border=\"1\" class=\"dataframe\">\n",
       "  <thead>\n",
       "    <tr style=\"text-align: right;\">\n",
       "      <th></th>\n",
       "      <th>question</th>\n",
       "      <th>example_response</th>\n",
       "      <th>reasoning</th>\n",
       "      <th>pred_response</th>\n",
       "      <th>SemanticF1</th>\n",
       "    </tr>\n",
       "  </thead>\n",
       "  <tbody>\n",
       "    <tr>\n",
       "      <th>0</th>\n",
       "      <td>When my daughter is stressed about a silly thing from school, she ...</td>\n",
       "      <td>I agree with your observation about your daughter feeling stressed...</td>\n",
       "      <td>It's understandable to be concerned when a child exhibits signs of...</td>\n",
       "      <td>It’s important to acknowledge that your daughter's feelings are va...</td>\n",
       "      <td>✔️ [0.769]</td>\n",
       "    </tr>\n",
       "    <tr>\n",
       "      <th>1</th>\n",
       "      <td>I've been going through a rough time lately. I been into nothing b...</td>\n",
       "      <td>Hi Brookfield, It can be unsettling when we feel something as fund...</td>\n",
       "      <td>It's understandable to feel upset and confused about discovering n...</td>\n",
       "      <td>It's completely normal to feel confused and scared during this tim...</td>\n",
       "      <td>✔️ [0.514]</td>\n",
       "    </tr>\n",
       "    <tr>\n",
       "      <th>2</th>\n",
       "      <td>I'm in my early 20s, and I've been seeing my boyfriend for a year ...</td>\n",
       "      <td>Hello, and thank you for your question. I am very sorry that you a...</td>\n",
       "      <td>It's important to recognize that comments about appearance, partic...</td>\n",
       "      <td>It sounds like you're feeling hurt by your boyfriend's recent comm...</td>\n",
       "      <td>✔️ [0.444]</td>\n",
       "    </tr>\n",
       "    <tr>\n",
       "      <th>3</th>\n",
       "      <td>After I told them, they yelled at me.</td>\n",
       "      <td>It sounds like your family responded out of fear! They may need so...</td>\n",
       "      <td>It seems that the user has experienced a negative reaction from ot...</td>\n",
       "      <td>I'm sorry to hear that you had such a difficult experience. It can...</td>\n",
       "      <td></td>\n",
       "    </tr>\n",
       "    <tr>\n",
       "      <th>4</th>\n",
       "      <td>I start counseling/therapy in a few days (I'm freaking out) but my...</td>\n",
       "      <td>Please feel free to cry during therapy if you suddenly feel painfu...</td>\n",
       "      <td>It's completely normal to feel anxious about starting counseling o...</td>\n",
       "      <td>It's understandable to feel freaked out about starting therapy, bu...</td>\n",
       "      <td>✔️ [0.740]</td>\n",
       "    </tr>\n",
       "  </tbody>\n",
       "</table>\n",
       "</div>"
      ],
      "text/plain": [
       "                                                                question  \\\n",
       "0  When my daughter is stressed about a silly thing from school, she ...   \n",
       "1  I've been going through a rough time lately. I been into nothing b...   \n",
       "2  I'm in my early 20s, and I've been seeing my boyfriend for a year ...   \n",
       "3                                  After I told them, they yelled at me.   \n",
       "4  I start counseling/therapy in a few days (I'm freaking out) but my...   \n",
       "\n",
       "                                                        example_response  \\\n",
       "0  I agree with your observation about your daughter feeling stressed...   \n",
       "1  Hi Brookfield, It can be unsettling when we feel something as fund...   \n",
       "2  Hello, and thank you for your question. I am very sorry that you a...   \n",
       "3  It sounds like your family responded out of fear! They may need so...   \n",
       "4  Please feel free to cry during therapy if you suddenly feel painfu...   \n",
       "\n",
       "                                                               reasoning  \\\n",
       "0  It's understandable to be concerned when a child exhibits signs of...   \n",
       "1  It's understandable to feel upset and confused about discovering n...   \n",
       "2  It's important to recognize that comments about appearance, partic...   \n",
       "3  It seems that the user has experienced a negative reaction from ot...   \n",
       "4  It's completely normal to feel anxious about starting counseling o...   \n",
       "\n",
       "                                                           pred_response  \\\n",
       "0  It’s important to acknowledge that your daughter's feelings are va...   \n",
       "1  It's completely normal to feel confused and scared during this tim...   \n",
       "2  It sounds like you're feeling hurt by your boyfriend's recent comm...   \n",
       "3  I'm sorry to hear that you had such a difficult experience. It can...   \n",
       "4  It's understandable to feel freaked out about starting therapy, bu...   \n",
       "\n",
       "   SemanticF1  \n",
       "0  ✔️ [0.769]  \n",
       "1  ✔️ [0.514]  \n",
       "2  ✔️ [0.444]  \n",
       "3              \n",
       "4  ✔️ [0.740]  "
      ]
     },
     "metadata": {},
     "output_type": "display_data"
    },
    {
     "data": {
      "text/html": [
       "\n",
       "            <div style='\n",
       "                text-align: center;\n",
       "                font-size: 16px;\n",
       "                font-weight: bold;\n",
       "                color: #555;\n",
       "                margin: 10px 0;'>\n",
       "                ... 35 more rows not displayed ...\n",
       "            </div>\n",
       "            "
      ],
      "text/plain": [
       "<IPython.core.display.HTML object>"
      ]
     },
     "metadata": {},
     "output_type": "display_data"
    },
    {
     "data": {
      "text/plain": [
       "53.67"
      ]
     },
     "execution_count": 20,
     "metadata": {},
     "output_type": "execute_result"
    }
   ],
   "source": [
    "from dspy.evaluate import Evaluate\n",
    "\n",
    "evaluator = Evaluate(devset=trainset, num_threads=1, display_progress=True, display_table=5)\n",
    "\n",
    "evaluator(model, metric=metric)"
   ]
  },
  {
   "cell_type": "markdown",
   "metadata": {},
   "source": [
    "Så default prompten med Chain of Thought löste thresholden med 42% att likna \"Golden answers\" tillräkligt mycket"
   ]
  },
  {
   "cell_type": "markdown",
   "metadata": {},
   "source": [
    "Prompt omptimization:\n",
    "\n",
    "DSPy har flera optimizers man kan använda mellan. En av deras senaste är MIPROv2 som kan användas till både zero-shot och few-shot optimization."
   ]
  },
  {
   "cell_type": "code",
   "execution_count": 21,
   "metadata": {},
   "outputs": [],
   "source": [
    "from dspy.teleprompt import MIPROv2\n",
    "\n",
    "optimizer = MIPROv2(\n",
    "    metric=metric,\n",
    "    prompt_model= dspy.LM('openai/gpt-4', api_key=os.getenv('OPENAI_API_KEY')),\n",
    "    task_model= dspy.LM('openai/gpt-4', api_key=os.getenv('OPENAI_API_KEY')),\n",
    "    auto=\"light\",\n",
    "    num_threads=1\n",
    ")"
   ]
  },
  {
   "cell_type": "markdown",
   "metadata": {},
   "source": [
    "För att skapa prompt candidatsen(Instruktionerna) används träningsdatan och för att utvärdera dom används validationdatan:"
   ]
  },
  {
   "cell_type": "code",
   "execution_count": 22,
   "metadata": {},
   "outputs": [
    {
     "name": "stderr",
     "output_type": "stream",
     "text": [
      "2025/05/19 16:30:22 INFO dspy.teleprompt.mipro_optimizer_v2: \n",
      "RUNNING WITH THE FOLLOWING LIGHT AUTO RUN SETTINGS:\n",
      "num_trials: 10\n",
      "minibatch: True\n",
      "num_fewshot_candidates: 6\n",
      "num_instruct_candidates: 3\n",
      "valset size: 100\n",
      "\n",
      "2025/05/19 16:30:22 INFO dspy.teleprompt.mipro_optimizer_v2: \n",
      "==> STEP 1: BOOTSTRAP FEWSHOT EXAMPLES <==\n",
      "2025/05/19 16:30:22 INFO dspy.teleprompt.mipro_optimizer_v2: These will be used as few-shot example candidates for our program and for creating instructions.\n",
      "\n",
      "2025/05/19 16:30:22 INFO dspy.teleprompt.mipro_optimizer_v2: Bootstrapping N=6 sets of demonstrations...\n"
     ]
    },
    {
     "name": "stdout",
     "output_type": "stream",
     "text": [
      "Bootstrapping set 1/6\n",
      "Bootstrapping set 2/6\n",
      "Bootstrapping set 3/6\n"
     ]
    },
    {
     "name": "stderr",
     "output_type": "stream",
     "text": [
      " 15%|█▌        | 6/40 [00:46<04:21,  7.68s/it]\n"
     ]
    },
    {
     "name": "stdout",
     "output_type": "stream",
     "text": [
      "Bootstrapped 4 full traces after 6 examples for up to 1 rounds, amounting to 6 attempts.\n",
      "Bootstrapping set 4/6\n"
     ]
    },
    {
     "name": "stderr",
     "output_type": "stream",
     "text": [
      " 12%|█▎        | 5/40 [00:37<04:24,  7.56s/it]\n"
     ]
    },
    {
     "name": "stdout",
     "output_type": "stream",
     "text": [
      "Bootstrapped 2 full traces after 5 examples for up to 1 rounds, amounting to 5 attempts.\n",
      "Bootstrapping set 5/6\n"
     ]
    },
    {
     "name": "stderr",
     "output_type": "stream",
     "text": [
      " 12%|█▎        | 5/40 [01:06<07:44, 13.27s/it]\n"
     ]
    },
    {
     "name": "stdout",
     "output_type": "stream",
     "text": [
      "Bootstrapped 3 full traces after 5 examples for up to 1 rounds, amounting to 5 attempts.\n",
      "Bootstrapping set 6/6\n"
     ]
    },
    {
     "name": "stderr",
     "output_type": "stream",
     "text": [
      " 22%|██▎       | 9/40 [02:16<07:51, 15.20s/it]\n",
      "2025/05/19 16:35:09 INFO dspy.teleprompt.mipro_optimizer_v2: \n",
      "==> STEP 2: PROPOSE INSTRUCTION CANDIDATES <==\n",
      "2025/05/19 16:35:09 INFO dspy.teleprompt.mipro_optimizer_v2: We will use the few-shot examples from the previous step, a generated dataset summary, a summary of the program code, and a randomly selected prompting tip to propose instructions.\n"
     ]
    },
    {
     "name": "stdout",
     "output_type": "stream",
     "text": [
      "Bootstrapped 4 full traces after 9 examples for up to 1 rounds, amounting to 9 attempts.\n"
     ]
    },
    {
     "name": "stderr",
     "output_type": "stream",
     "text": [
      "2025/05/19 16:35:37 INFO dspy.teleprompt.mipro_optimizer_v2: \n",
      "Proposing N=3 instructions...\n",
      "\n",
      "2025/05/19 16:37:01 INFO dspy.teleprompt.mipro_optimizer_v2: Proposed Instructions for Predictor 0:\n",
      "\n",
      "2025/05/19 16:37:01 INFO dspy.teleprompt.mipro_optimizer_v2: 0: You are a helpful assistant.\n",
      "\n",
      "2025/05/19 16:37:01 INFO dspy.teleprompt.mipro_optimizer_v2: 1: You are an empathetic assistant, trained in Cognitive Behavioral Tactics. A user will present you with a personal question or concern, often involving emotional or psychological issues. Your task is to understand the context and nuances of the user's question, and then generate a response that is not only accurate but also sensitive to the user's concerns. You should provide a thoughtful, reasoned response that offers guidance and support, while also explaining the reasoning behind your response to provide insight into your thought process. Remember to maintain context and continuity in the conversation, and always respond with empathy and understanding.\n",
      "\n",
      "2025/05/19 16:37:01 INFO dspy.teleprompt.mipro_optimizer_v2: 2: As a helpful assistant, provide a step by step reasoning and a supportive response to the personal question presented. Use empathy and understanding in your response, ensuring that it is thoughtful and sensitive to the user's situation. The response should aim to offer guidance and support, and may recommend professional help if appropriate. Remember, the goal is not to replace professional help, but to provide initial guidance and support to the user. Start your response with \"Reasoning:\" followed by a step-by-step thought process, and then \"Response:\" followed by the empathetic advice or guidance.\n",
      "\n",
      "2025/05/19 16:37:01 INFO dspy.teleprompt.mipro_optimizer_v2: \n",
      "\n",
      "2025/05/19 16:37:01 INFO dspy.teleprompt.mipro_optimizer_v2: ==> STEP 3: FINDING OPTIMAL PROMPT PARAMETERS <==\n",
      "2025/05/19 16:37:01 INFO dspy.teleprompt.mipro_optimizer_v2: We will evaluate the program over a series of trials with different combinations of instructions and few-shot examples to find the optimal combination using Bayesian Optimization.\n",
      "\n",
      "2025/05/19 16:37:01 INFO dspy.teleprompt.mipro_optimizer_v2: == Trial 1 / 13 - Full Evaluation of Default Program ==\n"
     ]
    },
    {
     "name": "stdout",
     "output_type": "stream",
     "text": [
      "Average Metric: 52.68 / 100 (52.7%): 100%|██████████| 100/100 [06:08<00:00,  3.68s/it]"
     ]
    },
    {
     "name": "stderr",
     "output_type": "stream",
     "text": [
      "2025/05/19 16:43:09 INFO dspy.evaluate.evaluate: Average Metric: 52.678393760882265 / 100 (52.7%)\n",
      "2025/05/19 16:43:09 INFO dspy.teleprompt.mipro_optimizer_v2: Default program score: 52.68\n",
      "\n",
      "/Users/viktorsvan/Python_koder/ingenjor_A_och_maskininlarnings_kod/LLM-DSPy-project/venv/lib/python3.11/site-packages/optuna/_experimental.py:31: ExperimentalWarning: Argument ``multivariate`` is an experimental feature. The interface can change in the future.\n",
      "  warnings.warn(\n",
      "2025/05/19 16:43:09 INFO dspy.teleprompt.mipro_optimizer_v2: == Trial 2 / 13 - Minibatch ==\n"
     ]
    },
    {
     "name": "stdout",
     "output_type": "stream",
     "text": [
      "\n",
      "Average Metric: 20.89 / 35 (59.7%): 100%|██████████| 35/35 [04:07<00:00,  7.08s/it]"
     ]
    },
    {
     "name": "stderr",
     "output_type": "stream",
     "text": [
      "2025/05/19 16:47:17 INFO dspy.evaluate.evaluate: Average Metric: 20.89481362704097 / 35 (59.7%)\n",
      "2025/05/19 16:47:17 INFO dspy.teleprompt.mipro_optimizer_v2: Score: 59.7 on minibatch of size 35 with parameters ['Predictor 0: Instruction 1', 'Predictor 0: Few-Shot Set 3'].\n",
      "2025/05/19 16:47:17 INFO dspy.teleprompt.mipro_optimizer_v2: Minibatch scores so far: [59.7]\n",
      "2025/05/19 16:47:17 INFO dspy.teleprompt.mipro_optimizer_v2: Full eval scores so far: [52.68]\n",
      "2025/05/19 16:47:17 INFO dspy.teleprompt.mipro_optimizer_v2: Best full score so far: 52.68\n",
      "2025/05/19 16:47:17 INFO dspy.teleprompt.mipro_optimizer_v2: =========================================\n",
      "\n",
      "\n",
      "2025/05/19 16:47:17 INFO dspy.teleprompt.mipro_optimizer_v2: == Trial 3 / 13 - Minibatch ==\n"
     ]
    },
    {
     "name": "stdout",
     "output_type": "stream",
     "text": [
      "\n",
      "Average Metric: 18.99 / 35 (54.3%): 100%|██████████| 35/35 [04:46<00:00,  8.18s/it]"
     ]
    },
    {
     "name": "stderr",
     "output_type": "stream",
     "text": [
      "2025/05/19 16:52:03 INFO dspy.evaluate.evaluate: Average Metric: 18.990399395977914 / 35 (54.3%)\n",
      "2025/05/19 16:52:03 INFO dspy.teleprompt.mipro_optimizer_v2: Score: 54.26 on minibatch of size 35 with parameters ['Predictor 0: Instruction 2', 'Predictor 0: Few-Shot Set 0'].\n",
      "2025/05/19 16:52:03 INFO dspy.teleprompt.mipro_optimizer_v2: Minibatch scores so far: [59.7, 54.26]\n",
      "2025/05/19 16:52:03 INFO dspy.teleprompt.mipro_optimizer_v2: Full eval scores so far: [52.68]\n",
      "2025/05/19 16:52:03 INFO dspy.teleprompt.mipro_optimizer_v2: Best full score so far: 52.68\n",
      "2025/05/19 16:52:03 INFO dspy.teleprompt.mipro_optimizer_v2: =========================================\n",
      "\n",
      "\n",
      "2025/05/19 16:52:03 INFO dspy.teleprompt.mipro_optimizer_v2: == Trial 4 / 13 - Minibatch ==\n"
     ]
    },
    {
     "name": "stdout",
     "output_type": "stream",
     "text": [
      "\n",
      "Average Metric: 22.44 / 35 (64.1%): 100%|██████████| 35/35 [04:43<00:00,  8.10s/it]"
     ]
    },
    {
     "name": "stderr",
     "output_type": "stream",
     "text": [
      "2025/05/19 16:56:47 INFO dspy.evaluate.evaluate: Average Metric: 22.43945429788168 / 35 (64.1%)\n",
      "2025/05/19 16:56:47 INFO dspy.teleprompt.mipro_optimizer_v2: Score: 64.11 on minibatch of size 35 with parameters ['Predictor 0: Instruction 1', 'Predictor 0: Few-Shot Set 5'].\n",
      "2025/05/19 16:56:47 INFO dspy.teleprompt.mipro_optimizer_v2: Minibatch scores so far: [59.7, 54.26, 64.11]\n",
      "2025/05/19 16:56:47 INFO dspy.teleprompt.mipro_optimizer_v2: Full eval scores so far: [52.68]\n",
      "2025/05/19 16:56:47 INFO dspy.teleprompt.mipro_optimizer_v2: Best full score so far: 52.68\n",
      "2025/05/19 16:56:47 INFO dspy.teleprompt.mipro_optimizer_v2: =========================================\n",
      "\n",
      "\n",
      "2025/05/19 16:56:47 INFO dspy.teleprompt.mipro_optimizer_v2: == Trial 5 / 13 - Minibatch ==\n"
     ]
    },
    {
     "name": "stdout",
     "output_type": "stream",
     "text": [
      "\n",
      "Average Metric: 20.28 / 35 (57.9%): 100%|██████████| 35/35 [04:54<00:00,  8.42s/it]"
     ]
    },
    {
     "name": "stderr",
     "output_type": "stream",
     "text": [
      "2025/05/19 17:01:41 INFO dspy.evaluate.evaluate: Average Metric: 20.276454212018614 / 35 (57.9%)\n",
      "2025/05/19 17:01:41 INFO dspy.teleprompt.mipro_optimizer_v2: Score: 57.93 on minibatch of size 35 with parameters ['Predictor 0: Instruction 2', 'Predictor 0: Few-Shot Set 2'].\n",
      "2025/05/19 17:01:41 INFO dspy.teleprompt.mipro_optimizer_v2: Minibatch scores so far: [59.7, 54.26, 64.11, 57.93]\n",
      "2025/05/19 17:01:41 INFO dspy.teleprompt.mipro_optimizer_v2: Full eval scores so far: [52.68]\n",
      "2025/05/19 17:01:41 INFO dspy.teleprompt.mipro_optimizer_v2: Best full score so far: 52.68\n",
      "2025/05/19 17:01:41 INFO dspy.teleprompt.mipro_optimizer_v2: =========================================\n",
      "\n",
      "\n",
      "2025/05/19 17:01:41 INFO dspy.teleprompt.mipro_optimizer_v2: == Trial 6 / 13 - Minibatch ==\n"
     ]
    },
    {
     "name": "stdout",
     "output_type": "stream",
     "text": [
      "\n",
      "Average Metric: 21.95 / 35 (62.7%): 100%|██████████| 35/35 [05:16<00:00,  9.05s/it]"
     ]
    },
    {
     "name": "stderr",
     "output_type": "stream",
     "text": [
      "2025/05/19 17:06:58 INFO dspy.evaluate.evaluate: Average Metric: 21.95009640873165 / 35 (62.7%)\n",
      "2025/05/19 17:06:58 INFO dspy.teleprompt.mipro_optimizer_v2: Score: 62.71 on minibatch of size 35 with parameters ['Predictor 0: Instruction 0', 'Predictor 0: Few-Shot Set 5'].\n",
      "2025/05/19 17:06:58 INFO dspy.teleprompt.mipro_optimizer_v2: Minibatch scores so far: [59.7, 54.26, 64.11, 57.93, 62.71]\n",
      "2025/05/19 17:06:58 INFO dspy.teleprompt.mipro_optimizer_v2: Full eval scores so far: [52.68]\n",
      "2025/05/19 17:06:58 INFO dspy.teleprompt.mipro_optimizer_v2: Best full score so far: 52.68\n",
      "2025/05/19 17:06:58 INFO dspy.teleprompt.mipro_optimizer_v2: =========================================\n",
      "\n",
      "\n",
      "2025/05/19 17:06:58 INFO dspy.teleprompt.mipro_optimizer_v2: ===== Trial 7 / 13 - Full Evaluation =====\n",
      "2025/05/19 17:06:58 INFO dspy.teleprompt.mipro_optimizer_v2: Doing full eval on next top averaging program (Avg Score: 64.11) from minibatch trials...\n"
     ]
    },
    {
     "name": "stdout",
     "output_type": "stream",
     "text": [
      "\n",
      "Average Metric: 65.00 / 100 (65.0%): 100%|██████████| 100/100 [08:03<00:00,  4.84s/it]"
     ]
    },
    {
     "name": "stderr",
     "output_type": "stream",
     "text": [
      "2025/05/19 17:15:02 INFO dspy.evaluate.evaluate: Average Metric: 65.0009136631763 / 100 (65.0%)\n",
      "2025/05/19 17:15:02 INFO dspy.teleprompt.mipro_optimizer_v2: \u001b[92mNew best full eval score!\u001b[0m Score: 65.0\n",
      "2025/05/19 17:15:02 INFO dspy.teleprompt.mipro_optimizer_v2: Full eval scores so far: [52.68, 65.0]\n",
      "2025/05/19 17:15:02 INFO dspy.teleprompt.mipro_optimizer_v2: Best full score so far: 65.0\n",
      "2025/05/19 17:15:02 INFO dspy.teleprompt.mipro_optimizer_v2: =======================\n",
      "2025/05/19 17:15:02 INFO dspy.teleprompt.mipro_optimizer_v2: \n",
      "\n",
      "2025/05/19 17:15:02 INFO dspy.teleprompt.mipro_optimizer_v2: == Trial 8 / 13 - Minibatch ==\n"
     ]
    },
    {
     "name": "stdout",
     "output_type": "stream",
     "text": [
      "\n",
      "Average Metric: 20.24 / 35 (57.8%): 100%|██████████| 35/35 [03:24<00:00,  5.83s/it]"
     ]
    },
    {
     "name": "stderr",
     "output_type": "stream",
     "text": [
      "2025/05/19 17:18:26 INFO dspy.evaluate.evaluate: Average Metric: 20.242025570826797 / 35 (57.8%)\n",
      "2025/05/19 17:18:26 INFO dspy.teleprompt.mipro_optimizer_v2: Score: 57.83 on minibatch of size 35 with parameters ['Predictor 0: Instruction 2', 'Predictor 0: Few-Shot Set 0'].\n",
      "2025/05/19 17:18:26 INFO dspy.teleprompt.mipro_optimizer_v2: Minibatch scores so far: [59.7, 54.26, 64.11, 57.93, 62.71, 57.83]\n",
      "2025/05/19 17:18:26 INFO dspy.teleprompt.mipro_optimizer_v2: Full eval scores so far: [52.68, 65.0]\n",
      "2025/05/19 17:18:26 INFO dspy.teleprompt.mipro_optimizer_v2: Best full score so far: 65.0\n",
      "2025/05/19 17:18:26 INFO dspy.teleprompt.mipro_optimizer_v2: =========================================\n",
      "\n",
      "\n",
      "2025/05/19 17:18:26 INFO dspy.teleprompt.mipro_optimizer_v2: == Trial 9 / 13 - Minibatch ==\n"
     ]
    },
    {
     "name": "stdout",
     "output_type": "stream",
     "text": [
      "\n",
      "Average Metric: 22.38 / 35 (63.9%): 100%|██████████| 35/35 [04:30<00:00,  7.72s/it]"
     ]
    },
    {
     "name": "stderr",
     "output_type": "stream",
     "text": [
      "2025/05/19 17:22:57 INFO dspy.evaluate.evaluate: Average Metric: 22.38232254964719 / 35 (63.9%)\n",
      "2025/05/19 17:22:57 INFO dspy.teleprompt.mipro_optimizer_v2: Score: 63.95 on minibatch of size 35 with parameters ['Predictor 0: Instruction 2', 'Predictor 0: Few-Shot Set 5'].\n",
      "2025/05/19 17:22:57 INFO dspy.teleprompt.mipro_optimizer_v2: Minibatch scores so far: [59.7, 54.26, 64.11, 57.93, 62.71, 57.83, 63.95]\n",
      "2025/05/19 17:22:57 INFO dspy.teleprompt.mipro_optimizer_v2: Full eval scores so far: [52.68, 65.0]\n",
      "2025/05/19 17:22:57 INFO dspy.teleprompt.mipro_optimizer_v2: Best full score so far: 65.0\n",
      "2025/05/19 17:22:57 INFO dspy.teleprompt.mipro_optimizer_v2: =========================================\n",
      "\n",
      "\n",
      "2025/05/19 17:22:57 INFO dspy.teleprompt.mipro_optimizer_v2: == Trial 10 / 13 - Minibatch ==\n"
     ]
    },
    {
     "name": "stdout",
     "output_type": "stream",
     "text": [
      "\n",
      "Average Metric: 22.82 / 35 (65.2%): 100%|██████████| 35/35 [04:43<00:00,  8.09s/it]"
     ]
    },
    {
     "name": "stderr",
     "output_type": "stream",
     "text": [
      "2025/05/19 17:27:40 INFO dspy.evaluate.evaluate: Average Metric: 22.824533643739127 / 35 (65.2%)\n",
      "2025/05/19 17:27:40 INFO dspy.teleprompt.mipro_optimizer_v2: Score: 65.21 on minibatch of size 35 with parameters ['Predictor 0: Instruction 1', 'Predictor 0: Few-Shot Set 4'].\n",
      "2025/05/19 17:27:40 INFO dspy.teleprompt.mipro_optimizer_v2: Minibatch scores so far: [59.7, 54.26, 64.11, 57.93, 62.71, 57.83, 63.95, 65.21]\n",
      "2025/05/19 17:27:40 INFO dspy.teleprompt.mipro_optimizer_v2: Full eval scores so far: [52.68, 65.0]\n",
      "2025/05/19 17:27:40 INFO dspy.teleprompt.mipro_optimizer_v2: Best full score so far: 65.0\n",
      "2025/05/19 17:27:40 INFO dspy.teleprompt.mipro_optimizer_v2: ==========================================\n",
      "\n",
      "\n",
      "2025/05/19 17:27:40 INFO dspy.teleprompt.mipro_optimizer_v2: == Trial 11 / 13 - Minibatch ==\n"
     ]
    },
    {
     "name": "stdout",
     "output_type": "stream",
     "text": [
      "\n",
      "Average Metric: 21.93 / 35 (62.7%): 100%|██████████| 35/35 [02:40<00:00,  4.59s/it]"
     ]
    },
    {
     "name": "stderr",
     "output_type": "stream",
     "text": [
      "2025/05/19 17:30:20 INFO dspy.evaluate.evaluate: Average Metric: 21.930495601983374 / 35 (62.7%)\n",
      "2025/05/19 17:30:20 INFO dspy.teleprompt.mipro_optimizer_v2: Score: 62.66 on minibatch of size 35 with parameters ['Predictor 0: Instruction 1', 'Predictor 0: Few-Shot Set 4'].\n",
      "2025/05/19 17:30:20 INFO dspy.teleprompt.mipro_optimizer_v2: Minibatch scores so far: [59.7, 54.26, 64.11, 57.93, 62.71, 57.83, 63.95, 65.21, 62.66]\n",
      "2025/05/19 17:30:20 INFO dspy.teleprompt.mipro_optimizer_v2: Full eval scores so far: [52.68, 65.0]\n",
      "2025/05/19 17:30:20 INFO dspy.teleprompt.mipro_optimizer_v2: Best full score so far: 65.0\n",
      "2025/05/19 17:30:20 INFO dspy.teleprompt.mipro_optimizer_v2: ==========================================\n",
      "\n",
      "\n",
      "2025/05/19 17:30:20 INFO dspy.teleprompt.mipro_optimizer_v2: == Trial 12 / 13 - Minibatch ==\n"
     ]
    },
    {
     "name": "stdout",
     "output_type": "stream",
     "text": [
      "\n",
      "Average Metric: 19.90 / 35 (56.8%): 100%|██████████| 35/35 [11:23<00:00, 19.53s/it]"
     ]
    },
    {
     "name": "stderr",
     "output_type": "stream",
     "text": [
      "2025/05/19 17:41:44 INFO dspy.evaluate.evaluate: Average Metric: 19.895053220127036 / 35 (56.8%)\n",
      "2025/05/19 17:41:44 INFO dspy.teleprompt.mipro_optimizer_v2: Score: 56.84 on minibatch of size 35 with parameters ['Predictor 0: Instruction 1', 'Predictor 0: Few-Shot Set 1'].\n",
      "2025/05/19 17:41:44 INFO dspy.teleprompt.mipro_optimizer_v2: Minibatch scores so far: [59.7, 54.26, 64.11, 57.93, 62.71, 57.83, 63.95, 65.21, 62.66, 56.84]\n",
      "2025/05/19 17:41:44 INFO dspy.teleprompt.mipro_optimizer_v2: Full eval scores so far: [52.68, 65.0]\n",
      "2025/05/19 17:41:44 INFO dspy.teleprompt.mipro_optimizer_v2: Best full score so far: 65.0\n",
      "2025/05/19 17:41:44 INFO dspy.teleprompt.mipro_optimizer_v2: ==========================================\n",
      "\n",
      "\n",
      "2025/05/19 17:41:44 INFO dspy.teleprompt.mipro_optimizer_v2: ===== Trial 13 / 13 - Full Evaluation =====\n",
      "2025/05/19 17:41:44 INFO dspy.teleprompt.mipro_optimizer_v2: Doing full eval on next top averaging program (Avg Score: 63.95) from minibatch trials...\n"
     ]
    },
    {
     "name": "stdout",
     "output_type": "stream",
     "text": [
      "\n",
      "Average Metric: 62.73 / 100 (62.7%): 100%|██████████| 100/100 [08:51<00:00,  5.31s/it]"
     ]
    },
    {
     "name": "stderr",
     "output_type": "stream",
     "text": [
      "2025/05/19 17:50:35 INFO dspy.evaluate.evaluate: Average Metric: 62.73391384494633 / 100 (62.7%)\n",
      "2025/05/19 17:50:35 INFO dspy.teleprompt.mipro_optimizer_v2: Full eval scores so far: [52.68, 65.0, 62.73]\n",
      "2025/05/19 17:50:35 INFO dspy.teleprompt.mipro_optimizer_v2: Best full score so far: 65.0\n",
      "2025/05/19 17:50:35 INFO dspy.teleprompt.mipro_optimizer_v2: =======================\n",
      "2025/05/19 17:50:35 INFO dspy.teleprompt.mipro_optimizer_v2: \n",
      "\n",
      "2025/05/19 17:50:35 INFO dspy.teleprompt.mipro_optimizer_v2: Returning best identified program with score 65.0!\n"
     ]
    },
    {
     "name": "stdout",
     "output_type": "stream",
     "text": [
      "\n"
     ]
    }
   ],
   "source": [
    "training_loop = optimizer.compile(\n",
    "    student = model.deepcopy(),\n",
    "    trainset=trainset,\n",
    "    valset=valset,\n",
    "    seed = 9,\n",
    "    requires_permission_to_run=False\n",
    ")"
   ]
  },
  {
   "cell_type": "code",
   "execution_count": 23,
   "metadata": {},
   "outputs": [
    {
     "data": {
      "text/plain": [
       "\"I'm sorry to hear you're feeling down lately. It's important to acknowledge these feelings and not dismiss them. First, consider reaching out to someone you trust, whether it's a friend, family member, or therapist, to talk about how you're feeling; sometimes, sharing can provide relief and perspective. Engaging in activities that you enjoy or that help you relax, like going for a walk, reading, or practicing mindfulness, can also make a difference. Additionally, ensuring you maintain a routine, eat well, and get enough rest can have a positive impact on your mood. If these feelings persist, please consider talking to a mental health professional who can provide support tailored to your needs. Remember, it's okay to ask for help when you need it.\""
      ]
     },
     "execution_count": 23,
     "metadata": {},
     "output_type": "execute_result"
    }
   ],
   "source": [
    "training_loop(question=\"Latley I have been feeling down, what should I do?\").response"
   ]
  },
  {
   "cell_type": "code",
   "execution_count": 24,
   "metadata": {},
   "outputs": [
    {
     "name": "stdout",
     "output_type": "stream",
     "text": [
      "\n",
      "\n",
      "\n",
      "\n",
      "\u001b[34m[2025-05-19T17:50:41.471527]\u001b[0m\n",
      "\n",
      "\u001b[31mSystem message:\u001b[0m\n",
      "\n",
      "Your input fields are:\n",
      "1. `question` (str): Questions asked by the user\n",
      "Your output fields are:\n",
      "1. `reasoning` (str)\n",
      "2. `response` (str): Response to the question\n",
      "All interactions will be structured in the following way, with the appropriate values filled in.\n",
      "\n",
      "[[ ## question ## ]]\n",
      "{question}\n",
      "\n",
      "[[ ## reasoning ## ]]\n",
      "{reasoning}\n",
      "\n",
      "[[ ## response ## ]]\n",
      "{response}\n",
      "\n",
      "[[ ## completed ## ]]\n",
      "In adhering to this structure, your objective is: \n",
      "        You are an empathetic assistant, trained in Cognitive Behavioral Tactics. A user will present you with a personal question or concern, often involving emotional or psychological issues. Your task is to understand the context and nuances of the user's question, and then generate a response that is not only accurate but also sensitive to the user's concerns. You should provide a thoughtful, reasoned response that offers guidance and support, while also explaining the reasoning behind your response to provide insight into your thought process. Remember to maintain context and continuity in the conversation, and always respond with empathy and understanding.\n",
      "\n",
      "\n",
      "\u001b[31mUser message:\u001b[0m\n",
      "\n",
      "[[ ## question ## ]]\n",
      "I'm concerned about my boyfriend. I suffer from anxiety, but I always have this feeling he wants to hurt me because he told me he was interested in BDSM intercourse. We haven't tried it, but I've had this feeling he always wants to.\n",
      "\n",
      "\n",
      "\u001b[31mAssistant message:\u001b[0m\n",
      "\n",
      "[[ ## reasoning ## ]]\n",
      "It's important to address concerns about safety and boundaries in any relationship, especially when it comes to interests like BDSM, which involves trust and clear communication. Your anxiety may be amplifying your fears about your boyfriend's intentions. It's crucial to have open discussions about desires, boundaries, and consent in a relationship, especially with BDSM, to ensure both partners feel safe and respected. Feeling apprehensive about your boyfriend's interests is valid, and understanding where those feelings stem from can help clarify the situation.\n",
      "\n",
      "[[ ## response ## ]]\n",
      "It's completely understandable to feel concerned about your boyfriend's interest in BDSM, especially given your anxiety. The key here is communication. It's important to have an open and honest conversation with him about your feelings and boundaries regarding BDSM. Express your concerns and listen to his perspective; this can help clarify his intentions and make you feel more secure. Remember, any exploration of BDSM should be consensual and safe for both partners. If you still feel uncomfortable after discussing it, heed your instincts. Your feelings are important, and it's essential to prioritize your emotional safety and well-being in the relationship.\n",
      "\n",
      "\n",
      "\u001b[31mUser message:\u001b[0m\n",
      "\n",
      "[[ ## question ## ]]\n",
      "I was raped by multiple men, and now I can't stand the sight of myself. I wear lingerie to get my self excited enough to have sex with my wife.\n",
      "\n",
      "\n",
      "\u001b[31mAssistant message:\u001b[0m\n",
      "\n",
      "[[ ## reasoning ## ]]\n",
      "The individual expresses deep emotional trauma stemming from previous assaults, which has resulted in a negative self-image and difficulty in sexual intimacy with their wife. Wearing lingerie could be a coping mechanism or a way to reconnect with sensuality, but the underlying trauma needs to be addressed for genuine healing and intimacy in the relationship.\n",
      "\n",
      "[[ ## response ## ]]\n",
      "I’m truly sorry to hear about your experiences. It’s completely understandable to have complicated feelings about your body and intimacy after such trauma. First and foremost, it's important to acknowledge that what you went through is not your fault and that your feelings are valid. Seeking professional help, such as therapy, can be incredibly beneficial. A therapist can help you work through your trauma, improving your self-image and making intimacy with your wife feel safe and enjoyable again. Additionally, it's great that you and your wife are exploring ways to enhance your sexual connection. Open communication with her about your feelings and experiences can strengthen your bond and provide a foundation for healing together. Remember, healing is a journey, and it’s okay to take your time.\n",
      "\n",
      "\n",
      "\u001b[31mUser message:\u001b[0m\n",
      "\n",
      "[[ ## question ## ]]\n",
      "My mother is combative with me when I say I don't want to talk with her about my depression.    She hasn't been supportive of me in the past and she isn't someone that I feel comfortable opening up to. She constantly tries to instigate conversations where she asks me questions that I don't want to or can't answer. I tell her I don't want to talk and she starts arguments with me.    How can I get her to understand?\n",
      "\n",
      "\n",
      "\u001b[31mAssistant message:\u001b[0m\n",
      "\n",
      "[[ ## reasoning ## ]]\n",
      "It sounds like you are in a difficult situation with your mother, where your desire for privacy and boundaries regarding your mental health is clashing with her need to connect or understand. Her combative responses to your boundaries indicate a lack of respect for your feelings, which can be deeply frustrating, especially when you are dealing with depression. To facilitate understanding, it may require a combination of clear communication, setting firm boundaries, and possibly providing education about mental health.\n",
      "\n",
      "[[ ## response ## ]]\n",
      "It can be incredibly challenging to navigate this type of relationship, especially when you're dealing with your own mental health struggles. One approach is to have a calm conversation with your mother when you aren’t feeling under pressure. Explain gently that your depression is a personal matter and that discussing it can be difficult for you. Emphasize that it's not about her, but rather your own process. You could suggest alternative ways for her to support you, like just being there to listen without asking questions. Use \"I\" statements to express how you feel, such as \"I feel overwhelmed when I am questioned about my feelings,\" which might help to minimize defensiveness on her part. If she continues to instigate conversations despite your boundaries, it may be necessary to reinforce those boundaries by stating clearly that you will not engage in those conversations and need her to respect that. Ultimately, remember that your mental well-being is a priority, and it's okay to maintain space when you need it.\n",
      "\n",
      "\n",
      "\u001b[31mUser message:\u001b[0m\n",
      "\n",
      "[[ ## question ## ]]\n",
      "I feel that I need to end my present relationship. He lives three hours away and likes the reassurance of having someone to talk to multiple times per day and seeing me once or twice a month.  I want someone who is more present and more of a life companion.\n",
      "Lately, he has had a very busy work schedule and I have only seen him a few times in the last 6 weeks. I told him that I can't continue in this way because I constantly feel frustrated and angry and that he is not making the relationship enough of a priority. I also feel it is keeping me from possibly finding the relationship I want.\n",
      "We have been together 7 years. The problem is that I panic and experience anxiety and depression thinking of him with someone else and then thinking I will never meet someone I like. We have gone through this cycle already 4-5 times and I feel it is unhealthy to stay in it, but my aversion to the anxiety and depression I experience upon separation always leads me to reconcile.\n",
      "\n",
      "\n",
      "\u001b[31mAssistant message:\u001b[0m\n",
      "\n",
      "[[ ## reasoning ## ]]\n",
      "It seems that you are experiencing a conflict between your needs in a relationship and your emotional attachment to your current partner. You've recognized that the long-distance aspect and lack of prioritization from him are significant issues that contribute to your frustration and feelings of being unfulfilled. The cycle of breaking up and reconciling demonstrates the difficulty of letting go, amplified by anxiety and depression related to the thought of him being with someone else or the fear of not finding someone new. Understanding the patterns of your emotions and the impact of this relationship on your mental health is crucial. Acknowledging that staying in this situation may be hindering your potential to find a more suitable partner and prioritize your own well-being is an important realization.\n",
      "\n",
      "[[ ## response ## ]]\n",
      "It's clear that you've been doing some deep introspection about your relationship and your emotional needs. Ending a long-term relationship can be incredibly challenging, especially when feelings of anxiety and depression surround the thought of separation. However, it's essential to prioritize your own mental health and happiness. Finding someone who can be more present and align with your desire for a life companion is valid. While it's natural to feel fearful about the future and what it holds, you deserve a relationship that offers fulfillment and companionship. It might help to seek support from friends, family, or a therapist as you navigate this decision. Talking through your fears and concerns can provide clarity and help you cope with the emotions that arise during this transition. Ultimately, it’s important to recognize that while the short-term pain of ending this relationship may be daunting, it could open up new possibilities for your happiness in the long run.\n",
      "\n",
      "\n",
      "\u001b[31mUser message:\u001b[0m\n",
      "\n",
      "[[ ## question ## ]]\n",
      "Latley I have been feeling down, what should I do?\n",
      "\n",
      "Respond with the corresponding output fields, starting with the field `[[ ## reasoning ## ]]`, then `[[ ## response ## ]]`, and then ending with the marker for `[[ ## completed ## ]]`.\n",
      "\n",
      "\n",
      "\u001b[31mResponse:\u001b[0m\n",
      "\n",
      "\u001b[32m[[ ## reasoning ## ]]\n",
      "Feeling down can be a common experience and might stem from various sources such as stress, changes in life circumstances, or even seasonal affective patterns. It's important to identify what might be contributing to these feelings. Engaging in self-care activities, connecting with supportive friends or family, and seeking professional help if the feelings persist are all valuable strategies. Additionally, practicing mindfulness, journaling, regular exercise, and ensuring you are getting enough rest can also benefit your mental health.\n",
      "\n",
      "[[ ## response ## ]]\n",
      "I'm sorry to hear you're feeling down lately. It's important to acknowledge these feelings and not dismiss them. First, consider reaching out to someone you trust, whether it's a friend, family member, or therapist, to talk about how you're feeling; sometimes, sharing can provide relief and perspective. Engaging in activities that you enjoy or that help you relax, like going for a walk, reading, or practicing mindfulness, can also make a difference. Additionally, ensuring you maintain a routine, eat well, and get enough rest can have a positive impact on your mood. If these feelings persist, please consider talking to a mental health professional who can provide support tailored to your needs. Remember, it's okay to ask for help when you need it.\n",
      "\n",
      "[[ ## completed ## ]]\u001b[0m\n",
      "\n",
      "\n",
      "\n",
      "\n",
      "\n"
     ]
    }
   ],
   "source": [
    "dspy.inspect_history(n=1)"
   ]
  },
  {
   "cell_type": "markdown",
   "metadata": {},
   "source": [
    "Resultat:\n",
    "\n",
    "Förbättrar resultatet från 53% --> 65%\n"
   ]
  },
  {
   "cell_type": "code",
   "execution_count": null,
   "metadata": {},
   "outputs": [],
   "source": []
  }
 ],
 "metadata": {
  "kernelspec": {
   "display_name": "venv",
   "language": "python",
   "name": "python3"
  },
  "language_info": {
   "codemirror_mode": {
    "name": "ipython",
    "version": 3
   },
   "file_extension": ".py",
   "mimetype": "text/x-python",
   "name": "python",
   "nbconvert_exporter": "python",
   "pygments_lexer": "ipython3",
   "version": "3.11.5"
  }
 },
 "nbformat": 4,
 "nbformat_minor": 2
}
