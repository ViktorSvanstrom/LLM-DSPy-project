{
 "cells": [
  {
   "cell_type": "code",
   "execution_count": 10,
   "metadata": {},
   "outputs": [
    {
     "data": {
      "text/plain": [
       "True"
      ]
     },
     "execution_count": 10,
     "metadata": {},
     "output_type": "execute_result"
    }
   ],
   "source": [
    "from dotenv import load_dotenv\n",
    "import os\n",
    "import dspy\n",
    "from tavily import TavilyClient\n",
    "load_dotenv()"
   ]
  },
  {
   "cell_type": "code",
   "execution_count": 11,
   "metadata": {},
   "outputs": [],
   "source": [
    "lm = dspy.LM('openai/gpt-4o-mini', api_key=os.getenv('OPENAI_API_KEY'), temperature=1)\n",
    "dspy.configure(lm=lm)"
   ]
  },
  {
   "cell_type": "code",
   "execution_count": null,
   "metadata": {},
   "outputs": [],
   "source": [
    "\n",
    "tavily_client = TavilyClient(api_key=os.getenv(\"TAVILY_API\"))\n",
    "\n",
    "\n",
    "def web_search(query):\n",
    "    \"\"\"\n",
    "    Function for web search using Tavily API\n",
    "\n",
    "    Args:\n",
    "        query (str): Search query\n",
    "\n",
    "    Returns:\n",
    "        list: Search results\n",
    "    \"\"\"\n",
    "    try:\n",
    "        response = tavily_client.search(max_results=5, query=query)\n",
    "        return response\n",
    "    except Exception as e:\n",
    "        print(f\"Ett fel uppstod vid webbsökning: {str(e)}\")\n",
    "        return []"
   ]
  },
  {
   "cell_type": "code",
   "execution_count": 13,
   "metadata": {},
   "outputs": [],
   "source": [
    "class Chat(dspy.Signature):\n",
    "    \"You are a helpful assistant, with acces to a tool to search the web.\"\n",
    "    \n",
    "    question: str = dspy.InputField(desc=\"Questions asked by the user\")\n",
    "    response: str = dspy.OutputField(desc=\"Response to the question\")"
   ]
  },
  {
   "cell_type": "code",
   "execution_count": 14,
   "metadata": {},
   "outputs": [],
   "source": [
    "class Model(dspy.Module):\n",
    "    def __init__(self):\n",
    "        super().__init__()\n",
    "        self.respond = dspy.ReAct(Chat, tools=[web_search])\n",
    "\n",
    "    def forward(self, question: str):\n",
    "        return self.respond(question=question)"
   ]
  },
  {
   "cell_type": "code",
   "execution_count": 18,
   "metadata": {},
   "outputs": [
    {
     "data": {
      "text/plain": [
       "'The president of the United States in 2025 is Donald Trump, who was sworn in as the 47th president on January 20, 2025.'"
      ]
     },
     "execution_count": 18,
     "metadata": {},
     "output_type": "execute_result"
    }
   ],
   "source": [
    "tool_calling_model = Model()\n",
    "tool_calling_model(question=\"Who is the president of the United States (2025)?\").response"
   ]
  },
  {
   "cell_type": "code",
   "execution_count": 19,
   "metadata": {},
   "outputs": [
    {
     "name": "stdout",
     "output_type": "stream",
     "text": [
      "\n",
      "\n",
      "\n",
      "\n",
      "\u001b[34m[2025-05-20T14:47:31.381475]\u001b[0m\n",
      "\n",
      "\u001b[31mSystem message:\u001b[0m\n",
      "\n",
      "Your input fields are:\n",
      "1. `question` (str): Questions asked by the user\n",
      "2. `trajectory` (str)\n",
      "Your output fields are:\n",
      "1. `reasoning` (str)\n",
      "2. `response` (str): Response to the question\n",
      "All interactions will be structured in the following way, with the appropriate values filled in.\n",
      "\n",
      "[[ ## question ## ]]\n",
      "{question}\n",
      "\n",
      "[[ ## trajectory ## ]]\n",
      "{trajectory}\n",
      "\n",
      "[[ ## reasoning ## ]]\n",
      "{reasoning}\n",
      "\n",
      "[[ ## response ## ]]\n",
      "{response}\n",
      "\n",
      "[[ ## completed ## ]]\n",
      "In adhering to this structure, your objective is: \n",
      "        You are a helpful assistant.\n",
      "\n",
      "\n",
      "\u001b[31mUser message:\u001b[0m\n",
      "\n",
      "[[ ## question ## ]]\n",
      "Who is the president of the United States (2025)?\n",
      "\n",
      "[[ ## trajectory ## ]]\n",
      "[[ ## thought_0 ## ]]\n",
      "To find out who the president of the United States is in 2025, I will need to conduct a web search to retrieve the most current information, as my training only includes knowledge up to October 2023.\n",
      "\n",
      "[[ ## tool_name_0 ## ]]\n",
      "web_search\n",
      "\n",
      "[[ ## tool_args_0 ## ]]\n",
      "{\"query\": \"current president of the United States 2025\"}\n",
      "\n",
      "[[ ## observation_0 ## ]]\n",
      "{\"query\": \"current president of the United States 2025\", \"follow_up_questions\": null, \"answer\": null, \"images\": [], \"results\": [{\"title\": \"Presidents, vice presidents, and first ladies - USAGov\", \"url\": \"https://www.usa.gov/presidents\", \"content\": \"The president of the United States is the: U.S. head of state; Chief executive of the federal government; Commander-in-Chief of the armed forces; Current president. The 47th and current president of the United States is Donald John Trump. He was sworn into office on January 20, 2025. Former U.S. presidents. The United States has had 46 former U\", \"score\": 0.878825, \"raw_content\": null}, {\"title\": \"Donald Trump Takes Office As The 47th President Of The United States\", \"url\": \"https://www.dogonews.com/2025/1/21/donald-trump-takes-office-as-the-47th-president-of-the-united-states\", \"content\": \"Donald Trump became the 47th president of the United States on January 20, 2025 (Credit: The Trump White House, Public Domain/ Wikimedia Commons) On January 20, 2025, Donald Trump was sworn in as the 47th President of the United States. He is only the second President to serve non-consecutive terms since Grover Cleveland in 1893. At 78 years\", \"score\": 0.85995835, \"raw_content\": null}, {\"title\": \"Donald Trump presidential administration, 2025 - Ballotpedia\", \"url\": \"https://ballotpedia.org/Donald_Trump_presidential_administration,_2025\", \"content\": \"President Donald Trump (R) was inaugurated for his second term as the 47th president of the United States on January 20, 2025. He serves with Vice President J.D. Vance (R), a former senator from Ohio.. This page provides an overview of Trump's second presidential administration, including top officials and personnel and key executive and legislative actions.\", \"score\": 0.8585411, \"raw_content\": null}, {\"title\": \"Donald Trump sworn in as 47th president of the United States\", \"url\": \"https://www.pbs.org/newshour/politics/donald-trump-sworn-in-as-47th-president-of-the-united-states\", \"content\": \"WATCH LIVE: Donald Trump's 2025 Inauguration. Trump was sworn in by Chief Justice John Roberts as he begins his second term as president of the United States. Inauguration Day on MLK Day.\", \"score\": 0.71758664, \"raw_content\": null}, {\"title\": \"President Donald J. Trump - The White House\", \"url\": \"https://www.whitehouse.gov/administration/donald-j-trump/\", \"content\": \"In his first administration, President Trump passed record-setting tax cuts and regulation cuts, achieved energy independence, replaced NAFTA with the United-States-Mexico-Canada Agreement\", \"score\": 0.15583521, \"raw_content\": null}], \"response_time\": 15.15}\n",
      "\n",
      "[[ ## thought_1 ## ]]\n",
      "Based on the information retrieved, Donald Trump became the 47th president of the United States on January 20, 2025. Therefore, I can now finalize my response.\n",
      "\n",
      "[[ ## tool_name_1 ## ]]\n",
      "finish\n",
      "\n",
      "[[ ## tool_args_1 ## ]]\n",
      "{}\n",
      "\n",
      "[[ ## observation_1 ## ]]\n",
      "Completed.\n",
      "\n",
      "Respond with the corresponding output fields, starting with the field `[[ ## reasoning ## ]]`, then `[[ ## response ## ]]`, and then ending with the marker for `[[ ## completed ## ]]`.\n",
      "\n",
      "\n",
      "\u001b[31mResponse:\u001b[0m\n",
      "\n",
      "\u001b[32m[[ ## reasoning ## ]]\n",
      "Based on my research, I found that Donald Trump was inaugurated as the 47th president of the United States on January 20, 2025. This information is supported by multiple reputable sources confirming his return to office for a second term.\n",
      "\n",
      "[[ ## response ## ]]\n",
      "The president of the United States in 2025 is Donald Trump, who was sworn in as the 47th president on January 20, 2025.\n",
      "\n",
      "[[ ## completed ## ]]\u001b[0m\n",
      "\n",
      "\n",
      "\n",
      "\n",
      "\n"
     ]
    }
   ],
   "source": [
    "dspy.inspect_history(n=1)"
   ]
  },
  {
   "cell_type": "code",
   "execution_count": null,
   "metadata": {},
   "outputs": [],
   "source": []
  }
 ],
 "metadata": {
  "kernelspec": {
   "display_name": "venv",
   "language": "python",
   "name": "python3"
  },
  "language_info": {
   "codemirror_mode": {
    "name": "ipython",
    "version": 3
   },
   "file_extension": ".py",
   "mimetype": "text/x-python",
   "name": "python",
   "nbconvert_exporter": "python",
   "pygments_lexer": "ipython3",
   "version": "3.11.5"
  }
 },
 "nbformat": 4,
 "nbformat_minor": 2
}
