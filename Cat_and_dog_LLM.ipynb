{
 "cells": [
  {
   "cell_type": "code",
   "execution_count": 1,
   "metadata": {},
   "outputs": [
    {
     "name": "stderr",
     "output_type": "stream",
     "text": [
      "/Users/viktorsvan/Python_koder/ingenjor_A_och_maskininlarnings_kod/LLM-DSPy-project/venv/lib/python3.11/site-packages/tqdm/auto.py:21: TqdmWarning: IProgress not found. Please update jupyter and ipywidgets. See https://ipywidgets.readthedocs.io/en/stable/user_install.html\n",
      "  from .autonotebook import tqdm as notebook_tqdm\n"
     ]
    }
   ],
   "source": [
    "import os\n",
    "import dspy\n",
    "import mlflow\n",
    "import pandas as pd\n",
    "from dotenv import load_dotenv\n",
    "import kagglehub\n",
    "import ujson"
   ]
  },
  {
   "cell_type": "code",
   "execution_count": 2,
   "metadata": {},
   "outputs": [],
   "source": [
    "load_dotenv()\n",
    "\n",
    "openai_api_key = os.getenv(\"OPENAI_API_KEY\")\n",
    "lm = dspy.LM(\"gpt-4o\", api_key=openai_api_key)"
   ]
  },
  {
   "cell_type": "code",
   "execution_count": 3,
   "metadata": {},
   "outputs": [],
   "source": [
    "local_lm = dspy.LM(\"ollama_chat/llama3.2\", api_base=\"http://localhost:11434\", api_key=\"\")\n",
    "dspy.configure(lm=local_lm)"
   ]
  },
  {
   "cell_type": "code",
   "execution_count": 4,
   "metadata": {},
   "outputs": [],
   "source": [
    "class Chat(dspy.Signature):\n",
    "    \"You are a helpful assistant that answer questions about cats and dogs.\"\n",
    "    question: str = dspy.InputField(desc=\"Questions asked by the user\")\n",
    "    response: str = dspy.OutputField(desc=\"Response to the question\")\n",
    "\n",
    "class Model(dspy.Module):\n",
    "    def __init__(self):\n",
    "        super().__init__()\n",
    "        self.respond = dspy.ChainOfThought(Chat)\n",
    "\n",
    "    def forward(self, question: str):\n",
    "        return self.respond(question=question)"
   ]
  },
  {
   "cell_type": "code",
   "execution_count": 5,
   "metadata": {},
   "outputs": [],
   "source": [
    "model = Model()"
   ]
  },
  {
   "cell_type": "code",
   "execution_count": 6,
   "metadata": {},
   "outputs": [],
   "source": [
    "#mlflow ui --port 5000\n",
    "mlflow.set_tracking_uri(\"http://127.0.0.1:5000\")\n",
    "mlflow.set_experiment(\"DSPy\")\n",
    "mlflow.dspy.autolog()"
   ]
  },
  {
   "cell_type": "markdown",
   "metadata": {},
   "source": [
    "Laddar ner dataset med beskrivning: \"Contains 583 unique questions and answers related to dogs and cats.\n",
    "It includes questions related to health, training, lifestyle, breeds and commonly asked questions.\""
   ]
  },
  {
   "cell_type": "code",
   "execution_count": 7,
   "metadata": {},
   "outputs": [],
   "source": [
    "path = '/Users/viktorsvan/.cache/kagglehub/datasets/bishnushahi/dog-cat-qa/versions/2'\n",
    "csv_path = os.path.join(path, 'Dog-Cat-QA.csv')"
   ]
  },
  {
   "cell_type": "code",
   "execution_count": 8,
   "metadata": {},
   "outputs": [
    {
     "name": "stdout",
     "output_type": "stream",
     "text": [
      "   Unnamed: 0                                           Question  \\\n",
      "0           0  What are some examples of breed-typical person...   \n",
      "1           1  How do working and herding dogs typically behave?   \n",
      "2           2   Which breed of dogs is known for strong loyalty?   \n",
      "3           3  What instincts do guarding dogs typically disp...   \n",
      "4           4  How does breed specificity impact a dog's abil...   \n",
      "\n",
      "                                              Answer  \n",
      "0  Breed-typical personalities in dogs are develo...  \n",
      "1  Working and herding dogs have business-like di...  \n",
      "2  Collies and Akitas are known for their strong ...  \n",
      "3  Guarding dogs tend to be protective of their t...  \n",
      "4  Breed specificity affects how well dogs adapt ...  \n"
     ]
    }
   ],
   "source": [
    "df = pd.read_csv(csv_path)\n",
    "print(df.head())"
   ]
  },
  {
   "cell_type": "code",
   "execution_count": 9,
   "metadata": {},
   "outputs": [
    {
     "name": "stdout",
     "output_type": "stream",
     "text": [
      "                                            Question  \\\n",
      "0  What are some examples of breed-typical person...   \n",
      "1  How do working and herding dogs typically behave?   \n",
      "2   Which breed of dogs is known for strong loyalty?   \n",
      "3  What instincts do guarding dogs typically disp...   \n",
      "4  How does breed specificity impact a dog's abil...   \n",
      "\n",
      "                                              Answer  \n",
      "0  Breed-typical personalities in dogs are develo...  \n",
      "1  Working and herding dogs have business-like di...  \n",
      "2  Collies and Akitas are known for their strong ...  \n",
      "3  Guarding dogs tend to be protective of their t...  \n",
      "4  Breed specificity affects how well dogs adapt ...  \n"
     ]
    }
   ],
   "source": [
    "df = df.drop('Unnamed: 0', axis=1)\n",
    "print(df.head())"
   ]
  },
  {
   "cell_type": "code",
   "execution_count": 18,
   "metadata": {},
   "outputs": [],
   "source": [
    "df.columns = ['question', 'response']"
   ]
  },
  {
   "cell_type": "markdown",
   "metadata": {},
   "source": [
    "Gör om det till dictionary par:"
   ]
  },
  {
   "cell_type": "code",
   "execution_count": 19,
   "metadata": {},
   "outputs": [],
   "source": [
    "data = df.to_dict(orient='records')\n",
    "data = [dspy.Example(**d).with_inputs('question') for d in data]"
   ]
  },
  {
   "cell_type": "code",
   "execution_count": 20,
   "metadata": {},
   "outputs": [
    {
     "data": {
      "text/plain": [
       "Example({'question': 'Which breed of dogs is known for strong loyalty?', 'response': 'Collies and Akitas are known for their strong sense of loyalty.'}) (input_keys={'question'})"
      ]
     },
     "execution_count": 20,
     "metadata": {},
     "output_type": "execute_result"
    }
   ],
   "source": [
    "example = data[2]\n",
    "example"
   ]
  },
  {
   "cell_type": "markdown",
   "metadata": {},
   "source": [
    "Till skillnad från vanlig ML träning: Så ska man dela upp datasetet med 20 procent till träning och 80 procent till validering. \n",
    "\n",
    "\"For prompt optimizers in particular, it's often better to pass more validation than training.\n",
    "20% training and 80% validation."
   ]
  },
  {
   "cell_type": "code",
   "execution_count": 21,
   "metadata": {},
   "outputs": [
    {
     "name": "stdout",
     "output_type": "stream",
     "text": [
      "583\n"
     ]
    }
   ],
   "source": [
    "print(len(data))"
   ]
  },
  {
   "cell_type": "code",
   "execution_count": 22,
   "metadata": {},
   "outputs": [
    {
     "data": {
      "text/plain": [
       "(116, 350, 117)"
      ]
     },
     "execution_count": 22,
     "metadata": {},
     "output_type": "execute_result"
    }
   ],
   "source": [
    "import random\n",
    "\n",
    "random.Random(0).shuffle(data) \n",
    "\n",
    "trainset = data[:116]   # 60% \n",
    "valset   = data[116:466]  # 20% \n",
    "testset  = data[466:583]     # 20% \n",
    "\n",
    "len(trainset), len(valset), len(testset)"
   ]
  },
  {
   "cell_type": "markdown",
   "metadata": {},
   "source": [
    "Nu laddar jag in en Evaluation metric som i sig också är en DSPy module: "
   ]
  },
  {
   "cell_type": "code",
   "execution_count": 23,
   "metadata": {},
   "outputs": [],
   "source": [
    "from dspy.evaluate import SemanticF1"
   ]
  },
  {
   "cell_type": "code",
   "execution_count": 25,
   "metadata": {},
   "outputs": [
    {
     "name": "stdout",
     "output_type": "stream",
     "text": [
      "Question: \t Which breed of dogs is known for strong loyalty?\n",
      "\n",
      "Gold Response: \t Collies and Akitas are known for their strong sense of loyalty.\n",
      "\n",
      "Predicted Response: \t Some specific breeds that are known for strong loyalty include German Shepherds, Doberman Pinschers, and Rottweilers. These breeds have been bred for centuries to be protective of their families and territories, making them highly devoted companions.\n",
      "\n",
      "Semantic F1 Score: 0.86\n"
     ]
    },
    {
     "data": {
      "text/html": [
       "\n",
       "<div>\n",
       "  <style scoped>\n",
       "  button {\n",
       "    border: none;\n",
       "    border-radius: 4px;\n",
       "    background-color: rgb(34, 114, 180);\n",
       "    font-family: -apple-system, \"system-ui\", \"Segoe UI\", Roboto, \"Helvetica Neue\", Arial;\n",
       "    font-size: 13px;\n",
       "    color: white;\n",
       "    margin-top: 8px;\n",
       "    margin-bottom: 8px;\n",
       "    padding: 8px 16px;\n",
       "    cursor: pointer;\n",
       "  }\n",
       "  button:hover {\n",
       "    background-color: rgb(66, 153, 224);\n",
       "  }\n",
       "  </style>\n",
       "  <button\n",
       "    onclick=\"\n",
       "        const display = this.nextElementSibling.style.display;\n",
       "        const isCollapsed = display === 'none';\n",
       "        this.nextElementSibling.style.display = isCollapsed ? null : 'none';\n",
       "\n",
       "        const verb = isCollapsed ? 'Collapse' : 'Expand';\n",
       "        this.innerText = `${verb} MLflow Trace`;\n",
       "    \"\n",
       "  >Collapse MLflow Trace</button>\n",
       "  <iframe\n",
       "    id=\"trace-renderer\"\n",
       "    style=\"width: 100%; height: 500px; border: none; resize: vertical;\"\n",
       "    src=\"http://127.0.0.1:5000/static-files/lib/notebook-trace-renderer/index.html?trace_id=b706d6c49d244b2c8c3a2a662e46e51a&amp;experiment_id=666042206847725913&amp;trace_id=9eaefcaad9d04f01ba599f2de8657cae&amp;experiment_id=666042206847725913&amp;version=2.22.0\"\n",
       "  />\n",
       "</div>\n"
      ],
      "text/plain": [
       "[Trace(request_id=b706d6c49d244b2c8c3a2a662e46e51a), Trace(request_id=9eaefcaad9d04f01ba599f2de8657cae)]"
      ]
     },
     "metadata": {},
     "output_type": "display_data"
    }
   ],
   "source": [
    "metric = SemanticF1(decompositional=True)\n",
    "\n",
    "# Produce a prediction from our `cot` module, using the `example` above as input.\n",
    "pred = model(**example.inputs())\n",
    "\n",
    "# Compute the metric score for the prediction.\n",
    "score = metric(example, pred)\n",
    "\n",
    "print(f\"Question: \\t {example.question}\\n\")\n",
    "print(f\"Gold Response: \\t {example.response}\\n\")\n",
    "print(f\"Predicted Response: \\t {pred.response}\\n\")\n",
    "print(f\"Semantic F1 Score: {score:.2f}\")"
   ]
  },
  {
   "cell_type": "code",
   "execution_count": null,
   "metadata": {},
   "outputs": [],
   "source": []
  }
 ],
 "metadata": {
  "kernelspec": {
   "display_name": "venv",
   "language": "python",
   "name": "python3"
  },
  "language_info": {
   "codemirror_mode": {
    "name": "ipython",
    "version": 3
   },
   "file_extension": ".py",
   "mimetype": "text/x-python",
   "name": "python",
   "nbconvert_exporter": "python",
   "pygments_lexer": "ipython3",
   "version": "3.11.5"
  }
 },
 "nbformat": 4,
 "nbformat_minor": 2
}
