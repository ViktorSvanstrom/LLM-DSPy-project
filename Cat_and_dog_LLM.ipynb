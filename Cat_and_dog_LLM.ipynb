{
 "cells": [
  {
   "cell_type": "code",
   "execution_count": 1,
   "metadata": {},
   "outputs": [
    {
     "name": "stderr",
     "output_type": "stream",
     "text": [
      "/Users/viktorsvan/Python_koder/ingenjor_A_och_maskininlarnings_kod/LLM-DSPy-project/venv/lib/python3.11/site-packages/tqdm/auto.py:21: TqdmWarning: IProgress not found. Please update jupyter and ipywidgets. See https://ipywidgets.readthedocs.io/en/stable/user_install.html\n",
      "  from .autonotebook import tqdm as notebook_tqdm\n"
     ]
    }
   ],
   "source": [
    "import os\n",
    "import dspy\n",
    "import mlflow\n",
    "import pandas as pd\n",
    "from dotenv import load_dotenv\n",
    "import kagglehub\n",
    "import ujson"
   ]
  },
  {
   "cell_type": "code",
   "execution_count": 2,
   "metadata": {},
   "outputs": [],
   "source": [
    "load_dotenv()\n",
    "\n",
    "openai_api_key = os.getenv(\"OPENAI_API_KEY\")\n",
    "lm = dspy.LM(\"gpt-4o\", api_key=openai_api_key)"
   ]
  },
  {
   "cell_type": "code",
   "execution_count": 3,
   "metadata": {},
   "outputs": [],
   "source": [
    "local_lm = dspy.LM(\"ollama_chat/llama3.2\", api_base=\"http://localhost:11434\", api_key=\"\")\n",
    "dspy.configure(lm=local_lm)"
   ]
  },
  {
   "cell_type": "code",
   "execution_count": 4,
   "metadata": {},
   "outputs": [],
   "source": [
    "class Chat(dspy.Signature):\n",
    "    \"You are a helpful assistant that answer questions about cats and dogs.\"\n",
    "    question: str = dspy.InputField(desc=\"Questions asked by the user\")\n",
    "    response: str = dspy.OutputField(desc=\"Response to the question\")\n",
    "\n",
    "class Model(dspy.Module):\n",
    "    def __init__(self):\n",
    "        super().__init__()\n",
    "        self.respond = dspy.ChainOfThought(Chat)\n",
    "\n",
    "    def forward(self, question: str):\n",
    "        return self.respond(question=question)"
   ]
  },
  {
   "cell_type": "code",
   "execution_count": 5,
   "metadata": {},
   "outputs": [],
   "source": [
    "model = Model()"
   ]
  },
  {
   "cell_type": "code",
   "execution_count": 6,
   "metadata": {},
   "outputs": [],
   "source": [
    "#mlflow ui --port 5000\n",
    "mlflow.set_tracking_uri(\"http://127.0.0.1:5000\")\n",
    "mlflow.set_experiment(\"DSPy\")\n",
    "mlflow.dspy.autolog()"
   ]
  },
  {
   "cell_type": "markdown",
   "metadata": {},
   "source": [
    "Laddar ner dataset med beskrivning: \"Contains 583 unique questions and answers related to dogs and cats.\n",
    "It includes questions related to health, training, lifestyle, breeds and commonly asked questions.\""
   ]
  },
  {
   "cell_type": "code",
   "execution_count": 7,
   "metadata": {},
   "outputs": [],
   "source": [
    "path = kagglehub.dataset_download(\"bishnushahi/dog-cat-qa\")"
   ]
  },
  {
   "cell_type": "code",
   "execution_count": 8,
   "metadata": {},
   "outputs": [],
   "source": [
    "\n",
    "csv_path = os.path.join(path, 'Dog-Cat-QA.csv')"
   ]
  },
  {
   "cell_type": "code",
   "execution_count": 9,
   "metadata": {},
   "outputs": [
    {
     "name": "stdout",
     "output_type": "stream",
     "text": [
      "   Unnamed: 0                                           Question  \\\n",
      "0           0  What are some examples of breed-typical person...   \n",
      "1           1  How do working and herding dogs typically behave?   \n",
      "2           2   Which breed of dogs is known for strong loyalty?   \n",
      "3           3  What instincts do guarding dogs typically disp...   \n",
      "4           4  How does breed specificity impact a dog's abil...   \n",
      "\n",
      "                                              Answer  \n",
      "0  Breed-typical personalities in dogs are develo...  \n",
      "1  Working and herding dogs have business-like di...  \n",
      "2  Collies and Akitas are known for their strong ...  \n",
      "3  Guarding dogs tend to be protective of their t...  \n",
      "4  Breed specificity affects how well dogs adapt ...  \n"
     ]
    }
   ],
   "source": [
    "df = pd.read_csv(csv_path)\n",
    "print(df.head())"
   ]
  },
  {
   "cell_type": "code",
   "execution_count": 10,
   "metadata": {},
   "outputs": [
    {
     "name": "stdout",
     "output_type": "stream",
     "text": [
      "                                            Question  \\\n",
      "0  What are some examples of breed-typical person...   \n",
      "1  How do working and herding dogs typically behave?   \n",
      "2   Which breed of dogs is known for strong loyalty?   \n",
      "3  What instincts do guarding dogs typically disp...   \n",
      "4  How does breed specificity impact a dog's abil...   \n",
      "\n",
      "                                              Answer  \n",
      "0  Breed-typical personalities in dogs are develo...  \n",
      "1  Working and herding dogs have business-like di...  \n",
      "2  Collies and Akitas are known for their strong ...  \n",
      "3  Guarding dogs tend to be protective of their t...  \n",
      "4  Breed specificity affects how well dogs adapt ...  \n"
     ]
    }
   ],
   "source": [
    "df = df.drop('Unnamed: 0', axis=1)\n",
    "print(df.head())"
   ]
  },
  {
   "cell_type": "code",
   "execution_count": 11,
   "metadata": {},
   "outputs": [],
   "source": [
    "df.columns = ['question', 'response']"
   ]
  },
  {
   "cell_type": "markdown",
   "metadata": {},
   "source": [
    "Gör om det till dictionary par:"
   ]
  },
  {
   "cell_type": "code",
   "execution_count": 12,
   "metadata": {},
   "outputs": [],
   "source": [
    "data = df.to_dict(orient='records')\n",
    "data = [dspy.Example(**d).with_inputs('question') for d in data]"
   ]
  },
  {
   "cell_type": "code",
   "execution_count": 13,
   "metadata": {},
   "outputs": [
    {
     "data": {
      "text/plain": [
       "Example({'question': 'Which breed of dogs is known for strong loyalty?', 'response': 'Collies and Akitas are known for their strong sense of loyalty.'}) (input_keys={'question'})"
      ]
     },
     "execution_count": 13,
     "metadata": {},
     "output_type": "execute_result"
    }
   ],
   "source": [
    "example = data[2]\n",
    "example"
   ]
  },
  {
   "cell_type": "markdown",
   "metadata": {},
   "source": [
    "Till skillnad från vanlig ML träning: Så ska man dela upp datasetet med 20 procent till träning och 80 procent till validering. \n",
    "\n",
    "\"For prompt optimizers in particular, it's often better to pass more validation than training.\n",
    "20% training and 80% validation."
   ]
  },
  {
   "cell_type": "code",
   "execution_count": 14,
   "metadata": {},
   "outputs": [
    {
     "name": "stdout",
     "output_type": "stream",
     "text": [
      "583\n"
     ]
    }
   ],
   "source": [
    "print(len(data))"
   ]
  },
  {
   "cell_type": "code",
   "execution_count": 15,
   "metadata": {},
   "outputs": [
    {
     "data": {
      "text/plain": [
       "(116, 350, 117)"
      ]
     },
     "execution_count": 15,
     "metadata": {},
     "output_type": "execute_result"
    }
   ],
   "source": [
    "import random\n",
    "\n",
    "random.Random(0).shuffle(data) \n",
    "\n",
    "trainset = data[:116]   # 20% \n",
    "valset   = data[116:466]  # 60% \n",
    "testset  = data[466:583]     # 20% \n",
    "\n",
    "len(trainset), len(valset), len(testset)"
   ]
  },
  {
   "cell_type": "markdown",
   "metadata": {},
   "source": [
    "Nu laddar jag in en Evaluation metric som i sig också är en DSPy module: "
   ]
  },
  {
   "cell_type": "code",
   "execution_count": 16,
   "metadata": {},
   "outputs": [],
   "source": [
    "from dspy.evaluate import SemanticF1"
   ]
  },
  {
   "cell_type": "code",
   "execution_count": 17,
   "metadata": {},
   "outputs": [
    {
     "name": "stdout",
     "output_type": "stream",
     "text": [
      "Question: \t Which breed of dogs is known for strong loyalty?\n",
      "\n",
      "Gold Response: \t Collies and Akitas are known for their strong sense of loyalty.\n",
      "\n",
      "Predicted Response: \t Some specific breeds that are known for strong loyalty include German Shepherds, Doberman Pinschers, and Rottweilers. These breeds have been bred for centuries to be protective of their families and territories, making them highly devoted companions.\n",
      "\n",
      "Semantic F1 Score: 0.86\n"
     ]
    },
    {
     "data": {
      "text/html": [
       "\n",
       "<div>\n",
       "  <style scoped>\n",
       "  button {\n",
       "    border: none;\n",
       "    border-radius: 4px;\n",
       "    background-color: rgb(34, 114, 180);\n",
       "    font-family: -apple-system, \"system-ui\", \"Segoe UI\", Roboto, \"Helvetica Neue\", Arial;\n",
       "    font-size: 13px;\n",
       "    color: white;\n",
       "    margin-top: 8px;\n",
       "    margin-bottom: 8px;\n",
       "    padding: 8px 16px;\n",
       "    cursor: pointer;\n",
       "  }\n",
       "  button:hover {\n",
       "    background-color: rgb(66, 153, 224);\n",
       "  }\n",
       "  </style>\n",
       "  <button\n",
       "    onclick=\"\n",
       "        const display = this.nextElementSibling.style.display;\n",
       "        const isCollapsed = display === 'none';\n",
       "        this.nextElementSibling.style.display = isCollapsed ? null : 'none';\n",
       "\n",
       "        const verb = isCollapsed ? 'Collapse' : 'Expand';\n",
       "        this.innerText = `${verb} MLflow Trace`;\n",
       "    \"\n",
       "  >Collapse MLflow Trace</button>\n",
       "  <iframe\n",
       "    id=\"trace-renderer\"\n",
       "    style=\"width: 100%; height: 500px; border: none; resize: vertical;\"\n",
       "    src=\"http://127.0.0.1:5000/static-files/lib/notebook-trace-renderer/index.html?trace_id=9216c5f4fe3a4f51933394b284533b08&amp;experiment_id=666042206847725913&amp;trace_id=01da9c3a94e945e7885a91871615a042&amp;experiment_id=666042206847725913&amp;version=2.22.0\"\n",
       "  />\n",
       "</div>\n"
      ],
      "text/plain": [
       "[Trace(request_id=9216c5f4fe3a4f51933394b284533b08), Trace(request_id=01da9c3a94e945e7885a91871615a042)]"
      ]
     },
     "metadata": {},
     "output_type": "display_data"
    }
   ],
   "source": [
    "metric = SemanticF1(decompositional=True)\n",
    "\n",
    "# Produce a prediction from our `cot` module, using the `example` above as input.\n",
    "pred = model(**example.inputs())\n",
    "\n",
    "# Compute the metric score for the prediction.\n",
    "score = metric(example, pred)\n",
    "\n",
    "print(f\"Question: \\t {example.question}\\n\")\n",
    "print(f\"Gold Response: \\t {example.response}\\n\")\n",
    "print(f\"Predicted Response: \\t {pred.response}\\n\")\n",
    "print(f\"Semantic F1 Score: {score:.2f}\")"
   ]
  },
  {
   "cell_type": "code",
   "execution_count": 18,
   "metadata": {},
   "outputs": [
    {
     "name": "stdout",
     "output_type": "stream",
     "text": [
      "\n",
      "\n",
      "\n",
      "\n",
      "\u001b[34m[2025-05-18T07:26:37.077033]\u001b[0m\n",
      "\n",
      "\u001b[31mSystem message:\u001b[0m\n",
      "\n",
      "Your input fields are:\n",
      "1. `question` (str)\n",
      "2. `ground_truth` (str)\n",
      "3. `system_response` (str)\n",
      "Your output fields are:\n",
      "1. `reasoning` (str)\n",
      "2. `ground_truth_key_ideas` (str): enumeration of key ideas in the ground truth\n",
      "3. `system_response_key_ideas` (str): enumeration of key ideas in the system response\n",
      "4. `discussion` (str): discussion of the overlap between ground truth and system response\n",
      "5. `recall` (float): fraction (out of 1.0) of ground truth covered by the system response\n",
      "6. `precision` (float): fraction (out of 1.0) of system response covered by the ground truth\n",
      "All interactions will be structured in the following way, with the appropriate values filled in.\n",
      "\n",
      "[[ ## question ## ]]\n",
      "{question}\n",
      "\n",
      "[[ ## ground_truth ## ]]\n",
      "{ground_truth}\n",
      "\n",
      "[[ ## system_response ## ]]\n",
      "{system_response}\n",
      "\n",
      "[[ ## reasoning ## ]]\n",
      "{reasoning}\n",
      "\n",
      "[[ ## ground_truth_key_ideas ## ]]\n",
      "{ground_truth_key_ideas}\n",
      "\n",
      "[[ ## system_response_key_ideas ## ]]\n",
      "{system_response_key_ideas}\n",
      "\n",
      "[[ ## discussion ## ]]\n",
      "{discussion}\n",
      "\n",
      "[[ ## recall ## ]]\n",
      "{recall}        # note: the value you produce must be a single float value\n",
      "\n",
      "[[ ## precision ## ]]\n",
      "{precision}        # note: the value you produce must be a single float value\n",
      "\n",
      "[[ ## completed ## ]]\n",
      "In adhering to this structure, your objective is: \n",
      "        Compare a system's response to the ground truth to compute recall and precision of key ideas.\n",
      "        You will first enumerate key ideas in each response, discuss their overlap, and then report recall and precision.\n",
      "\n",
      "\n",
      "\u001b[31mUser message:\u001b[0m\n",
      "\n",
      "[[ ## question ## ]]\n",
      "Which breed of dogs is known for strong loyalty?\n",
      "\n",
      "[[ ## ground_truth ## ]]\n",
      "Collies and Akitas are known for their strong sense of loyalty.\n",
      "\n",
      "[[ ## system_response ## ]]\n",
      "Some specific breeds that are known for strong loyalty include German Shepherds, Doberman Pinschers, and Rottweilers. These breeds have been bred for centuries to be protective of their families and territories, making them highly devoted companions.\n",
      "\n",
      "Respond with the corresponding output fields, starting with the field `[[ ## reasoning ## ]]`, then `[[ ## ground_truth_key_ideas ## ]]`, then `[[ ## system_response_key_ideas ## ]]`, then `[[ ## discussion ## ]]`, then `[[ ## recall ## ]]` (must be formatted as a valid Python float), then `[[ ## precision ## ]]` (must be formatted as a valid Python float), and then ending with the marker for `[[ ## completed ## ]]`.\n",
      "\n",
      "\n",
      "\u001b[31mResponse:\u001b[0m\n",
      "\n",
      "\u001b[32m[[ ## reasoning ## ]]\n",
      "The system response does not directly mention \"loyalty\" but rather \"protective of their families and territories\", which implies strong loyalty. However, it does list breeds known for strong loyalty.\n",
      "\n",
      "[[ ## ground_truth_key_ideas ## ]]\n",
      "Collies\n",
      "Akitas\n",
      "German Shepherds\n",
      "Doberman Pinschers\n",
      "Rottweilers\n",
      "\n",
      "[[ ## system_response_key_ideas ## ]]\n",
      "German Shepherds\n",
      "Doberman Pinschers\n",
      "Rottweilers\n",
      "\n",
      "[[ ## discussion ## ]]\n",
      "The key ideas in the ground truth are breeds known for strong loyalty, while the system response lists specific breeds that have been bred for centuries to be protective of their families and territories. The overlap between the two is German Shepherds, Doberman Pinschers, and Rottweilers.\n",
      "\n",
      "[[ ## recall ## ]]\n",
      "0.75\n",
      "\n",
      "[[ ## precision ## ]]\n",
      "1.0\n",
      "\n",
      "[[ ## completed ## ]]\u001b[0m\n",
      "\n",
      "\n",
      "\n",
      "\n",
      "\n"
     ]
    }
   ],
   "source": [
    "dspy.inspect_history(n=1)"
   ]
  },
  {
   "cell_type": "code",
   "execution_count": 19,
   "metadata": {},
   "outputs": [],
   "source": [
    "evaluate = dspy.Evaluate(devset=trainset, metric=metric,\n",
    "                         display_progress=True, display_table=2, )"
   ]
  },
  {
   "cell_type": "code",
   "execution_count": 20,
   "metadata": {},
   "outputs": [
    {
     "name": "stdout",
     "output_type": "stream",
     "text": [
      "Average Metric: 77.25 / 116 (66.6%): 100%|██████████| 116/116 [00:01<00:00, 64.59it/s]"
     ]
    },
    {
     "name": "stderr",
     "output_type": "stream",
     "text": [
      "2025/05/18 07:26:38 INFO dspy.evaluate.evaluate: Average Metric: 77.25493796462922 / 116 (66.6%)\n"
     ]
    },
    {
     "name": "stdout",
     "output_type": "stream",
     "text": [
      "\n"
     ]
    },
    {
     "data": {
      "text/html": [
       "<div>\n",
       "<style scoped>\n",
       "    .dataframe tbody tr th:only-of-type {\n",
       "        vertical-align: middle;\n",
       "    }\n",
       "\n",
       "    .dataframe tbody tr th {\n",
       "        vertical-align: top;\n",
       "    }\n",
       "\n",
       "    .dataframe thead th {\n",
       "        text-align: right;\n",
       "    }\n",
       "</style>\n",
       "<table border=\"1\" class=\"dataframe\">\n",
       "  <thead>\n",
       "    <tr style=\"text-align: right;\">\n",
       "      <th></th>\n",
       "      <th>question</th>\n",
       "      <th>example_response</th>\n",
       "      <th>reasoning</th>\n",
       "      <th>pred_response</th>\n",
       "      <th>SemanticF1</th>\n",
       "    </tr>\n",
       "  </thead>\n",
       "  <tbody>\n",
       "    <tr>\n",
       "      <th>0</th>\n",
       "      <td>Describe the distinctive appearance and temperament of the Birman ...</td>\n",
       "      <td>: The Birman cat is colorpointed with long silky hair and four pur...</td>\n",
       "      <td>The Birman cat is a breed known for its distinctive appearance and...</td>\n",
       "      <td>The Birman cat is a breed that combines striking appearance with a...</td>\n",
       "      <td>✔️ [0.774]</td>\n",
       "    </tr>\n",
       "    <tr>\n",
       "      <th>1</th>\n",
       "      <td>What other considerations should pet owners keep in mind when choo...</td>\n",
       "      <td>Pet owners should consider factors like cost, refrigeration requir...</td>\n",
       "      <td>When choosing between wet and dry cat food, pet owners should also...</td>\n",
       "      <td>When choosing between wet and dry cat food, consider your cat's in...</td>\n",
       "      <td>✔️ [0.667]</td>\n",
       "    </tr>\n",
       "  </tbody>\n",
       "</table>\n",
       "</div>"
      ],
      "text/plain": [
       "                                                                question  \\\n",
       "0  Describe the distinctive appearance and temperament of the Birman ...   \n",
       "1  What other considerations should pet owners keep in mind when choo...   \n",
       "\n",
       "                                                        example_response  \\\n",
       "0  : The Birman cat is colorpointed with long silky hair and four pur...   \n",
       "1  Pet owners should consider factors like cost, refrigeration requir...   \n",
       "\n",
       "                                                               reasoning  \\\n",
       "0  The Birman cat is a breed known for its distinctive appearance and...   \n",
       "1  When choosing between wet and dry cat food, pet owners should also...   \n",
       "\n",
       "                                                           pred_response  \\\n",
       "0  The Birman cat is a breed that combines striking appearance with a...   \n",
       "1  When choosing between wet and dry cat food, consider your cat's in...   \n",
       "\n",
       "   SemanticF1  \n",
       "0  ✔️ [0.774]  \n",
       "1  ✔️ [0.667]  "
      ]
     },
     "metadata": {},
     "output_type": "display_data"
    },
    {
     "data": {
      "text/html": [
       "\n",
       "            <div style='\n",
       "                text-align: center;\n",
       "                font-size: 16px;\n",
       "                font-weight: bold;\n",
       "                color: #555;\n",
       "                margin: 10px 0;'>\n",
       "                ... 114 more rows not displayed ...\n",
       "            </div>\n",
       "            "
      ],
      "text/plain": [
       "<IPython.core.display.HTML object>"
      ]
     },
     "metadata": {},
     "output_type": "display_data"
    },
    {
     "data": {
      "text/plain": [
       "66.6"
      ]
     },
     "execution_count": 20,
     "metadata": {},
     "output_type": "execute_result"
    },
    {
     "data": {
      "text/html": [
       "\n",
       "<div>\n",
       "  <style scoped>\n",
       "  button {\n",
       "    border: none;\n",
       "    border-radius: 4px;\n",
       "    background-color: rgb(34, 114, 180);\n",
       "    font-family: -apple-system, \"system-ui\", \"Segoe UI\", Roboto, \"Helvetica Neue\", Arial;\n",
       "    font-size: 13px;\n",
       "    color: white;\n",
       "    margin-top: 8px;\n",
       "    margin-bottom: 8px;\n",
       "    padding: 8px 16px;\n",
       "    cursor: pointer;\n",
       "  }\n",
       "  button:hover {\n",
       "    background-color: rgb(66, 153, 224);\n",
       "  }\n",
       "  </style>\n",
       "  <button\n",
       "    onclick=\"\n",
       "        const display = this.nextElementSibling.style.display;\n",
       "        const isCollapsed = display === 'none';\n",
       "        this.nextElementSibling.style.display = isCollapsed ? null : 'none';\n",
       "\n",
       "        const verb = isCollapsed ? 'Collapse' : 'Expand';\n",
       "        this.innerText = `${verb} MLflow Trace`;\n",
       "    \"\n",
       "  >Collapse MLflow Trace</button>\n",
       "  <iframe\n",
       "    id=\"trace-renderer\"\n",
       "    style=\"width: 100%; height: 500px; border: none; resize: vertical;\"\n",
       "    src=\"http://127.0.0.1:5000/static-files/lib/notebook-trace-renderer/index.html?trace_id=1bce7f3d17ba4835ace8ed55af9d26f0&amp;experiment_id=666042206847725913&amp;trace_id=b74150d9975643d695a7f78e84d0604f&amp;experiment_id=666042206847725913&amp;trace_id=17f63fd89b334b14bc399597a5a4d27f&amp;experiment_id=666042206847725913&amp;trace_id=6f152a09aa244d5bb70c3e90bf4d6e32&amp;experiment_id=666042206847725913&amp;trace_id=cd23c9f56485430ab6a9730d744101bf&amp;experiment_id=666042206847725913&amp;trace_id=dd40959edef340c2af97b7cf4ea6b357&amp;experiment_id=666042206847725913&amp;trace_id=dbe7beab2f6a45e5a78d127907462a51&amp;experiment_id=666042206847725913&amp;trace_id=3602adbc26594324be606363a05ca88d&amp;experiment_id=666042206847725913&amp;trace_id=23116cd9a6db4eb7a65b92a585dc8363&amp;experiment_id=666042206847725913&amp;trace_id=770b364e13834f73a765ecdf492ced3a&amp;experiment_id=666042206847725913&amp;version=2.22.0\"\n",
       "  />\n",
       "</div>\n"
      ],
      "text/plain": [
       "[Trace(request_id=1bce7f3d17ba4835ace8ed55af9d26f0), Trace(request_id=b74150d9975643d695a7f78e84d0604f), Trace(request_id=17f63fd89b334b14bc399597a5a4d27f), Trace(request_id=6f152a09aa244d5bb70c3e90bf4d6e32), Trace(request_id=cd23c9f56485430ab6a9730d744101bf), Trace(request_id=dd40959edef340c2af97b7cf4ea6b357), Trace(request_id=dbe7beab2f6a45e5a78d127907462a51), Trace(request_id=3602adbc26594324be606363a05ca88d), Trace(request_id=23116cd9a6db4eb7a65b92a585dc8363), Trace(request_id=770b364e13834f73a765ecdf492ced3a)]"
      ]
     },
     "metadata": {},
     "output_type": "display_data"
    }
   ],
   "source": [
    "evaluate(model)"
   ]
  },
  {
   "cell_type": "code",
   "execution_count": 21,
   "metadata": {},
   "outputs": [
    {
     "name": "stderr",
     "output_type": "stream",
     "text": [
      "2025/05/18 07:26:39 INFO dspy.teleprompt.mipro_optimizer_v2: \n",
      "RUNNING WITH THE FOLLOWING LIGHT AUTO RUN SETTINGS:\n",
      "num_trials: 10\n",
      "minibatch: True\n",
      "num_fewshot_candidates: 6\n",
      "num_instruct_candidates: 3\n",
      "valset size: 100\n",
      "\n",
      "2025/05/18 07:26:39 INFO dspy.teleprompt.mipro_optimizer_v2: \n",
      "==> STEP 1: BOOTSTRAP FEWSHOT EXAMPLES <==\n",
      "2025/05/18 07:26:39 INFO dspy.teleprompt.mipro_optimizer_v2: These will be used as few-shot example candidates for our program and for creating instructions.\n",
      "\n",
      "2025/05/18 07:26:39 INFO dspy.teleprompt.mipro_optimizer_v2: Bootstrapping N=6 sets of demonstrations...\n"
     ]
    },
    {
     "name": "stdout",
     "output_type": "stream",
     "text": [
      "Optimizing zero-shot program MIPROv2...\n",
      "Bootstrapping set 1/6\n",
      "Bootstrapping set 2/6\n",
      "Bootstrapping set 3/6\n"
     ]
    },
    {
     "name": "stderr",
     "output_type": "stream",
     "text": [
      "  0%|          | 0/116 [00:00<?, ?it/s]2025/05/18 07:26:39 ERROR dspy.teleprompt.bootstrap: Failed to run or to evaluate example Example({'question': 'Describe the distinctive appearance and temperament of the Birman cat.', 'response': ': The Birman cat is colorpointed with long silky hair and four pure white feet. It has a strong head with a firm chin and is friendly, affectionate, and docile.'}) (input_keys={'question'}) with <class 'dspy.evaluate.auto_evaluation.SemanticF1'> due to SemanticF1.__init__() takes from 1 to 3 positional arguments but 4 were given.\n",
      "2025/05/18 07:26:39 ERROR dspy.teleprompt.bootstrap: Failed to run or to evaluate example Example({'question': 'What other considerations should pet owners keep in mind when choosing between wet and dry cat food?', 'response': 'Pet owners should consider factors like cost, refrigeration requirements, and shelf life when choosing between wet and dry cat food.'}) (input_keys={'question'}) with <class 'dspy.evaluate.auto_evaluation.SemanticF1'> due to SemanticF1.__init__() takes from 1 to 3 positional arguments but 4 were given.\n",
      "2025/05/18 07:26:39 ERROR dspy.teleprompt.bootstrap: Failed to run or to evaluate example Example({'question': ' What should you be prepared to do as a Pit Bull parent to combat negative stereotypes about the breed?', 'response': \" As a Pit Bull parent, you should be prepared to educate others about the breed's temperament and history and counter negative perceptions.\"}) (input_keys={'question'}) with <class 'dspy.evaluate.auto_evaluation.SemanticF1'> due to SemanticF1.__init__() takes from 1 to 3 positional arguments but 4 were given.\n",
      "2025/05/18 07:26:39 ERROR dspy.teleprompt.bootstrap: Failed to run or to evaluate example Example({'question': \" What is the significance of a cat's sleeping patterns, and why are they often active during the night?\", 'response': ' Cats sleep between 12 and 18 hours a day, with increased sleep as they age. Their crepuscular nature means they are more active during the night, reflecting their natural hunting instincts.'}) (input_keys={'question'}) with <class 'dspy.evaluate.auto_evaluation.SemanticF1'> due to SemanticF1.__init__() takes from 1 to 3 positional arguments but 4 were given.\n",
      "2025/05/18 07:26:39 ERROR dspy.teleprompt.bootstrap: Failed to run or to evaluate example Example({'question': 'What instincts do guarding dogs typically display, especially at an early age?', 'response': 'Guarding dogs tend to be protective of their territories, even from a young age. They are often placed with the animals they are meant to protect, such as sheep, to reinforce their protective instincts.'}) (input_keys={'question'}) with <class 'dspy.evaluate.auto_evaluation.SemanticF1'> due to SemanticF1.__init__() takes from 1 to 3 positional arguments but 4 were given.\n",
      "2025/05/18 07:26:39 ERROR dspy.teleprompt.bootstrap: Failed to run or to evaluate example Example({'question': 'What are some concerns associated with pediatric neutering?', 'response': 'Some concerns associated with pediatric neutering include the long-term safety of operating on such young animals, potential effects on growth and development, behavioral problems, and increased incidence of certain health issues. However, these concerns have been addressed in the veterinary literature and found to be unwarranted.'}) (input_keys={'question'}) with <class 'dspy.evaluate.auto_evaluation.SemanticF1'> due to SemanticF1.__init__() takes from 1 to 3 positional arguments but 4 were given.\n",
      "2025/05/18 07:26:39 ERROR dspy.teleprompt.bootstrap: Failed to run or to evaluate example Example({'question': ' What are the recommended ways to minimize risks when allowing a cat to go outdoors?', 'response': \" To minimize risks when allowing a cat outdoors, it's essential to ensure they are properly vaccinated, especially against diseases spread by other cats. The safest methods are harness training and taking walks together or providing a screened-in enclosure or a fenced-in yard with cat-proof netting.\"}) (input_keys={'question'}) with <class 'dspy.evaluate.auto_evaluation.SemanticF1'> due to SemanticF1.__init__() takes from 1 to 3 positional arguments but 4 were given.\n",
      "2025/05/18 07:26:39 ERROR dspy.teleprompt.bootstrap: Failed to run or to evaluate example Example({'question': 'What should you consider when deciding whether or not to vaccinate your cat?', 'response': \"The decision to vaccinate your cat should be based on factors like their risk of exposure, health status, and past medical history. Discuss vaccination with your veterinarian to make an informed decision based on your cat's individual circumstances.\"}) (input_keys={'question'}) with <class 'dspy.evaluate.auto_evaluation.SemanticF1'> due to SemanticF1.__init__() takes from 1 to 3 positional arguments but 4 were given.\n",
      "2025/05/18 07:26:39 ERROR dspy.teleprompt.bootstrap: Failed to run or to evaluate example Example({'question': 'Are there any potential side effects or adverse reactions to probiotics in cats?', 'response': \"While probiotics for cats are generally considered safe, individual cats may react differently. Potential side effects may include gastrointestinal discomfort, although adverse side effects are minimal. It's essential to choose probiotics carefully and monitor your cat's response. Consulting with a veterinarian before starting probiotic supplementation is advisable, especially for cats with underlying health conditions.\"}) (input_keys={'question'}) with <class 'dspy.evaluate.auto_evaluation.SemanticF1'> due to SemanticF1.__init__() takes from 1 to 3 positional arguments but 4 were given.\n",
      "  8%|▊         | 9/116 [00:00<00:00, 671.90it/s]\n",
      "2025/05/18 07:26:39 INFO dspy.teleprompt.mipro_optimizer_v2: Error generating few-shot examples: SemanticF1.__init__() takes from 1 to 3 positional arguments but 4 were given\n",
      "2025/05/18 07:26:39 INFO dspy.teleprompt.mipro_optimizer_v2: Running without few-shot examples.\n",
      "2025/05/18 07:26:39 INFO dspy.teleprompt.mipro_optimizer_v2: \n",
      "==> STEP 2: PROPOSE INSTRUCTION CANDIDATES <==\n",
      "2025/05/18 07:26:39 INFO dspy.teleprompt.mipro_optimizer_v2: We will use the few-shot examples from the previous step, a generated dataset summary, a summary of the program code, and a randomly selected prompting tip to propose instructions.\n",
      "2025/05/18 07:26:39 WARNING dspy.adapters.json_adapter: Failed to use structured output format. Falling back to JSON mode. Error: 'type' object is not iterable\n",
      "2025/05/18 07:26:39 WARNING dspy.adapters.json_adapter: Failed to use structured output format. Falling back to JSON mode. Error: 'type' object is not iterable\n",
      "2025/05/18 07:26:39 INFO dspy.teleprompt.mipro_optimizer_v2: \n",
      "Proposing N=3 instructions...\n",
      "\n",
      "2025/05/18 07:26:39 WARNING dspy.adapters.json_adapter: Failed to use structured output format. Falling back to JSON mode. Error: 'type' object is not iterable\n",
      "2025/05/18 07:26:39 INFO dspy.teleprompt.mipro_optimizer_v2: Proposed Instructions for Predictor 0:\n",
      "\n",
      "2025/05/18 07:26:39 INFO dspy.teleprompt.mipro_optimizer_v2: 0: You are a helpful assistant that answer questions about cats and dogs.\n",
      "\n",
      "2025/05/18 07:26:39 INFO dspy.teleprompt.mipro_optimizer_v2: 1: To prompt the Language Model to generate a response that takes into account the reasoning process and provides a helpful answer, you can use the following instruction:\n",
      "\n",
      "\"You are a veterinarian who needs to provide a diagnosis and treatment plan for a critically ill cat within the next 30 minutes. Please respond with a clear and concise explanation of the condition, recommended medication, and any necessary follow-up care.\n",
      "\n",
      "2025/05/18 07:26:39 INFO dspy.teleprompt.mipro_optimizer_v2: 2: To prompt a Language Model to better solve tasks related to answering questions about cats and dogs, you can use the following instruction:\n",
      "\n",
      "\"Provide a helpful response to a user's question about cats or dogs, guiding them through your thought process with relevant reasoning steps.\n",
      "\n",
      "2025/05/18 07:26:39 INFO dspy.teleprompt.mipro_optimizer_v2: \n",
      "\n",
      "2025/05/18 07:26:39 INFO dspy.teleprompt.mipro_optimizer_v2: ==> STEP 3: FINDING OPTIMAL PROMPT PARAMETERS <==\n",
      "2025/05/18 07:26:39 INFO dspy.teleprompt.mipro_optimizer_v2: We will evaluate the program over a series of trials with different combinations of instructions and few-shot examples to find the optimal combination using Bayesian Optimization.\n",
      "\n",
      "2025/05/18 07:26:39 INFO dspy.teleprompt.mipro_optimizer_v2: == Trial 1 / 13 - Full Evaluation of Default Program ==\n"
     ]
    },
    {
     "name": "stdout",
     "output_type": "stream",
     "text": [
      "  0%|          | 0/100 [00:00<?, ?it/s]"
     ]
    },
    {
     "name": "stderr",
     "output_type": "stream",
     "text": [
      "2025/05/18 07:26:39 ERROR dspy.teleprompt.utils: An exception occurred during evaluation\n",
      "Traceback (most recent call last):\n",
      "  File \"/Users/viktorsvan/Python_koder/ingenjor_A_och_maskininlarnings_kod/LLM-DSPy-project/venv/lib/python3.11/site-packages/dspy/teleprompt/utils.py\", line 51, in eval_candidate_program\n",
      "    return evaluate(candidate_program, devset=trainset, return_all_scores=return_all_scores, callback_metadata={\"metric_key\": \"eval_full\"})\n",
      "           ^^^^^^^^^^^^^^^^^^^^^^^^^^^^^^^^^^^^^^^^^^^^^^^^^^^^^^^^^^^^^^^^^^^^^^^^^^^^^^^^^^^^^^^^^^^^^^^^^^^^^^^^^^^^^^^^^^^^^^^^^^^^^^^^\n",
      "  File \"/Users/viktorsvan/Python_koder/ingenjor_A_och_maskininlarnings_kod/LLM-DSPy-project/venv/lib/python3.11/site-packages/mlflow/utils/autologging_utils/safety.py\", line 402, in safe_patch_function\n",
      "    return original(*args, **kwargs)\n",
      "           ^^^^^^^^^^^^^^^^^^^^^^^^^\n",
      "  File \"/Users/viktorsvan/Python_koder/ingenjor_A_och_maskininlarnings_kod/LLM-DSPy-project/venv/lib/python3.11/site-packages/dspy/utils/callback.py\", line 343, in sync_wrapper\n",
      "    raise exception\n",
      "  File \"/Users/viktorsvan/Python_koder/ingenjor_A_och_maskininlarnings_kod/LLM-DSPy-project/venv/lib/python3.11/site-packages/dspy/utils/callback.py\", line 339, in sync_wrapper\n",
      "    results = fn(instance, *args, **kwargs)\n",
      "              ^^^^^^^^^^^^^^^^^^^^^^^^^^^^^\n",
      "  File \"/Users/viktorsvan/Python_koder/ingenjor_A_och_maskininlarnings_kod/LLM-DSPy-project/venv/lib/python3.11/site-packages/dspy/evaluate/evaluate.py\", line 170, in __call__\n",
      "    results = executor.execute(process_item, devset)\n",
      "              ^^^^^^^^^^^^^^^^^^^^^^^^^^^^^^^^^^^^^^\n",
      "  File \"/Users/viktorsvan/Python_koder/ingenjor_A_och_maskininlarnings_kod/LLM-DSPy-project/venv/lib/python3.11/site-packages/dspy/utils/parallelizer.py\", line 48, in execute\n",
      "    return self._execute_parallel(wrapped, data)\n",
      "           ^^^^^^^^^^^^^^^^^^^^^^^^^^^^^^^^^^^^^\n",
      "  File \"/Users/viktorsvan/Python_koder/ingenjor_A_och_maskininlarnings_kod/LLM-DSPy-project/venv/lib/python3.11/site-packages/dspy/utils/parallelizer.py\", line 163, in _execute_parallel\n",
      "    self._update_progress(pbar, sum(vals), len(vals))\n",
      "                                ^^^^^^^^^\n",
      "TypeError: unsupported operand type(s) for +: 'int' and 'SemanticF1'\n",
      "2025/05/18 07:26:39 INFO dspy.teleprompt.mipro_optimizer_v2: Default program score: 0.0\n",
      "\n",
      "/Users/viktorsvan/Python_koder/ingenjor_A_och_maskininlarnings_kod/LLM-DSPy-project/venv/lib/python3.11/site-packages/optuna/_experimental.py:31: ExperimentalWarning: Argument ``multivariate`` is an experimental feature. The interface can change in the future.\n",
      "  warnings.warn(\n",
      "2025/05/18 07:26:39 INFO dspy.teleprompt.mipro_optimizer_v2: == Trial 2 / 13 - Minibatch ==\n"
     ]
    },
    {
     "name": "stdout",
     "output_type": "stream",
     "text": [
      "  0%|          | 0/35 [00:00<?, ?it/s]"
     ]
    },
    {
     "name": "stderr",
     "output_type": "stream",
     "text": [
      "2025/05/18 07:26:39 ERROR dspy.teleprompt.utils: An exception occurred during evaluation\n",
      "Traceback (most recent call last):\n",
      "  File \"/Users/viktorsvan/Python_koder/ingenjor_A_och_maskininlarnings_kod/LLM-DSPy-project/venv/lib/python3.11/site-packages/dspy/teleprompt/utils.py\", line 54, in eval_candidate_program\n",
      "    return evaluate(\n",
      "           ^^^^^^^^^\n",
      "  File \"/Users/viktorsvan/Python_koder/ingenjor_A_och_maskininlarnings_kod/LLM-DSPy-project/venv/lib/python3.11/site-packages/mlflow/utils/autologging_utils/safety.py\", line 402, in safe_patch_function\n",
      "    return original(*args, **kwargs)\n",
      "           ^^^^^^^^^^^^^^^^^^^^^^^^^\n",
      "  File \"/Users/viktorsvan/Python_koder/ingenjor_A_och_maskininlarnings_kod/LLM-DSPy-project/venv/lib/python3.11/site-packages/dspy/utils/callback.py\", line 343, in sync_wrapper\n",
      "    raise exception\n",
      "  File \"/Users/viktorsvan/Python_koder/ingenjor_A_och_maskininlarnings_kod/LLM-DSPy-project/venv/lib/python3.11/site-packages/dspy/utils/callback.py\", line 339, in sync_wrapper\n",
      "    results = fn(instance, *args, **kwargs)\n",
      "              ^^^^^^^^^^^^^^^^^^^^^^^^^^^^^\n",
      "  File \"/Users/viktorsvan/Python_koder/ingenjor_A_och_maskininlarnings_kod/LLM-DSPy-project/venv/lib/python3.11/site-packages/dspy/evaluate/evaluate.py\", line 170, in __call__\n",
      "    results = executor.execute(process_item, devset)\n",
      "              ^^^^^^^^^^^^^^^^^^^^^^^^^^^^^^^^^^^^^^\n",
      "  File \"/Users/viktorsvan/Python_koder/ingenjor_A_och_maskininlarnings_kod/LLM-DSPy-project/venv/lib/python3.11/site-packages/dspy/utils/parallelizer.py\", line 48, in execute\n",
      "    return self._execute_parallel(wrapped, data)\n",
      "           ^^^^^^^^^^^^^^^^^^^^^^^^^^^^^^^^^^^^^\n",
      "  File \"/Users/viktorsvan/Python_koder/ingenjor_A_och_maskininlarnings_kod/LLM-DSPy-project/venv/lib/python3.11/site-packages/dspy/utils/parallelizer.py\", line 163, in _execute_parallel\n",
      "    self._update_progress(pbar, sum(vals), len(vals))\n",
      "                                ^^^^^^^^^\n",
      "TypeError: unsupported operand type(s) for +: 'int' and 'SemanticF1'\n",
      "2025/05/18 07:26:39 INFO dspy.teleprompt.mipro_optimizer_v2: Score: 0.0 on minibatch of size 35 with parameters ['Predictor 0: Instruction 1'].\n",
      "2025/05/18 07:26:39 INFO dspy.teleprompt.mipro_optimizer_v2: Minibatch scores so far: [0.0]\n"
     ]
    },
    {
     "name": "stdout",
     "output_type": "stream",
     "text": [
      "  0%|          | 0/35 [00:00<?, ?it/s]"
     ]
    },
    {
     "name": "stderr",
     "output_type": "stream",
     "text": [
      "2025/05/18 07:26:39 INFO dspy.teleprompt.mipro_optimizer_v2: Full eval scores so far: [0.0]\n",
      "2025/05/18 07:26:39 INFO dspy.teleprompt.mipro_optimizer_v2: Best full score so far: 0.0\n",
      "2025/05/18 07:26:39 INFO dspy.teleprompt.mipro_optimizer_v2: =========================================\n",
      "\n",
      "\n",
      "2025/05/18 07:26:39 INFO dspy.teleprompt.mipro_optimizer_v2: == Trial 3 / 13 - Minibatch ==\n"
     ]
    },
    {
     "name": "stdout",
     "output_type": "stream",
     "text": [
      "\n",
      "  0%|          | 0/35 [00:00<?, ?it/s]"
     ]
    },
    {
     "name": "stderr",
     "output_type": "stream",
     "text": [
      "2025/05/18 07:26:39 ERROR dspy.teleprompt.utils: An exception occurred during evaluation\n",
      "Traceback (most recent call last):\n",
      "  File \"/Users/viktorsvan/Python_koder/ingenjor_A_och_maskininlarnings_kod/LLM-DSPy-project/venv/lib/python3.11/site-packages/dspy/teleprompt/utils.py\", line 54, in eval_candidate_program\n",
      "    return evaluate(\n",
      "           ^^^^^^^^^\n",
      "  File \"/Users/viktorsvan/Python_koder/ingenjor_A_och_maskininlarnings_kod/LLM-DSPy-project/venv/lib/python3.11/site-packages/mlflow/utils/autologging_utils/safety.py\", line 402, in safe_patch_function\n",
      "    return original(*args, **kwargs)\n",
      "           ^^^^^^^^^^^^^^^^^^^^^^^^^\n",
      "  File \"/Users/viktorsvan/Python_koder/ingenjor_A_och_maskininlarnings_kod/LLM-DSPy-project/venv/lib/python3.11/site-packages/dspy/utils/callback.py\", line 343, in sync_wrapper\n",
      "    raise exception\n",
      "  File \"/Users/viktorsvan/Python_koder/ingenjor_A_och_maskininlarnings_kod/LLM-DSPy-project/venv/lib/python3.11/site-packages/dspy/utils/callback.py\", line 339, in sync_wrapper\n",
      "    results = fn(instance, *args, **kwargs)\n",
      "              ^^^^^^^^^^^^^^^^^^^^^^^^^^^^^\n",
      "  File \"/Users/viktorsvan/Python_koder/ingenjor_A_och_maskininlarnings_kod/LLM-DSPy-project/venv/lib/python3.11/site-packages/dspy/evaluate/evaluate.py\", line 170, in __call__\n",
      "    results = executor.execute(process_item, devset)\n",
      "              ^^^^^^^^^^^^^^^^^^^^^^^^^^^^^^^^^^^^^^\n",
      "  File \"/Users/viktorsvan/Python_koder/ingenjor_A_och_maskininlarnings_kod/LLM-DSPy-project/venv/lib/python3.11/site-packages/dspy/utils/parallelizer.py\", line 48, in execute\n",
      "    return self._execute_parallel(wrapped, data)\n",
      "           ^^^^^^^^^^^^^^^^^^^^^^^^^^^^^^^^^^^^^\n",
      "  File \"/Users/viktorsvan/Python_koder/ingenjor_A_och_maskininlarnings_kod/LLM-DSPy-project/venv/lib/python3.11/site-packages/dspy/utils/parallelizer.py\", line 163, in _execute_parallel\n",
      "    self._update_progress(pbar, sum(vals), len(vals))\n",
      "                                ^^^^^^^^^\n",
      "TypeError: unsupported operand type(s) for +: 'int' and 'SemanticF1'\n",
      "2025/05/18 07:26:39 INFO dspy.teleprompt.mipro_optimizer_v2: Score: 0.0 on minibatch of size 35 with parameters ['Predictor 0: Instruction 2'].\n",
      "2025/05/18 07:26:39 INFO dspy.teleprompt.mipro_optimizer_v2: Minibatch scores so far: [0.0, 0.0]\n",
      "2025/05/18 07:26:39 INFO dspy.teleprompt.mipro_optimizer_v2: Full eval scores so far: [0.0]\n",
      "2025/05/18 07:26:39 INFO dspy.teleprompt.mipro_optimizer_v2: Best full score so far: 0.0\n",
      "2025/05/18 07:26:39 INFO dspy.teleprompt.mipro_optimizer_v2: =========================================\n",
      "\n",
      "\n"
     ]
    },
    {
     "name": "stdout",
     "output_type": "stream",
     "text": [
      "  0%|          | 0/35 [00:00<?, ?it/s]"
     ]
    },
    {
     "name": "stderr",
     "output_type": "stream",
     "text": [
      "2025/05/18 07:26:39 INFO dspy.teleprompt.mipro_optimizer_v2: == Trial 4 / 13 - Minibatch ==\n"
     ]
    },
    {
     "name": "stdout",
     "output_type": "stream",
     "text": [
      "\n",
      "  0%|          | 0/35 [00:00<?, ?it/s]"
     ]
    },
    {
     "name": "stderr",
     "output_type": "stream",
     "text": [
      "2025/05/18 07:26:39 ERROR dspy.teleprompt.utils: An exception occurred during evaluation\n",
      "Traceback (most recent call last):\n",
      "  File \"/Users/viktorsvan/Python_koder/ingenjor_A_och_maskininlarnings_kod/LLM-DSPy-project/venv/lib/python3.11/site-packages/dspy/teleprompt/utils.py\", line 54, in eval_candidate_program\n",
      "    return evaluate(\n",
      "           ^^^^^^^^^\n",
      "  File \"/Users/viktorsvan/Python_koder/ingenjor_A_och_maskininlarnings_kod/LLM-DSPy-project/venv/lib/python3.11/site-packages/mlflow/utils/autologging_utils/safety.py\", line 402, in safe_patch_function\n",
      "    return original(*args, **kwargs)\n",
      "           ^^^^^^^^^^^^^^^^^^^^^^^^^\n",
      "  File \"/Users/viktorsvan/Python_koder/ingenjor_A_och_maskininlarnings_kod/LLM-DSPy-project/venv/lib/python3.11/site-packages/dspy/utils/callback.py\", line 343, in sync_wrapper\n",
      "    raise exception\n",
      "  File \"/Users/viktorsvan/Python_koder/ingenjor_A_och_maskininlarnings_kod/LLM-DSPy-project/venv/lib/python3.11/site-packages/dspy/utils/callback.py\", line 339, in sync_wrapper\n",
      "    results = fn(instance, *args, **kwargs)\n",
      "              ^^^^^^^^^^^^^^^^^^^^^^^^^^^^^\n",
      "  File \"/Users/viktorsvan/Python_koder/ingenjor_A_och_maskininlarnings_kod/LLM-DSPy-project/venv/lib/python3.11/site-packages/dspy/evaluate/evaluate.py\", line 170, in __call__\n",
      "    results = executor.execute(process_item, devset)\n",
      "              ^^^^^^^^^^^^^^^^^^^^^^^^^^^^^^^^^^^^^^\n",
      "  File \"/Users/viktorsvan/Python_koder/ingenjor_A_och_maskininlarnings_kod/LLM-DSPy-project/venv/lib/python3.11/site-packages/dspy/utils/parallelizer.py\", line 48, in execute\n",
      "    return self._execute_parallel(wrapped, data)\n",
      "           ^^^^^^^^^^^^^^^^^^^^^^^^^^^^^^^^^^^^^\n",
      "  File \"/Users/viktorsvan/Python_koder/ingenjor_A_och_maskininlarnings_kod/LLM-DSPy-project/venv/lib/python3.11/site-packages/dspy/utils/parallelizer.py\", line 163, in _execute_parallel\n",
      "    self._update_progress(pbar, sum(vals), len(vals))\n",
      "                                ^^^^^^^^^\n",
      "TypeError: unsupported operand type(s) for +: 'int' and 'SemanticF1'\n",
      "2025/05/18 07:26:39 INFO dspy.teleprompt.mipro_optimizer_v2: Score: 0.0 on minibatch of size 35 with parameters ['Predictor 0: Instruction 0'].\n",
      "2025/05/18 07:26:39 INFO dspy.teleprompt.mipro_optimizer_v2: Minibatch scores so far: [0.0, 0.0, 0.0]\n",
      "2025/05/18 07:26:39 INFO dspy.teleprompt.mipro_optimizer_v2: Full eval scores so far: [0.0]\n",
      "2025/05/18 07:26:39 INFO dspy.teleprompt.mipro_optimizer_v2: Best full score so far: 0.0\n",
      "2025/05/18 07:26:39 INFO dspy.teleprompt.mipro_optimizer_v2: =========================================\n",
      "\n",
      "\n",
      "2025/05/18 07:26:39 INFO dspy.teleprompt.mipro_optimizer_v2: == Trial 5 / 13 - Minibatch ==\n"
     ]
    },
    {
     "name": "stdout",
     "output_type": "stream",
     "text": [
      "  0%|          | 0/35 [00:00<?, ?it/s]\n",
      "  0%|          | 0/35 [00:00<?, ?it/s]"
     ]
    },
    {
     "name": "stderr",
     "output_type": "stream",
     "text": [
      "2025/05/18 07:26:39 ERROR dspy.teleprompt.utils: An exception occurred during evaluation\n",
      "Traceback (most recent call last):\n",
      "  File \"/Users/viktorsvan/Python_koder/ingenjor_A_och_maskininlarnings_kod/LLM-DSPy-project/venv/lib/python3.11/site-packages/dspy/teleprompt/utils.py\", line 54, in eval_candidate_program\n",
      "    return evaluate(\n",
      "           ^^^^^^^^^\n",
      "  File \"/Users/viktorsvan/Python_koder/ingenjor_A_och_maskininlarnings_kod/LLM-DSPy-project/venv/lib/python3.11/site-packages/mlflow/utils/autologging_utils/safety.py\", line 402, in safe_patch_function\n",
      "    return original(*args, **kwargs)\n",
      "           ^^^^^^^^^^^^^^^^^^^^^^^^^\n",
      "  File \"/Users/viktorsvan/Python_koder/ingenjor_A_och_maskininlarnings_kod/LLM-DSPy-project/venv/lib/python3.11/site-packages/dspy/utils/callback.py\", line 343, in sync_wrapper\n",
      "    raise exception\n",
      "  File \"/Users/viktorsvan/Python_koder/ingenjor_A_och_maskininlarnings_kod/LLM-DSPy-project/venv/lib/python3.11/site-packages/dspy/utils/callback.py\", line 339, in sync_wrapper\n",
      "    results = fn(instance, *args, **kwargs)\n",
      "              ^^^^^^^^^^^^^^^^^^^^^^^^^^^^^\n",
      "  File \"/Users/viktorsvan/Python_koder/ingenjor_A_och_maskininlarnings_kod/LLM-DSPy-project/venv/lib/python3.11/site-packages/dspy/evaluate/evaluate.py\", line 170, in __call__\n",
      "    results = executor.execute(process_item, devset)\n",
      "              ^^^^^^^^^^^^^^^^^^^^^^^^^^^^^^^^^^^^^^\n",
      "  File \"/Users/viktorsvan/Python_koder/ingenjor_A_och_maskininlarnings_kod/LLM-DSPy-project/venv/lib/python3.11/site-packages/dspy/utils/parallelizer.py\", line 48, in execute\n",
      "    return self._execute_parallel(wrapped, data)\n",
      "           ^^^^^^^^^^^^^^^^^^^^^^^^^^^^^^^^^^^^^\n",
      "  File \"/Users/viktorsvan/Python_koder/ingenjor_A_och_maskininlarnings_kod/LLM-DSPy-project/venv/lib/python3.11/site-packages/dspy/utils/parallelizer.py\", line 163, in _execute_parallel\n",
      "    self._update_progress(pbar, sum(vals), len(vals))\n",
      "                                ^^^^^^^^^\n",
      "TypeError: unsupported operand type(s) for +: 'int' and 'SemanticF1'\n",
      "2025/05/18 07:26:39 INFO dspy.teleprompt.mipro_optimizer_v2: Score: 0.0 on minibatch of size 35 with parameters ['Predictor 0: Instruction 2'].\n"
     ]
    },
    {
     "name": "stdout",
     "output_type": "stream",
     "text": [
      "  0%|          | 0/35 [00:00<?, ?it/s]"
     ]
    },
    {
     "name": "stderr",
     "output_type": "stream",
     "text": [
      "2025/05/18 07:26:39 INFO dspy.teleprompt.mipro_optimizer_v2: Minibatch scores so far: [0.0, 0.0, 0.0, 0.0]\n"
     ]
    },
    {
     "name": "stdout",
     "output_type": "stream",
     "text": [
      "\n"
     ]
    },
    {
     "name": "stderr",
     "output_type": "stream",
     "text": [
      "2025/05/18 07:26:39 INFO dspy.teleprompt.mipro_optimizer_v2: Full eval scores so far: [0.0]\n",
      "2025/05/18 07:26:39 INFO dspy.teleprompt.mipro_optimizer_v2: Best full score so far: 0.0\n",
      "2025/05/18 07:26:39 INFO dspy.teleprompt.mipro_optimizer_v2: =========================================\n",
      "\n",
      "\n",
      "2025/05/18 07:26:39 INFO dspy.teleprompt.mipro_optimizer_v2: == Trial 6 / 13 - Minibatch ==\n"
     ]
    },
    {
     "name": "stdout",
     "output_type": "stream",
     "text": [
      "  0%|          | 0/35 [00:00<?, ?it/s]"
     ]
    },
    {
     "name": "stderr",
     "output_type": "stream",
     "text": [
      "2025/05/18 07:26:39 ERROR dspy.teleprompt.utils: An exception occurred during evaluation\n",
      "Traceback (most recent call last):\n",
      "  File \"/Users/viktorsvan/Python_koder/ingenjor_A_och_maskininlarnings_kod/LLM-DSPy-project/venv/lib/python3.11/site-packages/dspy/teleprompt/utils.py\", line 54, in eval_candidate_program\n",
      "    return evaluate(\n",
      "           ^^^^^^^^^\n",
      "  File \"/Users/viktorsvan/Python_koder/ingenjor_A_och_maskininlarnings_kod/LLM-DSPy-project/venv/lib/python3.11/site-packages/mlflow/utils/autologging_utils/safety.py\", line 402, in safe_patch_function\n",
      "    return original(*args, **kwargs)\n",
      "           ^^^^^^^^^^^^^^^^^^^^^^^^^\n",
      "  File \"/Users/viktorsvan/Python_koder/ingenjor_A_och_maskininlarnings_kod/LLM-DSPy-project/venv/lib/python3.11/site-packages/dspy/utils/callback.py\", line 343, in sync_wrapper\n",
      "    raise exception\n",
      "  File \"/Users/viktorsvan/Python_koder/ingenjor_A_och_maskininlarnings_kod/LLM-DSPy-project/venv/lib/python3.11/site-packages/dspy/utils/callback.py\", line 339, in sync_wrapper\n",
      "    results = fn(instance, *args, **kwargs)\n",
      "              ^^^^^^^^^^^^^^^^^^^^^^^^^^^^^\n",
      "  File \"/Users/viktorsvan/Python_koder/ingenjor_A_och_maskininlarnings_kod/LLM-DSPy-project/venv/lib/python3.11/site-packages/dspy/evaluate/evaluate.py\", line 170, in __call__\n",
      "    results = executor.execute(process_item, devset)\n",
      "              ^^^^^^^^^^^^^^^^^^^^^^^^^^^^^^^^^^^^^^\n",
      "  File \"/Users/viktorsvan/Python_koder/ingenjor_A_och_maskininlarnings_kod/LLM-DSPy-project/venv/lib/python3.11/site-packages/dspy/utils/parallelizer.py\", line 48, in execute\n",
      "    return self._execute_parallel(wrapped, data)\n",
      "           ^^^^^^^^^^^^^^^^^^^^^^^^^^^^^^^^^^^^^\n",
      "  File \"/Users/viktorsvan/Python_koder/ingenjor_A_och_maskininlarnings_kod/LLM-DSPy-project/venv/lib/python3.11/site-packages/dspy/utils/parallelizer.py\", line 163, in _execute_parallel\n",
      "    self._update_progress(pbar, sum(vals), len(vals))\n",
      "                                ^^^^^^^^^\n",
      "TypeError: unsupported operand type(s) for +: 'int' and 'SemanticF1'\n",
      "2025/05/18 07:26:39 INFO dspy.teleprompt.mipro_optimizer_v2: Score: 0.0 on minibatch of size 35 with parameters ['Predictor 0: Instruction 0'].\n",
      "2025/05/18 07:26:39 INFO dspy.teleprompt.mipro_optimizer_v2: Minibatch scores so far: [0.0, 0.0, 0.0, 0.0, 0.0]\n",
      "2025/05/18 07:26:39 INFO dspy.teleprompt.mipro_optimizer_v2: Full eval scores so far: [0.0]\n"
     ]
    },
    {
     "name": "stdout",
     "output_type": "stream",
     "text": [
      "  0%|          | 0/35 [00:00<?, ?it/s]"
     ]
    },
    {
     "name": "stderr",
     "output_type": "stream",
     "text": [
      "2025/05/18 07:26:39 INFO dspy.teleprompt.mipro_optimizer_v2: Best full score so far: 0.0\n",
      "2025/05/18 07:26:39 INFO dspy.teleprompt.mipro_optimizer_v2: =========================================\n",
      "\n",
      "\n",
      "2025/05/18 07:26:39 INFO dspy.teleprompt.mipro_optimizer_v2: ===== Trial 7 / 13 - Full Evaluation =====\n",
      "2025/05/18 07:26:39 INFO dspy.teleprompt.mipro_optimizer_v2: Doing full eval on next top averaging program (Avg Score: 0.0) from minibatch trials...\n"
     ]
    },
    {
     "name": "stdout",
     "output_type": "stream",
     "text": [
      "\n",
      "  0%|          | 0/100 [00:00<?, ?it/s]"
     ]
    },
    {
     "name": "stderr",
     "output_type": "stream",
     "text": [
      "2025/05/18 07:26:39 ERROR dspy.teleprompt.utils: An exception occurred during evaluation\n",
      "Traceback (most recent call last):\n",
      "  File \"/Users/viktorsvan/Python_koder/ingenjor_A_och_maskininlarnings_kod/LLM-DSPy-project/venv/lib/python3.11/site-packages/dspy/teleprompt/utils.py\", line 51, in eval_candidate_program\n",
      "    return evaluate(candidate_program, devset=trainset, return_all_scores=return_all_scores, callback_metadata={\"metric_key\": \"eval_full\"})\n",
      "           ^^^^^^^^^^^^^^^^^^^^^^^^^^^^^^^^^^^^^^^^^^^^^^^^^^^^^^^^^^^^^^^^^^^^^^^^^^^^^^^^^^^^^^^^^^^^^^^^^^^^^^^^^^^^^^^^^^^^^^^^^^^^^^^^\n",
      "  File \"/Users/viktorsvan/Python_koder/ingenjor_A_och_maskininlarnings_kod/LLM-DSPy-project/venv/lib/python3.11/site-packages/mlflow/utils/autologging_utils/safety.py\", line 402, in safe_patch_function\n",
      "    return original(*args, **kwargs)\n",
      "           ^^^^^^^^^^^^^^^^^^^^^^^^^\n",
      "  File \"/Users/viktorsvan/Python_koder/ingenjor_A_och_maskininlarnings_kod/LLM-DSPy-project/venv/lib/python3.11/site-packages/dspy/utils/callback.py\", line 343, in sync_wrapper\n",
      "    raise exception\n",
      "  File \"/Users/viktorsvan/Python_koder/ingenjor_A_och_maskininlarnings_kod/LLM-DSPy-project/venv/lib/python3.11/site-packages/dspy/utils/callback.py\", line 339, in sync_wrapper\n",
      "    results = fn(instance, *args, **kwargs)\n",
      "              ^^^^^^^^^^^^^^^^^^^^^^^^^^^^^\n",
      "  File \"/Users/viktorsvan/Python_koder/ingenjor_A_och_maskininlarnings_kod/LLM-DSPy-project/venv/lib/python3.11/site-packages/dspy/evaluate/evaluate.py\", line 170, in __call__\n",
      "    results = executor.execute(process_item, devset)\n",
      "              ^^^^^^^^^^^^^^^^^^^^^^^^^^^^^^^^^^^^^^\n",
      "  File \"/Users/viktorsvan/Python_koder/ingenjor_A_och_maskininlarnings_kod/LLM-DSPy-project/venv/lib/python3.11/site-packages/dspy/utils/parallelizer.py\", line 48, in execute\n",
      "    return self._execute_parallel(wrapped, data)\n",
      "           ^^^^^^^^^^^^^^^^^^^^^^^^^^^^^^^^^^^^^\n",
      "  File \"/Users/viktorsvan/Python_koder/ingenjor_A_och_maskininlarnings_kod/LLM-DSPy-project/venv/lib/python3.11/site-packages/dspy/utils/parallelizer.py\", line 163, in _execute_parallel\n",
      "    self._update_progress(pbar, sum(vals), len(vals))\n",
      "                                ^^^^^^^^^\n",
      "TypeError: unsupported operand type(s) for +: 'int' and 'SemanticF1'\n",
      "2025/05/18 07:26:39 INFO dspy.teleprompt.mipro_optimizer_v2: Full eval scores so far: [0.0, 0.0]\n"
     ]
    },
    {
     "name": "stdout",
     "output_type": "stream",
     "text": [
      "  0%|          | 0/100 [00:00<?, ?it/s]"
     ]
    },
    {
     "name": "stderr",
     "output_type": "stream",
     "text": [
      "2025/05/18 07:26:39 INFO dspy.teleprompt.mipro_optimizer_v2: Best full score so far: 0.0\n",
      "2025/05/18 07:26:39 INFO dspy.teleprompt.mipro_optimizer_v2: =======================\n",
      "2025/05/18 07:26:39 INFO dspy.teleprompt.mipro_optimizer_v2: \n",
      "\n",
      "2025/05/18 07:26:39 INFO dspy.teleprompt.mipro_optimizer_v2: == Trial 8 / 13 - Minibatch ==\n"
     ]
    },
    {
     "name": "stdout",
     "output_type": "stream",
     "text": [
      "\n",
      "  0%|          | 0/35 [00:00<?, ?it/s]"
     ]
    },
    {
     "name": "stderr",
     "output_type": "stream",
     "text": [
      "2025/05/18 07:26:39 ERROR dspy.teleprompt.utils: An exception occurred during evaluation\n",
      "Traceback (most recent call last):\n",
      "  File \"/Users/viktorsvan/Python_koder/ingenjor_A_och_maskininlarnings_kod/LLM-DSPy-project/venv/lib/python3.11/site-packages/dspy/teleprompt/utils.py\", line 54, in eval_candidate_program\n",
      "    return evaluate(\n",
      "           ^^^^^^^^^\n",
      "  File \"/Users/viktorsvan/Python_koder/ingenjor_A_och_maskininlarnings_kod/LLM-DSPy-project/venv/lib/python3.11/site-packages/mlflow/utils/autologging_utils/safety.py\", line 402, in safe_patch_function\n",
      "    return original(*args, **kwargs)\n",
      "           ^^^^^^^^^^^^^^^^^^^^^^^^^\n",
      "  File \"/Users/viktorsvan/Python_koder/ingenjor_A_och_maskininlarnings_kod/LLM-DSPy-project/venv/lib/python3.11/site-packages/dspy/utils/callback.py\", line 343, in sync_wrapper\n",
      "    raise exception\n",
      "  File \"/Users/viktorsvan/Python_koder/ingenjor_A_och_maskininlarnings_kod/LLM-DSPy-project/venv/lib/python3.11/site-packages/dspy/utils/callback.py\", line 339, in sync_wrapper\n",
      "    results = fn(instance, *args, **kwargs)\n",
      "              ^^^^^^^^^^^^^^^^^^^^^^^^^^^^^\n",
      "  File \"/Users/viktorsvan/Python_koder/ingenjor_A_och_maskininlarnings_kod/LLM-DSPy-project/venv/lib/python3.11/site-packages/dspy/evaluate/evaluate.py\", line 170, in __call__\n",
      "    results = executor.execute(process_item, devset)\n",
      "              ^^^^^^^^^^^^^^^^^^^^^^^^^^^^^^^^^^^^^^\n",
      "  File \"/Users/viktorsvan/Python_koder/ingenjor_A_och_maskininlarnings_kod/LLM-DSPy-project/venv/lib/python3.11/site-packages/dspy/utils/parallelizer.py\", line 48, in execute\n",
      "    return self._execute_parallel(wrapped, data)\n",
      "           ^^^^^^^^^^^^^^^^^^^^^^^^^^^^^^^^^^^^^\n",
      "  File \"/Users/viktorsvan/Python_koder/ingenjor_A_och_maskininlarnings_kod/LLM-DSPy-project/venv/lib/python3.11/site-packages/dspy/utils/parallelizer.py\", line 163, in _execute_parallel\n",
      "    self._update_progress(pbar, sum(vals), len(vals))\n",
      "                                ^^^^^^^^^\n",
      "TypeError: unsupported operand type(s) for +: 'int' and 'SemanticF1'\n",
      "2025/05/18 07:26:39 INFO dspy.teleprompt.mipro_optimizer_v2: Score: 0.0 on minibatch of size 35 with parameters ['Predictor 0: Instruction 1'].\n",
      "2025/05/18 07:26:39 INFO dspy.teleprompt.mipro_optimizer_v2: Minibatch scores so far: [0.0, 0.0, 0.0, 0.0, 0.0, 0.0]\n",
      "2025/05/18 07:26:39 INFO dspy.teleprompt.mipro_optimizer_v2: Full eval scores so far: [0.0, 0.0]\n",
      "2025/05/18 07:26:39 INFO dspy.teleprompt.mipro_optimizer_v2: Best full score so far: 0.0\n",
      "2025/05/18 07:26:39 INFO dspy.teleprompt.mipro_optimizer_v2: =========================================\n",
      "\n",
      "\n",
      "2025/05/18 07:26:39 INFO dspy.teleprompt.mipro_optimizer_v2: == Trial 9 / 13 - Minibatch ==\n"
     ]
    },
    {
     "name": "stdout",
     "output_type": "stream",
     "text": [
      "  0%|          | 0/35 [00:00<?, ?it/s]\n"
     ]
    },
    {
     "name": "stderr",
     "output_type": "stream",
     "text": [
      "2025/05/18 07:26:39 ERROR dspy.teleprompt.utils: An exception occurred during evaluation\n",
      "Traceback (most recent call last):\n",
      "  File \"/Users/viktorsvan/Python_koder/ingenjor_A_och_maskininlarnings_kod/LLM-DSPy-project/venv/lib/python3.11/site-packages/dspy/teleprompt/utils.py\", line 54, in eval_candidate_program\n",
      "    return evaluate(\n",
      "           ^^^^^^^^^\n",
      "  File \"/Users/viktorsvan/Python_koder/ingenjor_A_och_maskininlarnings_kod/LLM-DSPy-project/venv/lib/python3.11/site-packages/mlflow/utils/autologging_utils/safety.py\", line 402, in safe_patch_function\n",
      "    return original(*args, **kwargs)\n",
      "           ^^^^^^^^^^^^^^^^^^^^^^^^^\n",
      "  File \"/Users/viktorsvan/Python_koder/ingenjor_A_och_maskininlarnings_kod/LLM-DSPy-project/venv/lib/python3.11/site-packages/dspy/utils/callback.py\", line 343, in sync_wrapper\n",
      "    raise exception\n",
      "  File \"/Users/viktorsvan/Python_koder/ingenjor_A_och_maskininlarnings_kod/LLM-DSPy-project/venv/lib/python3.11/site-packages/dspy/utils/callback.py\", line 339, in sync_wrapper\n",
      "    results = fn(instance, *args, **kwargs)\n",
      "              ^^^^^^^^^^^^^^^^^^^^^^^^^^^^^\n",
      "  File \"/Users/viktorsvan/Python_koder/ingenjor_A_och_maskininlarnings_kod/LLM-DSPy-project/venv/lib/python3.11/site-packages/dspy/evaluate/evaluate.py\", line 170, in __call__\n",
      "    results = executor.execute(process_item, devset)\n",
      "              ^^^^^^^^^^^^^^^^^^^^^^^^^^^^^^^^^^^^^^\n",
      "  File \"/Users/viktorsvan/Python_koder/ingenjor_A_och_maskininlarnings_kod/LLM-DSPy-project/venv/lib/python3.11/site-packages/dspy/utils/parallelizer.py\", line 48, in execute\n",
      "    return self._execute_parallel(wrapped, data)\n",
      "           ^^^^^^^^^^^^^^^^^^^^^^^^^^^^^^^^^^^^^\n",
      "  File \"/Users/viktorsvan/Python_koder/ingenjor_A_och_maskininlarnings_kod/LLM-DSPy-project/venv/lib/python3.11/site-packages/dspy/utils/parallelizer.py\", line 163, in _execute_parallel\n",
      "    self._update_progress(pbar, sum(vals), len(vals))\n",
      "                                ^^^^^^^^^\n",
      "TypeError: unsupported operand type(s) for +: 'int' and 'SemanticF1'\n",
      "2025/05/18 07:26:39 INFO dspy.teleprompt.mipro_optimizer_v2: Score: 0.0 on minibatch of size 35 with parameters ['Predictor 0: Instruction 1'].\n",
      "2025/05/18 07:26:39 INFO dspy.teleprompt.mipro_optimizer_v2: Minibatch scores so far: [0.0, 0.0, 0.0, 0.0, 0.0, 0.0, 0.0]\n",
      "2025/05/18 07:26:39 INFO dspy.teleprompt.mipro_optimizer_v2: Full eval scores so far: [0.0, 0.0]\n",
      "2025/05/18 07:26:39 INFO dspy.teleprompt.mipro_optimizer_v2: Best full score so far: 0.0\n",
      "2025/05/18 07:26:39 INFO dspy.teleprompt.mipro_optimizer_v2: =========================================\n",
      "\n",
      "\n",
      "2025/05/18 07:26:39 INFO dspy.teleprompt.mipro_optimizer_v2: == Trial 10 / 13 - Minibatch ==\n"
     ]
    },
    {
     "name": "stdout",
     "output_type": "stream",
     "text": [
      "  0%|          | 0/35 [00:00<?, ?it/s]\n"
     ]
    },
    {
     "name": "stderr",
     "output_type": "stream",
     "text": [
      "2025/05/18 07:26:39 ERROR dspy.teleprompt.utils: An exception occurred during evaluation\n",
      "Traceback (most recent call last):\n",
      "  File \"/Users/viktorsvan/Python_koder/ingenjor_A_och_maskininlarnings_kod/LLM-DSPy-project/venv/lib/python3.11/site-packages/dspy/teleprompt/utils.py\", line 54, in eval_candidate_program\n",
      "    return evaluate(\n",
      "           ^^^^^^^^^\n",
      "  File \"/Users/viktorsvan/Python_koder/ingenjor_A_och_maskininlarnings_kod/LLM-DSPy-project/venv/lib/python3.11/site-packages/mlflow/utils/autologging_utils/safety.py\", line 402, in safe_patch_function\n",
      "    return original(*args, **kwargs)\n",
      "           ^^^^^^^^^^^^^^^^^^^^^^^^^\n",
      "  File \"/Users/viktorsvan/Python_koder/ingenjor_A_och_maskininlarnings_kod/LLM-DSPy-project/venv/lib/python3.11/site-packages/dspy/utils/callback.py\", line 343, in sync_wrapper\n",
      "    raise exception\n",
      "  File \"/Users/viktorsvan/Python_koder/ingenjor_A_och_maskininlarnings_kod/LLM-DSPy-project/venv/lib/python3.11/site-packages/dspy/utils/callback.py\", line 339, in sync_wrapper\n",
      "    results = fn(instance, *args, **kwargs)\n",
      "              ^^^^^^^^^^^^^^^^^^^^^^^^^^^^^\n",
      "  File \"/Users/viktorsvan/Python_koder/ingenjor_A_och_maskininlarnings_kod/LLM-DSPy-project/venv/lib/python3.11/site-packages/dspy/evaluate/evaluate.py\", line 170, in __call__\n",
      "    results = executor.execute(process_item, devset)\n",
      "              ^^^^^^^^^^^^^^^^^^^^^^^^^^^^^^^^^^^^^^\n",
      "  File \"/Users/viktorsvan/Python_koder/ingenjor_A_och_maskininlarnings_kod/LLM-DSPy-project/venv/lib/python3.11/site-packages/dspy/utils/parallelizer.py\", line 48, in execute\n",
      "    return self._execute_parallel(wrapped, data)\n",
      "           ^^^^^^^^^^^^^^^^^^^^^^^^^^^^^^^^^^^^^\n",
      "  File \"/Users/viktorsvan/Python_koder/ingenjor_A_och_maskininlarnings_kod/LLM-DSPy-project/venv/lib/python3.11/site-packages/dspy/utils/parallelizer.py\", line 163, in _execute_parallel\n",
      "    self._update_progress(pbar, sum(vals), len(vals))\n",
      "                                ^^^^^^^^^\n",
      "TypeError: unsupported operand type(s) for +: 'int' and 'SemanticF1'\n",
      "2025/05/18 07:26:39 INFO dspy.teleprompt.mipro_optimizer_v2: Score: 0.0 on minibatch of size 35 with parameters ['Predictor 0: Instruction 1'].\n",
      "2025/05/18 07:26:39 INFO dspy.teleprompt.mipro_optimizer_v2: Minibatch scores so far: [0.0, 0.0, 0.0, 0.0, 0.0, 0.0, 0.0, 0.0]\n",
      "2025/05/18 07:26:39 INFO dspy.teleprompt.mipro_optimizer_v2: Full eval scores so far: [0.0, 0.0]\n",
      "2025/05/18 07:26:39 INFO dspy.teleprompt.mipro_optimizer_v2: Best full score so far: 0.0\n",
      "2025/05/18 07:26:39 INFO dspy.teleprompt.mipro_optimizer_v2: ==========================================\n",
      "\n",
      "\n",
      "2025/05/18 07:26:39 INFO dspy.teleprompt.mipro_optimizer_v2: == Trial 11 / 13 - Minibatch ==\n"
     ]
    },
    {
     "name": "stdout",
     "output_type": "stream",
     "text": [
      "  0%|          | 0/35 [00:00<?, ?it/s]\n",
      "  0%|          | 0/35 [00:00<?, ?it/s]"
     ]
    },
    {
     "name": "stderr",
     "output_type": "stream",
     "text": [
      "2025/05/18 07:26:39 ERROR dspy.teleprompt.utils: An exception occurred during evaluation\n",
      "Traceback (most recent call last):\n",
      "  File \"/Users/viktorsvan/Python_koder/ingenjor_A_och_maskininlarnings_kod/LLM-DSPy-project/venv/lib/python3.11/site-packages/dspy/teleprompt/utils.py\", line 54, in eval_candidate_program\n",
      "    return evaluate(\n",
      "           ^^^^^^^^^\n",
      "  File \"/Users/viktorsvan/Python_koder/ingenjor_A_och_maskininlarnings_kod/LLM-DSPy-project/venv/lib/python3.11/site-packages/mlflow/utils/autologging_utils/safety.py\", line 402, in safe_patch_function\n",
      "    return original(*args, **kwargs)\n",
      "           ^^^^^^^^^^^^^^^^^^^^^^^^^\n",
      "  File \"/Users/viktorsvan/Python_koder/ingenjor_A_och_maskininlarnings_kod/LLM-DSPy-project/venv/lib/python3.11/site-packages/dspy/utils/callback.py\", line 343, in sync_wrapper\n",
      "    raise exception\n",
      "  File \"/Users/viktorsvan/Python_koder/ingenjor_A_och_maskininlarnings_kod/LLM-DSPy-project/venv/lib/python3.11/site-packages/dspy/utils/callback.py\", line 339, in sync_wrapper\n",
      "    results = fn(instance, *args, **kwargs)\n",
      "              ^^^^^^^^^^^^^^^^^^^^^^^^^^^^^\n",
      "  File \"/Users/viktorsvan/Python_koder/ingenjor_A_och_maskininlarnings_kod/LLM-DSPy-project/venv/lib/python3.11/site-packages/dspy/evaluate/evaluate.py\", line 170, in __call__\n",
      "    results = executor.execute(process_item, devset)\n",
      "              ^^^^^^^^^^^^^^^^^^^^^^^^^^^^^^^^^^^^^^\n",
      "  File \"/Users/viktorsvan/Python_koder/ingenjor_A_och_maskininlarnings_kod/LLM-DSPy-project/venv/lib/python3.11/site-packages/dspy/utils/parallelizer.py\", line 48, in execute\n",
      "    return self._execute_parallel(wrapped, data)\n",
      "           ^^^^^^^^^^^^^^^^^^^^^^^^^^^^^^^^^^^^^\n",
      "  File \"/Users/viktorsvan/Python_koder/ingenjor_A_och_maskininlarnings_kod/LLM-DSPy-project/venv/lib/python3.11/site-packages/dspy/utils/parallelizer.py\", line 163, in _execute_parallel\n",
      "    self._update_progress(pbar, sum(vals), len(vals))\n",
      "                                ^^^^^^^^^\n",
      "TypeError: unsupported operand type(s) for +: 'int' and 'SemanticF1'\n",
      "2025/05/18 07:26:39 INFO dspy.teleprompt.mipro_optimizer_v2: Score: 0.0 on minibatch of size 35 with parameters ['Predictor 0: Instruction 0'].\n",
      "2025/05/18 07:26:39 INFO dspy.teleprompt.mipro_optimizer_v2: Minibatch scores so far: [0.0, 0.0, 0.0, 0.0, 0.0, 0.0, 0.0, 0.0, 0.0]\n",
      "2025/05/18 07:26:39 INFO dspy.teleprompt.mipro_optimizer_v2: Full eval scores so far: [0.0, 0.0]\n",
      "2025/05/18 07:26:39 INFO dspy.teleprompt.mipro_optimizer_v2: Best full score so far: 0.0\n"
     ]
    },
    {
     "name": "stdout",
     "output_type": "stream",
     "text": [
      "  0%|          | 0/35 [00:00<?, ?it/s]"
     ]
    },
    {
     "name": "stderr",
     "output_type": "stream",
     "text": [
      "2025/05/18 07:26:39 INFO dspy.teleprompt.mipro_optimizer_v2: ==========================================\n",
      "\n",
      "\n",
      "2025/05/18 07:26:39 INFO dspy.teleprompt.mipro_optimizer_v2: == Trial 12 / 13 - Minibatch ==\n"
     ]
    },
    {
     "name": "stdout",
     "output_type": "stream",
     "text": [
      "\n",
      "  0%|          | 0/100 [00:00<?, ?it/s]\n",
      "  0%|          | 0/35 [00:00<?, ?it/s]"
     ]
    },
    {
     "name": "stderr",
     "output_type": "stream",
     "text": [
      "2025/05/18 07:26:39 ERROR dspy.teleprompt.utils: An exception occurred during evaluation\n",
      "Traceback (most recent call last):\n",
      "  File \"/Users/viktorsvan/Python_koder/ingenjor_A_och_maskininlarnings_kod/LLM-DSPy-project/venv/lib/python3.11/site-packages/dspy/teleprompt/utils.py\", line 54, in eval_candidate_program\n",
      "    return evaluate(\n",
      "           ^^^^^^^^^\n",
      "  File \"/Users/viktorsvan/Python_koder/ingenjor_A_och_maskininlarnings_kod/LLM-DSPy-project/venv/lib/python3.11/site-packages/mlflow/utils/autologging_utils/safety.py\", line 402, in safe_patch_function\n",
      "    return original(*args, **kwargs)\n",
      "           ^^^^^^^^^^^^^^^^^^^^^^^^^\n",
      "  File \"/Users/viktorsvan/Python_koder/ingenjor_A_och_maskininlarnings_kod/LLM-DSPy-project/venv/lib/python3.11/site-packages/dspy/utils/callback.py\", line 343, in sync_wrapper\n",
      "    raise exception\n",
      "  File \"/Users/viktorsvan/Python_koder/ingenjor_A_och_maskininlarnings_kod/LLM-DSPy-project/venv/lib/python3.11/site-packages/dspy/utils/callback.py\", line 339, in sync_wrapper\n",
      "    results = fn(instance, *args, **kwargs)\n",
      "              ^^^^^^^^^^^^^^^^^^^^^^^^^^^^^\n",
      "  File \"/Users/viktorsvan/Python_koder/ingenjor_A_och_maskininlarnings_kod/LLM-DSPy-project/venv/lib/python3.11/site-packages/dspy/evaluate/evaluate.py\", line 170, in __call__\n",
      "    results = executor.execute(process_item, devset)\n",
      "              ^^^^^^^^^^^^^^^^^^^^^^^^^^^^^^^^^^^^^^\n",
      "  File \"/Users/viktorsvan/Python_koder/ingenjor_A_och_maskininlarnings_kod/LLM-DSPy-project/venv/lib/python3.11/site-packages/dspy/utils/parallelizer.py\", line 48, in execute\n",
      "    return self._execute_parallel(wrapped, data)\n",
      "           ^^^^^^^^^^^^^^^^^^^^^^^^^^^^^^^^^^^^^\n",
      "  File \"/Users/viktorsvan/Python_koder/ingenjor_A_och_maskininlarnings_kod/LLM-DSPy-project/venv/lib/python3.11/site-packages/dspy/utils/parallelizer.py\", line 163, in _execute_parallel\n",
      "    self._update_progress(pbar, sum(vals), len(vals))\n",
      "                                ^^^^^^^^^\n",
      "TypeError: unsupported operand type(s) for +: 'int' and 'SemanticF1'\n",
      "2025/05/18 07:26:39 INFO dspy.teleprompt.mipro_optimizer_v2: Score: 0.0 on minibatch of size 35 with parameters ['Predictor 0: Instruction 0'].\n",
      "2025/05/18 07:26:39 INFO dspy.teleprompt.mipro_optimizer_v2: Minibatch scores so far: [0.0, 0.0, 0.0, 0.0, 0.0, 0.0, 0.0, 0.0, 0.0, 0.0]\n",
      "2025/05/18 07:26:39 INFO dspy.teleprompt.mipro_optimizer_v2: Full eval scores so far: [0.0, 0.0]\n",
      "2025/05/18 07:26:39 INFO dspy.teleprompt.mipro_optimizer_v2: Best full score so far: 0.0\n",
      "2025/05/18 07:26:39 INFO dspy.teleprompt.mipro_optimizer_v2: ==========================================\n",
      "\n",
      "\n",
      "2025/05/18 07:26:39 INFO dspy.teleprompt.mipro_optimizer_v2: ===== Trial 13 / 13 - Full Evaluation =====\n",
      "2025/05/18 07:26:39 INFO dspy.teleprompt.mipro_optimizer_v2: Doing full eval on next top averaging program (Avg Score: 0.0) from minibatch trials...\n"
     ]
    },
    {
     "name": "stdout",
     "output_type": "stream",
     "text": [
      "  0%|          | 0/100 [00:00<?, ?it/s]"
     ]
    },
    {
     "name": "stderr",
     "output_type": "stream",
     "text": [
      "2025/05/18 07:26:39 ERROR dspy.teleprompt.utils: An exception occurred during evaluation\n",
      "Traceback (most recent call last):\n",
      "  File \"/Users/viktorsvan/Python_koder/ingenjor_A_och_maskininlarnings_kod/LLM-DSPy-project/venv/lib/python3.11/site-packages/dspy/teleprompt/utils.py\", line 51, in eval_candidate_program\n",
      "    return evaluate(candidate_program, devset=trainset, return_all_scores=return_all_scores, callback_metadata={\"metric_key\": \"eval_full\"})\n",
      "           ^^^^^^^^^^^^^^^^^^^^^^^^^^^^^^^^^^^^^^^^^^^^^^^^^^^^^^^^^^^^^^^^^^^^^^^^^^^^^^^^^^^^^^^^^^^^^^^^^^^^^^^^^^^^^^^^^^^^^^^^^^^^^^^^\n",
      "  File \"/Users/viktorsvan/Python_koder/ingenjor_A_och_maskininlarnings_kod/LLM-DSPy-project/venv/lib/python3.11/site-packages/mlflow/utils/autologging_utils/safety.py\", line 402, in safe_patch_function\n",
      "    return original(*args, **kwargs)\n",
      "           ^^^^^^^^^^^^^^^^^^^^^^^^^\n",
      "  File \"/Users/viktorsvan/Python_koder/ingenjor_A_och_maskininlarnings_kod/LLM-DSPy-project/venv/lib/python3.11/site-packages/dspy/utils/callback.py\", line 343, in sync_wrapper\n",
      "    raise exception\n",
      "  File \"/Users/viktorsvan/Python_koder/ingenjor_A_och_maskininlarnings_kod/LLM-DSPy-project/venv/lib/python3.11/site-packages/dspy/utils/callback.py\", line 339, in sync_wrapper\n",
      "    results = fn(instance, *args, **kwargs)\n",
      "              ^^^^^^^^^^^^^^^^^^^^^^^^^^^^^\n",
      "  File \"/Users/viktorsvan/Python_koder/ingenjor_A_och_maskininlarnings_kod/LLM-DSPy-project/venv/lib/python3.11/site-packages/dspy/evaluate/evaluate.py\", line 170, in __call__\n",
      "    results = executor.execute(process_item, devset)\n",
      "              ^^^^^^^^^^^^^^^^^^^^^^^^^^^^^^^^^^^^^^\n",
      "  File \"/Users/viktorsvan/Python_koder/ingenjor_A_och_maskininlarnings_kod/LLM-DSPy-project/venv/lib/python3.11/site-packages/dspy/utils/parallelizer.py\", line 48, in execute\n",
      "    return self._execute_parallel(wrapped, data)\n",
      "           ^^^^^^^^^^^^^^^^^^^^^^^^^^^^^^^^^^^^^\n",
      "  File \"/Users/viktorsvan/Python_koder/ingenjor_A_och_maskininlarnings_kod/LLM-DSPy-project/venv/lib/python3.11/site-packages/dspy/utils/parallelizer.py\", line 163, in _execute_parallel\n",
      "    self._update_progress(pbar, sum(vals), len(vals))\n",
      "                                ^^^^^^^^^\n",
      "TypeError: unsupported operand type(s) for +: 'int' and 'SemanticF1'\n",
      "2025/05/18 07:26:39 INFO dspy.teleprompt.mipro_optimizer_v2: Full eval scores so far: [0.0, 0.0, 0.0]\n",
      "2025/05/18 07:26:39 INFO dspy.teleprompt.mipro_optimizer_v2: Best full score so far: 0.0\n",
      "2025/05/18 07:26:39 INFO dspy.teleprompt.mipro_optimizer_v2: =======================\n",
      "2025/05/18 07:26:39 INFO dspy.teleprompt.mipro_optimizer_v2: \n",
      "\n",
      "2025/05/18 07:26:39 INFO dspy.teleprompt.mipro_optimizer_v2: Returning best identified program with score 0.0!\n"
     ]
    },
    {
     "name": "stdout",
     "output_type": "stream",
     "text": [
      "  0%|          | 0/100 [00:00<?, ?it/s]\n",
      "  0%|          | 0/35 [00:00<?, ?it/s]\n"
     ]
    }
   ],
   "source": [
    "from dspy.teleprompt import MIPROv2\n",
    "\n",
    "optimizer = MIPROv2(\n",
    "    metric=SemanticF1, \n",
    "    num_threads=1\n",
    ")\n",
    "\n",
    "print(\"Optimizing zero-shot program MIPROv2...\")\n",
    "zero_shot_program = optimizer.compile(\n",
    "    model.deepcopy(),\n",
    "    trainset=trainset,\n",
    "    valset=valset,\n",
    "    requires_permission_to_run=False,\n",
    ")"
   ]
  }
 ],
 "metadata": {
  "kernelspec": {
   "display_name": "venv",
   "language": "python",
   "name": "python3"
  },
  "language_info": {
   "codemirror_mode": {
    "name": "ipython",
    "version": 3
   },
   "file_extension": ".py",
   "mimetype": "text/x-python",
   "name": "python",
   "nbconvert_exporter": "python",
   "pygments_lexer": "ipython3",
   "version": "3.11.5"
  }
 },
 "nbformat": 4,
 "nbformat_minor": 2
}
