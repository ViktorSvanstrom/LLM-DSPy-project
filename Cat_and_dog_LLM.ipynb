{
 "cells": [
  {
   "cell_type": "code",
   "execution_count": 23,
   "metadata": {},
   "outputs": [],
   "source": [
    "import os\n",
    "import dspy\n",
    "import mlflow\n",
    "import pandas as pd\n",
    "from dotenv import load_dotenv\n",
    "import kagglehub\n",
    "import ujson"
   ]
  },
  {
   "cell_type": "code",
   "execution_count": 24,
   "metadata": {},
   "outputs": [],
   "source": [
    "load_dotenv()\n",
    "\n",
    "openai_api_key = os.getenv(\"OPENAI_API_KEY\")\n",
    "lm = dspy.LM(\"gpt-4o\", api_key=openai_api_key)"
   ]
  },
  {
   "cell_type": "code",
   "execution_count": 25,
   "metadata": {},
   "outputs": [],
   "source": [
    "local_lm = dspy.LM(\"ollama_chat/llama3.2\", api_base=\"http://localhost:11434\", api_key=\"\")\n",
    "dspy.configure(lm=local_lm)"
   ]
  },
  {
   "cell_type": "code",
   "execution_count": 26,
   "metadata": {},
   "outputs": [],
   "source": [
    "class Chat(dspy.Signature):\n",
    "    \"You are a helpful assistant that answer questions about cats and dogs.\"\n",
    "    question: str = dspy.InputField(desc=\"Questions asked by the user\")\n",
    "    response: str = dspy.OutputField(desc=\"Response to the question\")\n",
    "\n",
    "class Model(dspy.Module):\n",
    "    def __init__(self):\n",
    "        super().__init__()\n",
    "        self.respond = dspy.ChainOfThought(Chat)\n",
    "\n",
    "    def forward(self, question: str):\n",
    "        return self.respond(question=question)"
   ]
  },
  {
   "cell_type": "code",
   "execution_count": 27,
   "metadata": {},
   "outputs": [],
   "source": [
    "model = Model()"
   ]
  },
  {
   "cell_type": "code",
   "execution_count": 28,
   "metadata": {},
   "outputs": [],
   "source": [
    "#mlflow ui --port 5000\n",
    "mlflow.set_tracking_uri(\"http://127.0.0.1:5000\")\n",
    "mlflow.set_experiment(\"DSPy\")\n",
    "mlflow.dspy.autolog()"
   ]
  },
  {
   "cell_type": "code",
   "execution_count": 29,
   "metadata": {},
   "outputs": [],
   "source": [
    "import logging\n",
    "logging.getLogger('mlflow').setLevel(logging.WARNING)"
   ]
  },
  {
   "cell_type": "markdown",
   "metadata": {},
   "source": [
    "Laddar ner dataset med beskrivning: \"Contains 583 unique questions and answers related to dogs and cats.\n",
    "It includes questions related to health, training, lifestyle, breeds and commonly asked questions.\""
   ]
  },
  {
   "cell_type": "code",
   "execution_count": 30,
   "metadata": {},
   "outputs": [],
   "source": [
    "path = kagglehub.dataset_download(\"bishnushahi/dog-cat-qa\")"
   ]
  },
  {
   "cell_type": "code",
   "execution_count": 31,
   "metadata": {},
   "outputs": [],
   "source": [
    "\n",
    "csv_path = os.path.join(path, 'Dog-Cat-QA.csv')"
   ]
  },
  {
   "cell_type": "code",
   "execution_count": 32,
   "metadata": {},
   "outputs": [
    {
     "name": "stdout",
     "output_type": "stream",
     "text": [
      "   Unnamed: 0  \\\n",
      "0           0   \n",
      "1           1   \n",
      "2           2   \n",
      "3           3   \n",
      "4           4   \n",
      "\n",
      "                                                                Question  \\\n",
      "0         What are some examples of breed-typical personalities in dogs?   \n",
      "1                      How do working and herding dogs typically behave?   \n",
      "2                       Which breed of dogs is known for strong loyalty?   \n",
      "3  What instincts do guarding dogs typically display, especially at a...   \n",
      "4  How does breed specificity impact a dog's ability to adapt to new ...   \n",
      "\n",
      "                                                                  Answer  \n",
      "0  Breed-typical personalities in dogs are developed through generati...  \n",
      "1  Working and herding dogs have business-like dispositions. They eva...  \n",
      "2        Collies and Akitas are known for their strong sense of loyalty.  \n",
      "3  Guarding dogs tend to be protective of their territories, even fro...  \n",
      "4  Breed specificity affects how well dogs adapt to new environments ...  \n"
     ]
    }
   ],
   "source": [
    "df = pd.read_csv(csv_path)\n",
    "df.head()"
   ]
  },
  {
   "cell_type": "code",
   "execution_count": 33,
   "metadata": {},
   "outputs": [
    {
     "name": "stdout",
     "output_type": "stream",
     "text": [
      "                                                                Question  \\\n",
      "0         What are some examples of breed-typical personalities in dogs?   \n",
      "1                      How do working and herding dogs typically behave?   \n",
      "2                       Which breed of dogs is known for strong loyalty?   \n",
      "3  What instincts do guarding dogs typically display, especially at a...   \n",
      "4  How does breed specificity impact a dog's ability to adapt to new ...   \n",
      "\n",
      "                                                                  Answer  \n",
      "0  Breed-typical personalities in dogs are developed through generati...  \n",
      "1  Working and herding dogs have business-like dispositions. They eva...  \n",
      "2        Collies and Akitas are known for their strong sense of loyalty.  \n",
      "3  Guarding dogs tend to be protective of their territories, even fro...  \n",
      "4  Breed specificity affects how well dogs adapt to new environments ...  \n"
     ]
    }
   ],
   "source": [
    "df = df.drop('Unnamed: 0', axis=1)\n",
    "print(df.head())"
   ]
  },
  {
   "cell_type": "code",
   "execution_count": 34,
   "metadata": {},
   "outputs": [],
   "source": [
    "df.columns = ['question', 'response']"
   ]
  },
  {
   "cell_type": "markdown",
   "metadata": {},
   "source": [
    "Gör om det till dictionary par:"
   ]
  },
  {
   "cell_type": "code",
   "execution_count": 35,
   "metadata": {},
   "outputs": [],
   "source": [
    "data = df.to_dict(orient='records')\n",
    "data = [dspy.Example(**d).with_inputs('question') for d in data]"
   ]
  },
  {
   "cell_type": "code",
   "execution_count": 36,
   "metadata": {},
   "outputs": [
    {
     "data": {
      "text/plain": [
       "Example({'question': 'Which breed of dogs is known for strong loyalty?', 'response': 'Collies and Akitas are known for their strong sense of loyalty.'}) (input_keys={'question'})"
      ]
     },
     "execution_count": 36,
     "metadata": {},
     "output_type": "execute_result"
    }
   ],
   "source": [
    "example = data[2]\n",
    "example"
   ]
  },
  {
   "cell_type": "markdown",
   "metadata": {},
   "source": [
    "Till skillnad från vanlig ML träning: Så ska man dela upp datasetet med 20 procent till träning och 80 procent till validering. \n",
    "\n",
    "\"For prompt optimizers in particular, it's often better to pass more validation than training.\n",
    "20% training and 80% validation."
   ]
  },
  {
   "cell_type": "code",
   "execution_count": 37,
   "metadata": {},
   "outputs": [
    {
     "name": "stdout",
     "output_type": "stream",
     "text": [
      "583\n"
     ]
    }
   ],
   "source": [
    "print(len(data))"
   ]
  },
  {
   "cell_type": "code",
   "execution_count": 38,
   "metadata": {},
   "outputs": [
    {
     "data": {
      "text/plain": [
       "(116, 350, 117)"
      ]
     },
     "execution_count": 38,
     "metadata": {},
     "output_type": "execute_result"
    }
   ],
   "source": [
    "import random\n",
    "\n",
    "random.Random(0).shuffle(data) \n",
    "\n",
    "trainset = data[:116]   # 20% \n",
    "valset   = data[116:466]  # 60% \n",
    "testset  = data[466:583]     # 20% \n",
    "\n",
    "len(trainset), len(valset), len(testset)"
   ]
  },
  {
   "cell_type": "markdown",
   "metadata": {},
   "source": [
    "Nu laddar jag in en Evaluation metric som i sig också är en DSPy module: "
   ]
  },
  {
   "cell_type": "code",
   "execution_count": 39,
   "metadata": {},
   "outputs": [],
   "source": [
    "from dspy.evaluate import SemanticF1"
   ]
  },
  {
   "cell_type": "code",
   "execution_count": 40,
   "metadata": {},
   "outputs": [
    {
     "name": "stdout",
     "output_type": "stream",
     "text": [
      "Question: \t Which breed of dogs is known for strong loyalty?\n",
      "\n",
      "Gold Response: \t Collies and Akitas are known for their strong sense of loyalty.\n",
      "\n",
      "Predicted Response: \t Some specific breeds that are known for strong loyalty include German Shepherds, Doberman Pinschers, and Rottweilers. These breeds have been bred for centuries to be protective of their families and territories, making them highly devoted companions.\n",
      "\n",
      "Semantic F1 Score: 0.86\n"
     ]
    },
    {
     "data": {
      "text/html": [
       "\n",
       "<div>\n",
       "  <style scoped>\n",
       "  button {\n",
       "    border: none;\n",
       "    border-radius: 4px;\n",
       "    background-color: rgb(34, 114, 180);\n",
       "    font-family: -apple-system, \"system-ui\", \"Segoe UI\", Roboto, \"Helvetica Neue\", Arial;\n",
       "    font-size: 13px;\n",
       "    color: white;\n",
       "    margin-top: 8px;\n",
       "    margin-bottom: 8px;\n",
       "    padding: 8px 16px;\n",
       "    cursor: pointer;\n",
       "  }\n",
       "  button:hover {\n",
       "    background-color: rgb(66, 153, 224);\n",
       "  }\n",
       "  </style>\n",
       "  <button\n",
       "    onclick=\"\n",
       "        const display = this.nextElementSibling.style.display;\n",
       "        const isCollapsed = display === 'none';\n",
       "        this.nextElementSibling.style.display = isCollapsed ? null : 'none';\n",
       "\n",
       "        const verb = isCollapsed ? 'Collapse' : 'Expand';\n",
       "        this.innerText = `${verb} MLflow Trace`;\n",
       "    \"\n",
       "  >Collapse MLflow Trace</button>\n",
       "  <iframe\n",
       "    id=\"trace-renderer\"\n",
       "    style=\"width: 100%; height: 500px; border: none; resize: vertical;\"\n",
       "    src=\"http://127.0.0.1:5000/static-files/lib/notebook-trace-renderer/index.html?trace_id=b211723051fd4c92bc3d92fb50d7e724&amp;experiment_id=666042206847725913&amp;trace_id=a61e7a02f0a44a099941c4561028db76&amp;experiment_id=666042206847725913&amp;version=2.22.0\"\n",
       "  />\n",
       "</div>\n"
      ],
      "text/plain": [
       "[Trace(request_id=b211723051fd4c92bc3d92fb50d7e724), Trace(request_id=a61e7a02f0a44a099941c4561028db76)]"
      ]
     },
     "metadata": {},
     "output_type": "display_data"
    }
   ],
   "source": [
    "metric = SemanticF1(decompositional=True)\n",
    "\n",
    "# Produce a prediction from our `cot` module, using the `example` above as input.\n",
    "pred = model(**example.inputs())\n",
    "\n",
    "# Compute the metric score for the prediction.\n",
    "score = metric(example, pred)\n",
    "\n",
    "print(f\"Question: \\t {example.question}\\n\")\n",
    "print(f\"Gold Response: \\t {example.response}\\n\")\n",
    "print(f\"Predicted Response: \\t {pred.response}\\n\")\n",
    "print(f\"Semantic F1 Score: {score:.2f}\")"
   ]
  },
  {
   "cell_type": "code",
   "execution_count": 41,
   "metadata": {},
   "outputs": [
    {
     "name": "stdout",
     "output_type": "stream",
     "text": [
      "\n",
      "\n",
      "\n",
      "\n",
      "\u001b[34m[2025-05-18T07:32:01.291338]\u001b[0m\n",
      "\n",
      "\u001b[31mSystem message:\u001b[0m\n",
      "\n",
      "Your input fields are:\n",
      "1. `question` (str)\n",
      "2. `ground_truth` (str)\n",
      "3. `system_response` (str)\n",
      "Your output fields are:\n",
      "1. `reasoning` (str)\n",
      "2. `ground_truth_key_ideas` (str): enumeration of key ideas in the ground truth\n",
      "3. `system_response_key_ideas` (str): enumeration of key ideas in the system response\n",
      "4. `discussion` (str): discussion of the overlap between ground truth and system response\n",
      "5. `recall` (float): fraction (out of 1.0) of ground truth covered by the system response\n",
      "6. `precision` (float): fraction (out of 1.0) of system response covered by the ground truth\n",
      "All interactions will be structured in the following way, with the appropriate values filled in.\n",
      "\n",
      "[[ ## question ## ]]\n",
      "{question}\n",
      "\n",
      "[[ ## ground_truth ## ]]\n",
      "{ground_truth}\n",
      "\n",
      "[[ ## system_response ## ]]\n",
      "{system_response}\n",
      "\n",
      "[[ ## reasoning ## ]]\n",
      "{reasoning}\n",
      "\n",
      "[[ ## ground_truth_key_ideas ## ]]\n",
      "{ground_truth_key_ideas}\n",
      "\n",
      "[[ ## system_response_key_ideas ## ]]\n",
      "{system_response_key_ideas}\n",
      "\n",
      "[[ ## discussion ## ]]\n",
      "{discussion}\n",
      "\n",
      "[[ ## recall ## ]]\n",
      "{recall}        # note: the value you produce must be a single float value\n",
      "\n",
      "[[ ## precision ## ]]\n",
      "{precision}        # note: the value you produce must be a single float value\n",
      "\n",
      "[[ ## completed ## ]]\n",
      "In adhering to this structure, your objective is: \n",
      "        Compare a system's response to the ground truth to compute recall and precision of key ideas.\n",
      "        You will first enumerate key ideas in each response, discuss their overlap, and then report recall and precision.\n",
      "\n",
      "\n",
      "\u001b[31mUser message:\u001b[0m\n",
      "\n",
      "[[ ## question ## ]]\n",
      "Which breed of dogs is known for strong loyalty?\n",
      "\n",
      "[[ ## ground_truth ## ]]\n",
      "Collies and Akitas are known for their strong sense of loyalty.\n",
      "\n",
      "[[ ## system_response ## ]]\n",
      "Some specific breeds that are known for strong loyalty include German Shepherds, Doberman Pinschers, and Rottweilers. These breeds have been bred for centuries to be protective of their families and territories, making them highly devoted companions.\n",
      "\n",
      "Respond with the corresponding output fields, starting with the field `[[ ## reasoning ## ]]`, then `[[ ## ground_truth_key_ideas ## ]]`, then `[[ ## system_response_key_ideas ## ]]`, then `[[ ## discussion ## ]]`, then `[[ ## recall ## ]]` (must be formatted as a valid Python float), then `[[ ## precision ## ]]` (must be formatted as a valid Python float), and then ending with the marker for `[[ ## completed ## ]]`.\n",
      "\n",
      "\n",
      "\u001b[31mResponse:\u001b[0m\n",
      "\n",
      "\u001b[32m[[ ## reasoning ## ]]\n",
      "The system response does not directly mention \"loyalty\" but rather \"protective of their families and territories\", which implies strong loyalty. However, it does list breeds known for strong loyalty.\n",
      "\n",
      "[[ ## ground_truth_key_ideas ## ]]\n",
      "Collies\n",
      "Akitas\n",
      "German Shepherds\n",
      "Doberman Pinschers\n",
      "Rottweilers\n",
      "\n",
      "[[ ## system_response_key_ideas ## ]]\n",
      "German Shepherds\n",
      "Doberman Pinschers\n",
      "Rottweilers\n",
      "\n",
      "[[ ## discussion ## ]]\n",
      "The key ideas in the ground truth are breeds known for strong loyalty, while the system response lists specific breeds that have been bred for centuries to be protective of their families and territories. The overlap between the two is German Shepherds, Doberman Pinschers, and Rottweilers.\n",
      "\n",
      "[[ ## recall ## ]]\n",
      "0.75\n",
      "\n",
      "[[ ## precision ## ]]\n",
      "1.0\n",
      "\n",
      "[[ ## completed ## ]]\u001b[0m\n",
      "\n",
      "\n",
      "\n",
      "\n",
      "\n"
     ]
    }
   ],
   "source": [
    "dspy.inspect_history(n=1)"
   ]
  },
  {
   "cell_type": "code",
   "execution_count": 42,
   "metadata": {},
   "outputs": [],
   "source": [
    "evaluate = dspy.Evaluate(devset=trainset, metric=metric,\n",
    "                         display_progress=True, display_table=2, )"
   ]
  },
  {
   "cell_type": "code",
   "execution_count": 43,
   "metadata": {},
   "outputs": [
    {
     "name": "stdout",
     "output_type": "stream",
     "text": [
      "Average Metric: 77.25 / 116 (66.6%): 100%|██████████| 116/116 [00:01<00:00, 64.49it/s]"
     ]
    },
    {
     "name": "stderr",
     "output_type": "stream",
     "text": [
      "2025/05/18 07:32:03 INFO dspy.evaluate.evaluate: Average Metric: 77.25493796462922 / 116 (66.6%)\n"
     ]
    },
    {
     "name": "stdout",
     "output_type": "stream",
     "text": [
      "\n"
     ]
    },
    {
     "data": {
      "text/html": [
       "<div>\n",
       "<style scoped>\n",
       "    .dataframe tbody tr th:only-of-type {\n",
       "        vertical-align: middle;\n",
       "    }\n",
       "\n",
       "    .dataframe tbody tr th {\n",
       "        vertical-align: top;\n",
       "    }\n",
       "\n",
       "    .dataframe thead th {\n",
       "        text-align: right;\n",
       "    }\n",
       "</style>\n",
       "<table border=\"1\" class=\"dataframe\">\n",
       "  <thead>\n",
       "    <tr style=\"text-align: right;\">\n",
       "      <th></th>\n",
       "      <th>question</th>\n",
       "      <th>example_response</th>\n",
       "      <th>reasoning</th>\n",
       "      <th>pred_response</th>\n",
       "      <th>SemanticF1</th>\n",
       "    </tr>\n",
       "  </thead>\n",
       "  <tbody>\n",
       "    <tr>\n",
       "      <th>0</th>\n",
       "      <td>Describe the distinctive appearance and temperament of the Birman ...</td>\n",
       "      <td>: The Birman cat is colorpointed with long silky hair and four pur...</td>\n",
       "      <td>The Birman cat is a breed known for its distinctive appearance and...</td>\n",
       "      <td>The Birman cat is a breed that combines striking appearance with a...</td>\n",
       "      <td>✔️ [0.774]</td>\n",
       "    </tr>\n",
       "    <tr>\n",
       "      <th>1</th>\n",
       "      <td>What other considerations should pet owners keep in mind when choo...</td>\n",
       "      <td>Pet owners should consider factors like cost, refrigeration requir...</td>\n",
       "      <td>When choosing between wet and dry cat food, pet owners should also...</td>\n",
       "      <td>When choosing between wet and dry cat food, consider your cat's in...</td>\n",
       "      <td>✔️ [0.667]</td>\n",
       "    </tr>\n",
       "  </tbody>\n",
       "</table>\n",
       "</div>"
      ],
      "text/plain": [
       "                                                                question  \\\n",
       "0  Describe the distinctive appearance and temperament of the Birman ...   \n",
       "1  What other considerations should pet owners keep in mind when choo...   \n",
       "\n",
       "                                                        example_response  \\\n",
       "0  : The Birman cat is colorpointed with long silky hair and four pur...   \n",
       "1  Pet owners should consider factors like cost, refrigeration requir...   \n",
       "\n",
       "                                                               reasoning  \\\n",
       "0  The Birman cat is a breed known for its distinctive appearance and...   \n",
       "1  When choosing between wet and dry cat food, pet owners should also...   \n",
       "\n",
       "                                                           pred_response  \\\n",
       "0  The Birman cat is a breed that combines striking appearance with a...   \n",
       "1  When choosing between wet and dry cat food, consider your cat's in...   \n",
       "\n",
       "   SemanticF1  \n",
       "0  ✔️ [0.774]  \n",
       "1  ✔️ [0.667]  "
      ]
     },
     "metadata": {},
     "output_type": "display_data"
    },
    {
     "data": {
      "text/html": [
       "\n",
       "            <div style='\n",
       "                text-align: center;\n",
       "                font-size: 16px;\n",
       "                font-weight: bold;\n",
       "                color: #555;\n",
       "                margin: 10px 0;'>\n",
       "                ... 114 more rows not displayed ...\n",
       "            </div>\n",
       "            "
      ],
      "text/plain": [
       "<IPython.core.display.HTML object>"
      ]
     },
     "metadata": {},
     "output_type": "display_data"
    },
    {
     "data": {
      "text/plain": [
       "66.6"
      ]
     },
     "execution_count": 43,
     "metadata": {},
     "output_type": "execute_result"
    },
    {
     "data": {
      "text/html": [
       "\n",
       "<div>\n",
       "  <style scoped>\n",
       "  button {\n",
       "    border: none;\n",
       "    border-radius: 4px;\n",
       "    background-color: rgb(34, 114, 180);\n",
       "    font-family: -apple-system, \"system-ui\", \"Segoe UI\", Roboto, \"Helvetica Neue\", Arial;\n",
       "    font-size: 13px;\n",
       "    color: white;\n",
       "    margin-top: 8px;\n",
       "    margin-bottom: 8px;\n",
       "    padding: 8px 16px;\n",
       "    cursor: pointer;\n",
       "  }\n",
       "  button:hover {\n",
       "    background-color: rgb(66, 153, 224);\n",
       "  }\n",
       "  </style>\n",
       "  <button\n",
       "    onclick=\"\n",
       "        const display = this.nextElementSibling.style.display;\n",
       "        const isCollapsed = display === 'none';\n",
       "        this.nextElementSibling.style.display = isCollapsed ? null : 'none';\n",
       "\n",
       "        const verb = isCollapsed ? 'Collapse' : 'Expand';\n",
       "        this.innerText = `${verb} MLflow Trace`;\n",
       "    \"\n",
       "  >Collapse MLflow Trace</button>\n",
       "  <iframe\n",
       "    id=\"trace-renderer\"\n",
       "    style=\"width: 100%; height: 500px; border: none; resize: vertical;\"\n",
       "    src=\"http://127.0.0.1:5000/static-files/lib/notebook-trace-renderer/index.html?trace_id=8a92822199e84424a636726af5a2f3e4&amp;experiment_id=666042206847725913&amp;trace_id=837e1823b9fc4e8285d7e8eae474f8e7&amp;experiment_id=666042206847725913&amp;trace_id=10fd1d06a6a04bbd87b7cb6d59bb8194&amp;experiment_id=666042206847725913&amp;trace_id=3be3f884728c4581a952321438bbb0ad&amp;experiment_id=666042206847725913&amp;trace_id=8e664abc811d42cd80bcf058a08b7b81&amp;experiment_id=666042206847725913&amp;trace_id=ccf6c4ed580248a9aed6ff575e48c892&amp;experiment_id=666042206847725913&amp;trace_id=0807c9c83efb489a8342e0bbecca51e6&amp;experiment_id=666042206847725913&amp;trace_id=775f6465c8be4c4e945982c9fba941e1&amp;experiment_id=666042206847725913&amp;trace_id=426ff262c07d4fb0ae0a6be139ef8cfb&amp;experiment_id=666042206847725913&amp;trace_id=bc0a1263f98846c98612eb24871bf7e8&amp;experiment_id=666042206847725913&amp;version=2.22.0\"\n",
       "  />\n",
       "</div>\n"
      ],
      "text/plain": [
       "[Trace(request_id=8a92822199e84424a636726af5a2f3e4), Trace(request_id=837e1823b9fc4e8285d7e8eae474f8e7), Trace(request_id=10fd1d06a6a04bbd87b7cb6d59bb8194), Trace(request_id=3be3f884728c4581a952321438bbb0ad), Trace(request_id=8e664abc811d42cd80bcf058a08b7b81), Trace(request_id=ccf6c4ed580248a9aed6ff575e48c892), Trace(request_id=0807c9c83efb489a8342e0bbecca51e6), Trace(request_id=775f6465c8be4c4e945982c9fba941e1), Trace(request_id=426ff262c07d4fb0ae0a6be139ef8cfb), Trace(request_id=bc0a1263f98846c98612eb24871bf7e8)]"
      ]
     },
     "metadata": {},
     "output_type": "display_data"
    }
   ],
   "source": [
    "evaluate(model)"
   ]
  },
  {
   "cell_type": "code",
   "execution_count": null,
   "metadata": {},
   "outputs": [],
   "source": [
    "from dspy.teleprompt import MIPROv2\n",
    "\n",
    "optimizer = MIPROv2(\n",
    "    metric=metric, \n",
    "    num_threads=1\n",
    ")\n",
    "\n",
    "print(\"Optimizing zero-shot program MIPROv2...\")\n",
    "zero_shot_program = optimizer.compile(\n",
    "    model.deepcopy(),\n",
    "    trainset=trainset,\n",
    "    valset=valset,\n",
    "    requires_permission_to_run=False,\n",
    ")"
   ]
  }
 ],
 "metadata": {
  "kernelspec": {
   "display_name": "venv",
   "language": "python",
   "name": "python3"
  },
  "language_info": {
   "codemirror_mode": {
    "name": "ipython",
    "version": 3
   },
   "file_extension": ".py",
   "mimetype": "text/x-python",
   "name": "python",
   "nbconvert_exporter": "python",
   "pygments_lexer": "ipython3",
   "version": "3.11.5"
  }
 },
 "nbformat": 4,
 "nbformat_minor": 2
}
